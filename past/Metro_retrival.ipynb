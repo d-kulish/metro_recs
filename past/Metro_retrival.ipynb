{
  "nbformat": 4,
  "nbformat_minor": 0,
  "metadata": {
    "colab": {
      "provenance": [],
      "gpuType": "A100",
      "machine_shape": "hm",
      "collapsed_sections": [
        "XUTFwRZ7vemM",
        "bUh72FtJvg9x",
        "JBLqMa0Oye7Y",
        "kUDWP46c0qP9",
        "p4kWIi3c1YP1",
        "OWoc2Bi01l45",
        "rp2DlAzo1njS",
        "pvi-g_hQ16ak",
        "0xl2eqwz2Hnf",
        "KJSWEVue2Zfh",
        "K-9yuQPL3PKg",
        "-vQFDpWjgimn",
        "nQar2jxVgrIh",
        "mPRSTNgogv59",
        "eIi5vxsZgzQa",
        "Of0bek2Sg1YI",
        "s2L34o-Qg4hd",
        "_87TuNYNg8bE"
      ]
    },
    "kernelspec": {
      "name": "python3",
      "display_name": "Python 3"
    },
    "language_info": {
      "name": "python"
    },
    "accelerator": "GPU"
  },
  "cells": [
    {
      "cell_type": "markdown",
      "source": [
        "# Setting up"
      ],
      "metadata": {
        "id": "XUTFwRZ7vemM"
      }
    },
    {
      "cell_type": "code",
      "source": [
        "!pip install tensorflow-recommenders --no-deps"
      ],
      "metadata": {
        "colab": {
          "base_uri": "https://localhost:8080/"
        },
        "id": "kTcJPqO8xbP1",
        "outputId": "603ab93e-80eb-4045-a546-f15af7b2b945"
      },
      "execution_count": null,
      "outputs": [
        {
          "output_type": "stream",
          "name": "stdout",
          "text": [
            "Collecting tensorflow-recommenders\n",
            "  Downloading tensorflow_recommenders-0.7.3-py3-none-any.whl.metadata (4.6 kB)\n",
            "Downloading tensorflow_recommenders-0.7.3-py3-none-any.whl (96 kB)\n",
            "\u001b[?25l   \u001b[90m━━━━━━━━━━━━━━━━━━━━━━━━━━━━━━━━━━━━━━━━\u001b[0m \u001b[32m0.0/96.2 kB\u001b[0m \u001b[31m?\u001b[0m eta \u001b[36m-:--:--\u001b[0m\r\u001b[2K   \u001b[91m━━━━━━━━━━━━━━━━━━━━━━━━━━━━━━━━━━━━━━\u001b[0m\u001b[90m╺\u001b[0m\u001b[90m━\u001b[0m \u001b[32m92.2/96.2 kB\u001b[0m \u001b[31m2.5 MB/s\u001b[0m eta \u001b[36m0:00:01\u001b[0m\r\u001b[2K   \u001b[90m━━━━━━━━━━━━━━━━━━━━━━━━━━━━━━━━━━━━━━━━\u001b[0m \u001b[32m96.2/96.2 kB\u001b[0m \u001b[31m1.8 MB/s\u001b[0m eta \u001b[36m0:00:00\u001b[0m\n",
            "\u001b[?25hInstalling collected packages: tensorflow-recommenders\n",
            "Successfully installed tensorflow-recommenders-0.7.3\n"
          ]
        }
      ]
    },
    {
      "cell_type": "code",
      "source": [
        "!pip install tensorflow==2.11.0"
      ],
      "metadata": {
        "colab": {
          "base_uri": "https://localhost:8080/",
          "height": 1000
        },
        "id": "EXmru3uHKTNb",
        "outputId": "73f21066-04f1-44fc-fe7a-d66ca5a5addc"
      },
      "execution_count": null,
      "outputs": [
        {
          "output_type": "stream",
          "name": "stdout",
          "text": [
            "Collecting tensorflow==2.11.0\n",
            "  Downloading tensorflow-2.11.0-cp310-cp310-manylinux_2_17_x86_64.manylinux2014_x86_64.whl.metadata (3.1 kB)\n",
            "Requirement already satisfied: absl-py>=1.0.0 in /usr/local/lib/python3.10/dist-packages (from tensorflow==2.11.0) (1.4.0)\n",
            "Requirement already satisfied: astunparse>=1.6.0 in /usr/local/lib/python3.10/dist-packages (from tensorflow==2.11.0) (1.6.3)\n",
            "Requirement already satisfied: flatbuffers>=2.0 in /usr/local/lib/python3.10/dist-packages (from tensorflow==2.11.0) (24.3.25)\n",
            "Collecting gast<=0.4.0,>=0.2.1 (from tensorflow==2.11.0)\n",
            "  Downloading gast-0.4.0-py3-none-any.whl.metadata (1.1 kB)\n",
            "Requirement already satisfied: google-pasta>=0.1.1 in /usr/local/lib/python3.10/dist-packages (from tensorflow==2.11.0) (0.2.0)\n",
            "Requirement already satisfied: grpcio<2.0,>=1.24.3 in /usr/local/lib/python3.10/dist-packages (from tensorflow==2.11.0) (1.64.1)\n",
            "Requirement already satisfied: h5py>=2.9.0 in /usr/local/lib/python3.10/dist-packages (from tensorflow==2.11.0) (3.12.1)\n",
            "Collecting keras<2.12,>=2.11.0 (from tensorflow==2.11.0)\n",
            "  Downloading keras-2.11.0-py2.py3-none-any.whl.metadata (1.4 kB)\n",
            "Requirement already satisfied: libclang>=13.0.0 in /usr/local/lib/python3.10/dist-packages (from tensorflow==2.11.0) (18.1.1)\n",
            "Requirement already satisfied: numpy>=1.20 in /usr/local/lib/python3.10/dist-packages (from tensorflow==2.11.0) (1.26.4)\n",
            "Requirement already satisfied: opt-einsum>=2.3.2 in /usr/local/lib/python3.10/dist-packages (from tensorflow==2.11.0) (3.4.0)\n",
            "Requirement already satisfied: packaging in /usr/local/lib/python3.10/dist-packages (from tensorflow==2.11.0) (24.1)\n",
            "Collecting protobuf<3.20,>=3.9.2 (from tensorflow==2.11.0)\n",
            "  Downloading protobuf-3.19.6-cp310-cp310-manylinux_2_17_x86_64.manylinux2014_x86_64.whl.metadata (787 bytes)\n",
            "Requirement already satisfied: setuptools in /usr/local/lib/python3.10/dist-packages (from tensorflow==2.11.0) (75.1.0)\n",
            "Requirement already satisfied: six>=1.12.0 in /usr/local/lib/python3.10/dist-packages (from tensorflow==2.11.0) (1.16.0)\n",
            "Collecting tensorboard<2.12,>=2.11 (from tensorflow==2.11.0)\n",
            "  Downloading tensorboard-2.11.2-py3-none-any.whl.metadata (1.9 kB)\n",
            "Collecting tensorflow-estimator<2.12,>=2.11.0 (from tensorflow==2.11.0)\n",
            "  Downloading tensorflow_estimator-2.11.0-py2.py3-none-any.whl.metadata (1.3 kB)\n",
            "Requirement already satisfied: termcolor>=1.1.0 in /usr/local/lib/python3.10/dist-packages (from tensorflow==2.11.0) (2.5.0)\n",
            "Requirement already satisfied: typing-extensions>=3.6.6 in /usr/local/lib/python3.10/dist-packages (from tensorflow==2.11.0) (4.12.2)\n",
            "Requirement already satisfied: wrapt>=1.11.0 in /usr/local/lib/python3.10/dist-packages (from tensorflow==2.11.0) (1.16.0)\n",
            "Requirement already satisfied: tensorflow-io-gcs-filesystem>=0.23.1 in /usr/local/lib/python3.10/dist-packages (from tensorflow==2.11.0) (0.37.1)\n",
            "Requirement already satisfied: wheel<1.0,>=0.23.0 in /usr/local/lib/python3.10/dist-packages (from astunparse>=1.6.0->tensorflow==2.11.0) (0.44.0)\n",
            "Requirement already satisfied: google-auth<3,>=1.6.3 in /usr/local/lib/python3.10/dist-packages (from tensorboard<2.12,>=2.11->tensorflow==2.11.0) (2.27.0)\n",
            "Collecting google-auth-oauthlib<0.5,>=0.4.1 (from tensorboard<2.12,>=2.11->tensorflow==2.11.0)\n",
            "  Downloading google_auth_oauthlib-0.4.6-py2.py3-none-any.whl.metadata (2.7 kB)\n",
            "Requirement already satisfied: markdown>=2.6.8 in /usr/local/lib/python3.10/dist-packages (from tensorboard<2.12,>=2.11->tensorflow==2.11.0) (3.7)\n",
            "Requirement already satisfied: requests<3,>=2.21.0 in /usr/local/lib/python3.10/dist-packages (from tensorboard<2.12,>=2.11->tensorflow==2.11.0) (2.32.3)\n",
            "Collecting tensorboard-data-server<0.7.0,>=0.6.0 (from tensorboard<2.12,>=2.11->tensorflow==2.11.0)\n",
            "  Downloading tensorboard_data_server-0.6.1-py3-none-manylinux2010_x86_64.whl.metadata (1.1 kB)\n",
            "Collecting tensorboard-plugin-wit>=1.6.0 (from tensorboard<2.12,>=2.11->tensorflow==2.11.0)\n",
            "  Downloading tensorboard_plugin_wit-1.8.1-py3-none-any.whl.metadata (873 bytes)\n",
            "Requirement already satisfied: werkzeug>=1.0.1 in /usr/local/lib/python3.10/dist-packages (from tensorboard<2.12,>=2.11->tensorflow==2.11.0) (3.0.6)\n",
            "Requirement already satisfied: cachetools<6.0,>=2.0.0 in /usr/local/lib/python3.10/dist-packages (from google-auth<3,>=1.6.3->tensorboard<2.12,>=2.11->tensorflow==2.11.0) (5.5.0)\n",
            "Requirement already satisfied: pyasn1-modules>=0.2.1 in /usr/local/lib/python3.10/dist-packages (from google-auth<3,>=1.6.3->tensorboard<2.12,>=2.11->tensorflow==2.11.0) (0.4.1)\n",
            "Requirement already satisfied: rsa<5,>=3.1.4 in /usr/local/lib/python3.10/dist-packages (from google-auth<3,>=1.6.3->tensorboard<2.12,>=2.11->tensorflow==2.11.0) (4.9)\n",
            "Requirement already satisfied: requests-oauthlib>=0.7.0 in /usr/local/lib/python3.10/dist-packages (from google-auth-oauthlib<0.5,>=0.4.1->tensorboard<2.12,>=2.11->tensorflow==2.11.0) (1.3.1)\n",
            "Requirement already satisfied: charset-normalizer<4,>=2 in /usr/local/lib/python3.10/dist-packages (from requests<3,>=2.21.0->tensorboard<2.12,>=2.11->tensorflow==2.11.0) (3.4.0)\n",
            "Requirement already satisfied: idna<4,>=2.5 in /usr/local/lib/python3.10/dist-packages (from requests<3,>=2.21.0->tensorboard<2.12,>=2.11->tensorflow==2.11.0) (3.10)\n",
            "Requirement already satisfied: urllib3<3,>=1.21.1 in /usr/local/lib/python3.10/dist-packages (from requests<3,>=2.21.0->tensorboard<2.12,>=2.11->tensorflow==2.11.0) (2.2.3)\n",
            "Requirement already satisfied: certifi>=2017.4.17 in /usr/local/lib/python3.10/dist-packages (from requests<3,>=2.21.0->tensorboard<2.12,>=2.11->tensorflow==2.11.0) (2024.8.30)\n",
            "Requirement already satisfied: MarkupSafe>=2.1.1 in /usr/local/lib/python3.10/dist-packages (from werkzeug>=1.0.1->tensorboard<2.12,>=2.11->tensorflow==2.11.0) (3.0.2)\n",
            "Requirement already satisfied: pyasn1<0.7.0,>=0.4.6 in /usr/local/lib/python3.10/dist-packages (from pyasn1-modules>=0.2.1->google-auth<3,>=1.6.3->tensorboard<2.12,>=2.11->tensorflow==2.11.0) (0.6.1)\n",
            "Requirement already satisfied: oauthlib>=3.0.0 in /usr/local/lib/python3.10/dist-packages (from requests-oauthlib>=0.7.0->google-auth-oauthlib<0.5,>=0.4.1->tensorboard<2.12,>=2.11->tensorflow==2.11.0) (3.2.2)\n",
            "Downloading tensorflow-2.11.0-cp310-cp310-manylinux_2_17_x86_64.manylinux2014_x86_64.whl (588.3 MB)\n",
            "\u001b[2K   \u001b[90m━━━━━━━━━━━━━━━━━━━━━━━━━━━━━━━━━━━━━━━━\u001b[0m \u001b[32m588.3/588.3 MB\u001b[0m \u001b[31m1.9 MB/s\u001b[0m eta \u001b[36m0:00:00\u001b[0m\n",
            "\u001b[?25hDownloading gast-0.4.0-py3-none-any.whl (9.8 kB)\n",
            "Downloading keras-2.11.0-py2.py3-none-any.whl (1.7 MB)\n",
            "\u001b[2K   \u001b[90m━━━━━━━━━━━━━━━━━━━━━━━━━━━━━━━━━━━━━━━━\u001b[0m \u001b[32m1.7/1.7 MB\u001b[0m \u001b[31m76.1 MB/s\u001b[0m eta \u001b[36m0:00:00\u001b[0m\n",
            "\u001b[?25hDownloading protobuf-3.19.6-cp310-cp310-manylinux_2_17_x86_64.manylinux2014_x86_64.whl (1.1 MB)\n",
            "\u001b[2K   \u001b[90m━━━━━━━━━━━━━━━━━━━━━━━━━━━━━━━━━━━━━━━━\u001b[0m \u001b[32m1.1/1.1 MB\u001b[0m \u001b[31m61.8 MB/s\u001b[0m eta \u001b[36m0:00:00\u001b[0m\n",
            "\u001b[?25hDownloading tensorboard-2.11.2-py3-none-any.whl (6.0 MB)\n",
            "\u001b[2K   \u001b[90m━━━━━━━━━━━━━━━━━━━━━━━━━━━━━━━━━━━━━━━━\u001b[0m \u001b[32m6.0/6.0 MB\u001b[0m \u001b[31m105.6 MB/s\u001b[0m eta \u001b[36m0:00:00\u001b[0m\n",
            "\u001b[?25hDownloading tensorflow_estimator-2.11.0-py2.py3-none-any.whl (439 kB)\n",
            "\u001b[2K   \u001b[90m━━━━━━━━━━━━━━━━━━━━━━━━━━━━━━━━━━━━━━━━\u001b[0m \u001b[32m439.2/439.2 kB\u001b[0m \u001b[31m32.7 MB/s\u001b[0m eta \u001b[36m0:00:00\u001b[0m\n",
            "\u001b[?25hDownloading google_auth_oauthlib-0.4.6-py2.py3-none-any.whl (18 kB)\n",
            "Downloading tensorboard_data_server-0.6.1-py3-none-manylinux2010_x86_64.whl (4.9 MB)\n",
            "\u001b[2K   \u001b[90m━━━━━━━━━━━━━━━━━━━━━━━━━━━━━━━━━━━━━━━━\u001b[0m \u001b[32m4.9/4.9 MB\u001b[0m \u001b[31m106.7 MB/s\u001b[0m eta \u001b[36m0:00:00\u001b[0m\n",
            "\u001b[?25hDownloading tensorboard_plugin_wit-1.8.1-py3-none-any.whl (781 kB)\n",
            "\u001b[2K   \u001b[90m━━━━━━━━━━━━━━━━━━━━━━━━━━━━━━━━━━━━━━━━\u001b[0m \u001b[32m781.3/781.3 kB\u001b[0m \u001b[31m53.0 MB/s\u001b[0m eta \u001b[36m0:00:00\u001b[0m\n",
            "\u001b[?25hInstalling collected packages: tensorboard-plugin-wit, tensorflow-estimator, tensorboard-data-server, protobuf, keras, gast, google-auth-oauthlib, tensorboard, tensorflow\n",
            "  Attempting uninstall: tensorboard-data-server\n",
            "    Found existing installation: tensorboard-data-server 0.7.2\n",
            "    Uninstalling tensorboard-data-server-0.7.2:\n",
            "      Successfully uninstalled tensorboard-data-server-0.7.2\n",
            "  Attempting uninstall: protobuf\n",
            "    Found existing installation: protobuf 3.20.3\n",
            "    Uninstalling protobuf-3.20.3:\n",
            "      Successfully uninstalled protobuf-3.20.3\n",
            "  Attempting uninstall: keras\n",
            "    Found existing installation: keras 3.4.1\n",
            "    Uninstalling keras-3.4.1:\n",
            "      Successfully uninstalled keras-3.4.1\n",
            "  Attempting uninstall: gast\n",
            "    Found existing installation: gast 0.6.0\n",
            "    Uninstalling gast-0.6.0:\n",
            "      Successfully uninstalled gast-0.6.0\n",
            "  Attempting uninstall: google-auth-oauthlib\n",
            "    Found existing installation: google-auth-oauthlib 1.2.1\n",
            "    Uninstalling google-auth-oauthlib-1.2.1:\n",
            "      Successfully uninstalled google-auth-oauthlib-1.2.1\n",
            "  Attempting uninstall: tensorboard\n",
            "    Found existing installation: tensorboard 2.17.0\n",
            "    Uninstalling tensorboard-2.17.0:\n",
            "      Successfully uninstalled tensorboard-2.17.0\n",
            "  Attempting uninstall: tensorflow\n",
            "    Found existing installation: tensorflow 2.17.0\n",
            "    Uninstalling tensorflow-2.17.0:\n",
            "      Successfully uninstalled tensorflow-2.17.0\n",
            "\u001b[31mERROR: pip's dependency resolver does not currently take into account all the packages that are installed. This behaviour is the source of the following dependency conflicts.\n",
            "google-ai-generativelanguage 0.6.10 requires protobuf!=4.21.0,!=4.21.1,!=4.21.2,!=4.21.3,!=4.21.4,!=4.21.5,<6.0.0dev,>=3.20.2, but you have protobuf 3.19.6 which is incompatible.\n",
            "google-cloud-aiplatform 1.70.0 requires protobuf!=4.21.0,!=4.21.1,!=4.21.2,!=4.21.3,!=4.21.4,!=4.21.5,<6.0.0dev,>=3.20.2, but you have protobuf 3.19.6 which is incompatible.\n",
            "google-cloud-bigquery-connection 1.15.5 requires protobuf!=4.21.0,!=4.21.1,!=4.21.2,!=4.21.3,!=4.21.4,!=4.21.5,<6.0.0dev,>=3.20.2, but you have protobuf 3.19.6 which is incompatible.\n",
            "google-cloud-bigquery-storage 2.27.0 requires protobuf!=3.20.0,!=3.20.1,!=4.21.0,!=4.21.1,!=4.21.2,!=4.21.3,!=4.21.4,!=4.21.5,<6.0.0dev,>=3.20.2, but you have protobuf 3.19.6 which is incompatible.\n",
            "google-cloud-bigtable 2.26.0 requires protobuf!=4.21.0,!=4.21.1,!=4.21.2,!=4.21.3,!=4.21.4,!=4.21.5,<6.0.0dev,>=3.20.2, but you have protobuf 3.19.6 which is incompatible.\n",
            "google-cloud-functions 1.16.5 requires protobuf!=4.21.0,!=4.21.1,!=4.21.2,!=4.21.3,!=4.21.4,!=4.21.5,<6.0.0dev,>=3.20.2, but you have protobuf 3.19.6 which is incompatible.\n",
            "google-cloud-iam 2.16.0 requires protobuf!=4.21.0,!=4.21.1,!=4.21.2,!=4.21.3,!=4.21.4,!=4.21.5,<6.0.0dev,>=3.20.2, but you have protobuf 3.19.6 which is incompatible.\n",
            "google-cloud-language 2.13.4 requires protobuf!=4.21.0,!=4.21.1,!=4.21.2,!=4.21.3,!=4.21.4,!=4.21.5,<6.0.0dev,>=3.20.2, but you have protobuf 3.19.6 which is incompatible.\n",
            "google-cloud-pubsub 2.25.0 requires protobuf!=4.21.0,!=4.21.1,!=4.21.2,!=4.21.3,!=4.21.4,!=4.21.5,<6.0.0dev,>=3.20.2, but you have protobuf 3.19.6 which is incompatible.\n",
            "google-cloud-resource-manager 1.13.0 requires protobuf!=4.21.0,!=4.21.1,!=4.21.2,!=4.21.3,!=4.21.4,!=4.21.5,<6.0.0dev,>=3.20.2, but you have protobuf 3.19.6 which is incompatible.\n",
            "google-cloud-translate 3.15.5 requires protobuf!=4.21.0,!=4.21.1,!=4.21.2,!=4.21.3,!=4.21.4,!=4.21.5,<6.0.0dev,>=3.20.2, but you have protobuf 3.19.6 which is incompatible.\n",
            "googleapis-common-protos 1.65.0 requires protobuf!=3.20.0,!=3.20.1,!=4.21.1,!=4.21.2,!=4.21.3,!=4.21.4,!=4.21.5,<6.0.0.dev0,>=3.20.2, but you have protobuf 3.19.6 which is incompatible.\n",
            "grpc-google-iam-v1 0.13.1 requires protobuf!=4.21.1,!=4.21.2,!=4.21.3,!=4.21.4,!=4.21.5,<6.0.0dev,>=3.20.2, but you have protobuf 3.19.6 which is incompatible.\n",
            "pandas-gbq 0.24.0 requires google-auth-oauthlib>=0.7.0, but you have google-auth-oauthlib 0.4.6 which is incompatible.\n",
            "tensorflow-datasets 4.9.6 requires protobuf>=3.20, but you have protobuf 3.19.6 which is incompatible.\n",
            "tensorflow-metadata 1.16.1 requires protobuf<4.21,>=3.20.3; python_version < \"3.11\", but you have protobuf 3.19.6 which is incompatible.\n",
            "tf-keras 2.17.0 requires tensorflow<2.18,>=2.17, but you have tensorflow 2.11.0 which is incompatible.\u001b[0m\u001b[31m\n",
            "\u001b[0mSuccessfully installed gast-0.4.0 google-auth-oauthlib-0.4.6 keras-2.11.0 protobuf-3.19.6 tensorboard-2.11.2 tensorboard-data-server-0.6.1 tensorboard-plugin-wit-1.8.1 tensorflow-2.11.0 tensorflow-estimator-2.11.0\n"
          ]
        },
        {
          "output_type": "display_data",
          "data": {
            "application/vnd.colab-display-data+json": {
              "pip_warning": {
                "packages": [
                  "google"
                ]
              },
              "id": "071c46b53a5546f893bf6fe34ca32bd3"
            }
          },
          "metadata": {}
        }
      ]
    },
    {
      "cell_type": "code",
      "execution_count": null,
      "metadata": {
        "id": "DBhpp02mvcXl",
        "colab": {
          "base_uri": "https://localhost:8080/"
        },
        "outputId": "85e2a928-b2c1-47c8-c334-ca9b22fe8482"
      },
      "outputs": [
        {
          "output_type": "stream",
          "name": "stdout",
          "text": [
            "v0.7.3\n",
            "2.11.0\n"
          ]
        }
      ],
      "source": [
        "import pandas as pd\n",
        "import tensorflow as tf\n",
        "import os\n",
        "import glob\n",
        "import numpy as np\n",
        "import tensorflow_recommenders as tfrs\n",
        "import matplotlib.pyplot as plt\n",
        "from typing import Dict, Text\n",
        "import datetime as dt\n",
        "import pickle\n",
        "import random\n",
        "\n",
        "print(tfrs.__version__)\n",
        "print(tf.__version__)"
      ]
    },
    {
      "cell_type": "markdown",
      "source": [
        "# Data"
      ],
      "metadata": {
        "id": "bUh72FtJvg9x"
      }
    },
    {
      "cell_type": "code",
      "source": [
        "result = pd.read_csv('/content/drive/MyDrive/Work/C4R/Metro/Data/ml_300.csv')\n",
        "\n",
        "result.shape"
      ],
      "metadata": {
        "id": "kvR2mxFuvi27",
        "colab": {
          "base_uri": "https://localhost:8080/"
        },
        "outputId": "e81ced07-4014-49ca-db55-e3aac6a3a970"
      },
      "execution_count": null,
      "outputs": [
        {
          "output_type": "execute_result",
          "data": {
            "text/plain": [
              "(8096818, 12)"
            ]
          },
          "metadata": {},
          "execution_count": 2
        }
      ]
    },
    {
      "cell_type": "code",
      "source": [
        "print(result['city'].unique())"
      ],
      "metadata": {
        "colab": {
          "base_uri": "https://localhost:8080/"
        },
        "id": "JJGBf50EdCug",
        "outputId": "9344eb3e-18a0-4238-de18-43c5e050eb8c"
      },
      "execution_count": null,
      "outputs": [
        {
          "output_type": "stream",
          "name": "stdout",
          "text": [
            "['KYIV' 'ODESA' 'KHARKIV' 'DNIPROPETROVSK' 'LVIV' 'ZAPORIZHZHYA'\n",
            " 'KRYVYY RIH' 'VINNYTSYA' 'MYKOLAIV' 'POLTAVA' 'IVANO-FRANKIVSK'\n",
            " 'CHERNIVTSI' 'RIVNE' 'ZHYTOMYR' 'LUTSK' 'TERNOPIL' 'CHERNIGIV']\n"
          ]
        }
      ]
    },
    {
      "cell_type": "code",
      "source": [
        "# result = result.loc[(result['city'] == 'KYIV')]\n",
        "\n",
        "result[['cust_person_id', 'product_id']] = result[['cust_person_id', 'product_id']].astype(str)\n",
        "result[['visits', 'sell_total_val_nsp', 'sell_val_nsp']] = result[['visits', 'sell_total_val_nsp', 'sell_val_nsp']].fillna(0)\n",
        "result[['visits', 'sell_total_val_nsp', 'sell_val_nsp']] = result[['visits', 'sell_total_val_nsp', 'sell_val_nsp']].astype(int)\n",
        "result[['SEGMENT_GROUP']] = result[['SEGMENT_GROUP']].fillna('unknown')\n",
        "\n",
        "print(result.shape)\n",
        "result.tail()"
      ],
      "metadata": {
        "colab": {
          "base_uri": "https://localhost:8080/",
          "height": 328
        },
        "collapsed": true,
        "id": "j6J4hpH6zG0N",
        "outputId": "23ae5ed3-7507-4bc9-dda3-7fb68e754e50"
      },
      "execution_count": null,
      "outputs": [
        {
          "output_type": "stream",
          "name": "stdout",
          "text": [
            "(8096818, 12)\n"
          ]
        },
        {
          "output_type": "execute_result",
          "data": {
            "text/plain": [
              "         Unnamed: 0  store_id cust_person_id    product_id  sell_val_nsp  \\\n",
              "8096813     9475995        67   670100000315  384191001001            62   \n",
              "8096814     9475996        67   870100000315  318757001001            91   \n",
              "8096815     9475997        67   870100000315  327947001001           166   \n",
              "8096816     9475998        67   870100000315  377016001001           333   \n",
              "8096817     9475999        67   870100000315  400556001001            66   \n",
              "\n",
              "                            SEGMENT_GROUP  visits  sell_total_val_nsp  \\\n",
              "8096813                  Core (benchmark)      13               29762   \n",
              "8096814  Convenience shopper small basket       9               10545   \n",
              "8096815  Convenience shopper small basket       9               10545   \n",
              "8096816  Convenience shopper small basket       9               10545   \n",
              "8096817  Convenience shopper small basket       9               10545   \n",
              "\n",
              "              city                                        art_name_tl  \\\n",
              "8096813  CHERNIGIV  MC SALTED ATLANTIC HERRING FILLETS WITH HERBS ...   \n",
              "8096814  CHERNIGIV                      ARO OILFISH COLD CMOKED 180 G   \n",
              "8096815  CHERNIGIV          SLICED SERRANO HAM 100GR - INERT GAS TRAY   \n",
              "8096816  CHERNIGIV                    BEER LVIVSKE SVITLE , CAN 0.48L   \n",
              "8096817  CHERNIGIV                             ARO SALMON SMOKED 130G   \n",
              "\n",
              "          pcg_cat_desc_tl pcg_sub_cat_desc_tl  \n",
              "8096813          HERRINGS            IN BRINE  \n",
              "8096814  OTHER FISH TYPES    OTHER FISH TYPES  \n",
              "8096815   SPANISH RAW HAM      IBERICO SLICED  \n",
              "8096816           PILSNER       CAN 0 - 50 cl  \n",
              "8096817  NORWEGEAN SALMON       CRUMBS/CHUNKS  "
            ],
            "text/html": [
              "\n",
              "  <div id=\"df-9425dff3-2a86-442e-b442-4ceed459fb76\" class=\"colab-df-container\">\n",
              "    <div>\n",
              "<style scoped>\n",
              "    .dataframe tbody tr th:only-of-type {\n",
              "        vertical-align: middle;\n",
              "    }\n",
              "\n",
              "    .dataframe tbody tr th {\n",
              "        vertical-align: top;\n",
              "    }\n",
              "\n",
              "    .dataframe thead th {\n",
              "        text-align: right;\n",
              "    }\n",
              "</style>\n",
              "<table border=\"1\" class=\"dataframe\">\n",
              "  <thead>\n",
              "    <tr style=\"text-align: right;\">\n",
              "      <th></th>\n",
              "      <th>Unnamed: 0</th>\n",
              "      <th>store_id</th>\n",
              "      <th>cust_person_id</th>\n",
              "      <th>product_id</th>\n",
              "      <th>sell_val_nsp</th>\n",
              "      <th>SEGMENT_GROUP</th>\n",
              "      <th>visits</th>\n",
              "      <th>sell_total_val_nsp</th>\n",
              "      <th>city</th>\n",
              "      <th>art_name_tl</th>\n",
              "      <th>pcg_cat_desc_tl</th>\n",
              "      <th>pcg_sub_cat_desc_tl</th>\n",
              "    </tr>\n",
              "  </thead>\n",
              "  <tbody>\n",
              "    <tr>\n",
              "      <th>8096813</th>\n",
              "      <td>9475995</td>\n",
              "      <td>67</td>\n",
              "      <td>670100000315</td>\n",
              "      <td>384191001001</td>\n",
              "      <td>62</td>\n",
              "      <td>Core (benchmark)</td>\n",
              "      <td>13</td>\n",
              "      <td>29762</td>\n",
              "      <td>CHERNIGIV</td>\n",
              "      <td>MC SALTED ATLANTIC HERRING FILLETS WITH HERBS ...</td>\n",
              "      <td>HERRINGS</td>\n",
              "      <td>IN BRINE</td>\n",
              "    </tr>\n",
              "    <tr>\n",
              "      <th>8096814</th>\n",
              "      <td>9475996</td>\n",
              "      <td>67</td>\n",
              "      <td>870100000315</td>\n",
              "      <td>318757001001</td>\n",
              "      <td>91</td>\n",
              "      <td>Convenience shopper small basket</td>\n",
              "      <td>9</td>\n",
              "      <td>10545</td>\n",
              "      <td>CHERNIGIV</td>\n",
              "      <td>ARO OILFISH COLD CMOKED 180 G</td>\n",
              "      <td>OTHER FISH TYPES</td>\n",
              "      <td>OTHER FISH TYPES</td>\n",
              "    </tr>\n",
              "    <tr>\n",
              "      <th>8096815</th>\n",
              "      <td>9475997</td>\n",
              "      <td>67</td>\n",
              "      <td>870100000315</td>\n",
              "      <td>327947001001</td>\n",
              "      <td>166</td>\n",
              "      <td>Convenience shopper small basket</td>\n",
              "      <td>9</td>\n",
              "      <td>10545</td>\n",
              "      <td>CHERNIGIV</td>\n",
              "      <td>SLICED SERRANO HAM 100GR - INERT GAS TRAY</td>\n",
              "      <td>SPANISH RAW HAM</td>\n",
              "      <td>IBERICO SLICED</td>\n",
              "    </tr>\n",
              "    <tr>\n",
              "      <th>8096816</th>\n",
              "      <td>9475998</td>\n",
              "      <td>67</td>\n",
              "      <td>870100000315</td>\n",
              "      <td>377016001001</td>\n",
              "      <td>333</td>\n",
              "      <td>Convenience shopper small basket</td>\n",
              "      <td>9</td>\n",
              "      <td>10545</td>\n",
              "      <td>CHERNIGIV</td>\n",
              "      <td>BEER LVIVSKE SVITLE , CAN 0.48L</td>\n",
              "      <td>PILSNER</td>\n",
              "      <td>CAN 0 - 50 cl</td>\n",
              "    </tr>\n",
              "    <tr>\n",
              "      <th>8096817</th>\n",
              "      <td>9475999</td>\n",
              "      <td>67</td>\n",
              "      <td>870100000315</td>\n",
              "      <td>400556001001</td>\n",
              "      <td>66</td>\n",
              "      <td>Convenience shopper small basket</td>\n",
              "      <td>9</td>\n",
              "      <td>10545</td>\n",
              "      <td>CHERNIGIV</td>\n",
              "      <td>ARO SALMON SMOKED 130G</td>\n",
              "      <td>NORWEGEAN SALMON</td>\n",
              "      <td>CRUMBS/CHUNKS</td>\n",
              "    </tr>\n",
              "  </tbody>\n",
              "</table>\n",
              "</div>\n",
              "    <div class=\"colab-df-buttons\">\n",
              "\n",
              "  <div class=\"colab-df-container\">\n",
              "    <button class=\"colab-df-convert\" onclick=\"convertToInteractive('df-9425dff3-2a86-442e-b442-4ceed459fb76')\"\n",
              "            title=\"Convert this dataframe to an interactive table.\"\n",
              "            style=\"display:none;\">\n",
              "\n",
              "  <svg xmlns=\"http://www.w3.org/2000/svg\" height=\"24px\" viewBox=\"0 -960 960 960\">\n",
              "    <path d=\"M120-120v-720h720v720H120Zm60-500h600v-160H180v160Zm220 220h160v-160H400v160Zm0 220h160v-160H400v160ZM180-400h160v-160H180v160Zm440 0h160v-160H620v160ZM180-180h160v-160H180v160Zm440 0h160v-160H620v160Z\"/>\n",
              "  </svg>\n",
              "    </button>\n",
              "\n",
              "  <style>\n",
              "    .colab-df-container {\n",
              "      display:flex;\n",
              "      gap: 12px;\n",
              "    }\n",
              "\n",
              "    .colab-df-convert {\n",
              "      background-color: #E8F0FE;\n",
              "      border: none;\n",
              "      border-radius: 50%;\n",
              "      cursor: pointer;\n",
              "      display: none;\n",
              "      fill: #1967D2;\n",
              "      height: 32px;\n",
              "      padding: 0 0 0 0;\n",
              "      width: 32px;\n",
              "    }\n",
              "\n",
              "    .colab-df-convert:hover {\n",
              "      background-color: #E2EBFA;\n",
              "      box-shadow: 0px 1px 2px rgba(60, 64, 67, 0.3), 0px 1px 3px 1px rgba(60, 64, 67, 0.15);\n",
              "      fill: #174EA6;\n",
              "    }\n",
              "\n",
              "    .colab-df-buttons div {\n",
              "      margin-bottom: 4px;\n",
              "    }\n",
              "\n",
              "    [theme=dark] .colab-df-convert {\n",
              "      background-color: #3B4455;\n",
              "      fill: #D2E3FC;\n",
              "    }\n",
              "\n",
              "    [theme=dark] .colab-df-convert:hover {\n",
              "      background-color: #434B5C;\n",
              "      box-shadow: 0px 1px 3px 1px rgba(0, 0, 0, 0.15);\n",
              "      filter: drop-shadow(0px 1px 2px rgba(0, 0, 0, 0.3));\n",
              "      fill: #FFFFFF;\n",
              "    }\n",
              "  </style>\n",
              "\n",
              "    <script>\n",
              "      const buttonEl =\n",
              "        document.querySelector('#df-9425dff3-2a86-442e-b442-4ceed459fb76 button.colab-df-convert');\n",
              "      buttonEl.style.display =\n",
              "        google.colab.kernel.accessAllowed ? 'block' : 'none';\n",
              "\n",
              "      async function convertToInteractive(key) {\n",
              "        const element = document.querySelector('#df-9425dff3-2a86-442e-b442-4ceed459fb76');\n",
              "        const dataTable =\n",
              "          await google.colab.kernel.invokeFunction('convertToInteractive',\n",
              "                                                    [key], {});\n",
              "        if (!dataTable) return;\n",
              "\n",
              "        const docLinkHtml = 'Like what you see? Visit the ' +\n",
              "          '<a target=\"_blank\" href=https://colab.research.google.com/notebooks/data_table.ipynb>data table notebook</a>'\n",
              "          + ' to learn more about interactive tables.';\n",
              "        element.innerHTML = '';\n",
              "        dataTable['output_type'] = 'display_data';\n",
              "        await google.colab.output.renderOutput(dataTable, element);\n",
              "        const docLink = document.createElement('div');\n",
              "        docLink.innerHTML = docLinkHtml;\n",
              "        element.appendChild(docLink);\n",
              "      }\n",
              "    </script>\n",
              "  </div>\n",
              "\n",
              "\n",
              "<div id=\"df-e71b3270-9b26-4a9a-a989-0e502e2cddaf\">\n",
              "  <button class=\"colab-df-quickchart\" onclick=\"quickchart('df-e71b3270-9b26-4a9a-a989-0e502e2cddaf')\"\n",
              "            title=\"Suggest charts\"\n",
              "            style=\"display:none;\">\n",
              "\n",
              "<svg xmlns=\"http://www.w3.org/2000/svg\" height=\"24px\"viewBox=\"0 0 24 24\"\n",
              "     width=\"24px\">\n",
              "    <g>\n",
              "        <path d=\"M19 3H5c-1.1 0-2 .9-2 2v14c0 1.1.9 2 2 2h14c1.1 0 2-.9 2-2V5c0-1.1-.9-2-2-2zM9 17H7v-7h2v7zm4 0h-2V7h2v10zm4 0h-2v-4h2v4z\"/>\n",
              "    </g>\n",
              "</svg>\n",
              "  </button>\n",
              "\n",
              "<style>\n",
              "  .colab-df-quickchart {\n",
              "      --bg-color: #E8F0FE;\n",
              "      --fill-color: #1967D2;\n",
              "      --hover-bg-color: #E2EBFA;\n",
              "      --hover-fill-color: #174EA6;\n",
              "      --disabled-fill-color: #AAA;\n",
              "      --disabled-bg-color: #DDD;\n",
              "  }\n",
              "\n",
              "  [theme=dark] .colab-df-quickchart {\n",
              "      --bg-color: #3B4455;\n",
              "      --fill-color: #D2E3FC;\n",
              "      --hover-bg-color: #434B5C;\n",
              "      --hover-fill-color: #FFFFFF;\n",
              "      --disabled-bg-color: #3B4455;\n",
              "      --disabled-fill-color: #666;\n",
              "  }\n",
              "\n",
              "  .colab-df-quickchart {\n",
              "    background-color: var(--bg-color);\n",
              "    border: none;\n",
              "    border-radius: 50%;\n",
              "    cursor: pointer;\n",
              "    display: none;\n",
              "    fill: var(--fill-color);\n",
              "    height: 32px;\n",
              "    padding: 0;\n",
              "    width: 32px;\n",
              "  }\n",
              "\n",
              "  .colab-df-quickchart:hover {\n",
              "    background-color: var(--hover-bg-color);\n",
              "    box-shadow: 0 1px 2px rgba(60, 64, 67, 0.3), 0 1px 3px 1px rgba(60, 64, 67, 0.15);\n",
              "    fill: var(--button-hover-fill-color);\n",
              "  }\n",
              "\n",
              "  .colab-df-quickchart-complete:disabled,\n",
              "  .colab-df-quickchart-complete:disabled:hover {\n",
              "    background-color: var(--disabled-bg-color);\n",
              "    fill: var(--disabled-fill-color);\n",
              "    box-shadow: none;\n",
              "  }\n",
              "\n",
              "  .colab-df-spinner {\n",
              "    border: 2px solid var(--fill-color);\n",
              "    border-color: transparent;\n",
              "    border-bottom-color: var(--fill-color);\n",
              "    animation:\n",
              "      spin 1s steps(1) infinite;\n",
              "  }\n",
              "\n",
              "  @keyframes spin {\n",
              "    0% {\n",
              "      border-color: transparent;\n",
              "      border-bottom-color: var(--fill-color);\n",
              "      border-left-color: var(--fill-color);\n",
              "    }\n",
              "    20% {\n",
              "      border-color: transparent;\n",
              "      border-left-color: var(--fill-color);\n",
              "      border-top-color: var(--fill-color);\n",
              "    }\n",
              "    30% {\n",
              "      border-color: transparent;\n",
              "      border-left-color: var(--fill-color);\n",
              "      border-top-color: var(--fill-color);\n",
              "      border-right-color: var(--fill-color);\n",
              "    }\n",
              "    40% {\n",
              "      border-color: transparent;\n",
              "      border-right-color: var(--fill-color);\n",
              "      border-top-color: var(--fill-color);\n",
              "    }\n",
              "    60% {\n",
              "      border-color: transparent;\n",
              "      border-right-color: var(--fill-color);\n",
              "    }\n",
              "    80% {\n",
              "      border-color: transparent;\n",
              "      border-right-color: var(--fill-color);\n",
              "      border-bottom-color: var(--fill-color);\n",
              "    }\n",
              "    90% {\n",
              "      border-color: transparent;\n",
              "      border-bottom-color: var(--fill-color);\n",
              "    }\n",
              "  }\n",
              "</style>\n",
              "\n",
              "  <script>\n",
              "    async function quickchart(key) {\n",
              "      const quickchartButtonEl =\n",
              "        document.querySelector('#' + key + ' button');\n",
              "      quickchartButtonEl.disabled = true;  // To prevent multiple clicks.\n",
              "      quickchartButtonEl.classList.add('colab-df-spinner');\n",
              "      try {\n",
              "        const charts = await google.colab.kernel.invokeFunction(\n",
              "            'suggestCharts', [key], {});\n",
              "      } catch (error) {\n",
              "        console.error('Error during call to suggestCharts:', error);\n",
              "      }\n",
              "      quickchartButtonEl.classList.remove('colab-df-spinner');\n",
              "      quickchartButtonEl.classList.add('colab-df-quickchart-complete');\n",
              "    }\n",
              "    (() => {\n",
              "      let quickchartButtonEl =\n",
              "        document.querySelector('#df-e71b3270-9b26-4a9a-a989-0e502e2cddaf button');\n",
              "      quickchartButtonEl.style.display =\n",
              "        google.colab.kernel.accessAllowed ? 'block' : 'none';\n",
              "    })();\n",
              "  </script>\n",
              "</div>\n",
              "    </div>\n",
              "  </div>\n"
            ],
            "application/vnd.google.colaboratory.intrinsic+json": {
              "type": "dataframe",
              "summary": "{\n  \"name\": \"result\",\n  \"rows\": 5,\n  \"fields\": [\n    {\n      \"column\": \"Unnamed: 0\",\n      \"properties\": {\n        \"dtype\": \"number\",\n        \"std\": 1,\n        \"min\": 9475995,\n        \"max\": 9475999,\n        \"num_unique_values\": 5,\n        \"samples\": [\n          9475996,\n          9475999,\n          9475997\n        ],\n        \"semantic_type\": \"\",\n        \"description\": \"\"\n      }\n    },\n    {\n      \"column\": \"store_id\",\n      \"properties\": {\n        \"dtype\": \"number\",\n        \"std\": 0,\n        \"min\": 67,\n        \"max\": 67,\n        \"num_unique_values\": 1,\n        \"samples\": [\n          67\n        ],\n        \"semantic_type\": \"\",\n        \"description\": \"\"\n      }\n    },\n    {\n      \"column\": \"cust_person_id\",\n      \"properties\": {\n        \"dtype\": \"category\",\n        \"num_unique_values\": 2,\n        \"samples\": [\n          \"870100000315\"\n        ],\n        \"semantic_type\": \"\",\n        \"description\": \"\"\n      }\n    },\n    {\n      \"column\": \"product_id\",\n      \"properties\": {\n        \"dtype\": \"string\",\n        \"num_unique_values\": 5,\n        \"samples\": [\n          \"318757001001\"\n        ],\n        \"semantic_type\": \"\",\n        \"description\": \"\"\n      }\n    },\n    {\n      \"column\": \"sell_val_nsp\",\n      \"properties\": {\n        \"dtype\": \"number\",\n        \"std\": 113,\n        \"min\": 62,\n        \"max\": 333,\n        \"num_unique_values\": 5,\n        \"samples\": [\n          91\n        ],\n        \"semantic_type\": \"\",\n        \"description\": \"\"\n      }\n    },\n    {\n      \"column\": \"SEGMENT_GROUP\",\n      \"properties\": {\n        \"dtype\": \"category\",\n        \"num_unique_values\": 2,\n        \"samples\": [\n          \"Convenience shopper small basket\"\n        ],\n        \"semantic_type\": \"\",\n        \"description\": \"\"\n      }\n    },\n    {\n      \"column\": \"visits\",\n      \"properties\": {\n        \"dtype\": \"number\",\n        \"std\": 1,\n        \"min\": 9,\n        \"max\": 13,\n        \"num_unique_values\": 2,\n        \"samples\": [\n          9\n        ],\n        \"semantic_type\": \"\",\n        \"description\": \"\"\n      }\n    },\n    {\n      \"column\": \"sell_total_val_nsp\",\n      \"properties\": {\n        \"dtype\": \"number\",\n        \"std\": 8594,\n        \"min\": 10545,\n        \"max\": 29762,\n        \"num_unique_values\": 2,\n        \"samples\": [\n          10545\n        ],\n        \"semantic_type\": \"\",\n        \"description\": \"\"\n      }\n    },\n    {\n      \"column\": \"city\",\n      \"properties\": {\n        \"dtype\": \"category\",\n        \"num_unique_values\": 1,\n        \"samples\": [\n          \"CHERNIGIV\"\n        ],\n        \"semantic_type\": \"\",\n        \"description\": \"\"\n      }\n    },\n    {\n      \"column\": \"art_name_tl\",\n      \"properties\": {\n        \"dtype\": \"string\",\n        \"num_unique_values\": 5,\n        \"samples\": [\n          \"ARO OILFISH COLD CMOKED 180 G\"\n        ],\n        \"semantic_type\": \"\",\n        \"description\": \"\"\n      }\n    },\n    {\n      \"column\": \"pcg_cat_desc_tl\",\n      \"properties\": {\n        \"dtype\": \"string\",\n        \"num_unique_values\": 5,\n        \"samples\": [\n          \"OTHER FISH TYPES\"\n        ],\n        \"semantic_type\": \"\",\n        \"description\": \"\"\n      }\n    },\n    {\n      \"column\": \"pcg_sub_cat_desc_tl\",\n      \"properties\": {\n        \"dtype\": \"string\",\n        \"num_unique_values\": 5,\n        \"samples\": [\n          \"OTHER FISH TYPES\"\n        ],\n        \"semantic_type\": \"\",\n        \"description\": \"\"\n      }\n    }\n  ]\n}"
            }
          },
          "metadata": {},
          "execution_count": 5
        }
      ]
    },
    {
      "cell_type": "code",
      "source": [
        "result['pcg_cat_desc_tl'].nunique()\n"
      ],
      "metadata": {
        "colab": {
          "base_uri": "https://localhost:8080/"
        },
        "id": "uxL6VUBKVvqx",
        "outputId": "571d5672-3c0b-4fb9-aef6-79798c9ce717"
      },
      "execution_count": null,
      "outputs": [
        {
          "output_type": "execute_result",
          "data": {
            "text/plain": [
              "516"
            ]
          },
          "metadata": {},
          "execution_count": 6
        }
      ]
    },
    {
      "cell_type": "code",
      "source": [
        "result.dtypes"
      ],
      "metadata": {
        "colab": {
          "base_uri": "https://localhost:8080/",
          "height": 460
        },
        "id": "Mc5KmvOGzJk7",
        "outputId": "cbde33e9-d43c-4d9c-8af0-faed3bfd6720"
      },
      "execution_count": null,
      "outputs": [
        {
          "output_type": "execute_result",
          "data": {
            "text/plain": [
              "Unnamed: 0              int64\n",
              "store_id                int64\n",
              "cust_person_id         object\n",
              "product_id             object\n",
              "sell_val_nsp            int64\n",
              "SEGMENT_GROUP          object\n",
              "visits                  int64\n",
              "sell_total_val_nsp      int64\n",
              "city                   object\n",
              "art_name_tl            object\n",
              "pcg_cat_desc_tl        object\n",
              "pcg_sub_cat_desc_tl    object\n",
              "dtype: object"
            ],
            "text/html": [
              "<div>\n",
              "<style scoped>\n",
              "    .dataframe tbody tr th:only-of-type {\n",
              "        vertical-align: middle;\n",
              "    }\n",
              "\n",
              "    .dataframe tbody tr th {\n",
              "        vertical-align: top;\n",
              "    }\n",
              "\n",
              "    .dataframe thead th {\n",
              "        text-align: right;\n",
              "    }\n",
              "</style>\n",
              "<table border=\"1\" class=\"dataframe\">\n",
              "  <thead>\n",
              "    <tr style=\"text-align: right;\">\n",
              "      <th></th>\n",
              "      <th>0</th>\n",
              "    </tr>\n",
              "  </thead>\n",
              "  <tbody>\n",
              "    <tr>\n",
              "      <th>Unnamed: 0</th>\n",
              "      <td>int64</td>\n",
              "    </tr>\n",
              "    <tr>\n",
              "      <th>store_id</th>\n",
              "      <td>int64</td>\n",
              "    </tr>\n",
              "    <tr>\n",
              "      <th>cust_person_id</th>\n",
              "      <td>object</td>\n",
              "    </tr>\n",
              "    <tr>\n",
              "      <th>product_id</th>\n",
              "      <td>object</td>\n",
              "    </tr>\n",
              "    <tr>\n",
              "      <th>sell_val_nsp</th>\n",
              "      <td>int64</td>\n",
              "    </tr>\n",
              "    <tr>\n",
              "      <th>SEGMENT_GROUP</th>\n",
              "      <td>object</td>\n",
              "    </tr>\n",
              "    <tr>\n",
              "      <th>visits</th>\n",
              "      <td>int64</td>\n",
              "    </tr>\n",
              "    <tr>\n",
              "      <th>sell_total_val_nsp</th>\n",
              "      <td>int64</td>\n",
              "    </tr>\n",
              "    <tr>\n",
              "      <th>city</th>\n",
              "      <td>object</td>\n",
              "    </tr>\n",
              "    <tr>\n",
              "      <th>art_name_tl</th>\n",
              "      <td>object</td>\n",
              "    </tr>\n",
              "    <tr>\n",
              "      <th>pcg_cat_desc_tl</th>\n",
              "      <td>object</td>\n",
              "    </tr>\n",
              "    <tr>\n",
              "      <th>pcg_sub_cat_desc_tl</th>\n",
              "      <td>object</td>\n",
              "    </tr>\n",
              "  </tbody>\n",
              "</table>\n",
              "</div><br><label><b>dtype:</b> object</label>"
            ]
          },
          "metadata": {},
          "execution_count": 7
        }
      ]
    },
    {
      "cell_type": "code",
      "source": [
        "product_df = result.groupby('product_id')['sell_val_nsp'].sum().reset_index()\n",
        "\n",
        "product_df = product_df.sort_values(by='sell_val_nsp', ascending=False)\n",
        "\n",
        "# Calculate the cumulative percentage of sales\n",
        "product_df['cumulative_percentage'] = (product_df['sell_val_nsp'].cumsum() / product_df['sell_val_nsp'].sum()) * 100\n",
        "\n",
        "# Create the Pareto chart\n",
        "plt.figure(figsize=(20, 6))\n",
        "plt.bar(product_df['product_id'], product_df['sell_val_nsp'], color='blue')\n",
        "plt.plot(product_df['product_id'], product_df['cumulative_percentage'], color='red', marker='o')\n",
        "\n",
        "# Add labels and title\n",
        "plt.xlabel('Product ID')\n",
        "plt.ylabel('Sales')\n",
        "plt.title('Pareto Chart: Product Contribution to Total Sales')\n",
        "\n",
        "# Grid and annotations\n",
        "plt.grid(True, linestyle='--')\n",
        "plt.annotate('80/20 Rule', xy=(product_df['product_id'][1], product_df['cumulative_percentage'][1]), xytext=(10, 10),\n",
        "             arrowprops=dict(facecolor='black', shrink=0.05), fontsize=12)\n",
        "\n",
        "plt.show()"
      ],
      "metadata": {
        "colab": {
          "base_uri": "https://localhost:8080/",
          "height": 564
        },
        "id": "M7eb1j8lRUHX",
        "outputId": "1dc646c6-fff0-426e-863e-95e02a4b7034"
      },
      "execution_count": null,
      "outputs": [
        {
          "output_type": "display_data",
          "data": {
            "text/plain": [
              "<Figure size 2000x600 with 1 Axes>"
            ],
            "image/png": "[encoded data removed]"
          },
          "metadata": {}
        }
      ]
    },
    {
      "cell_type": "code",
      "source": [
        "temp_df = product_df[(product_df['cumulative_percentage'] <= 100)]\n",
        "\n",
        "print(temp_df.shape, product_df.shape)\n",
        "print(temp_df['product_id'].nunique(), product_df['product_id'].nunique())"
      ],
      "metadata": {
        "colab": {
          "base_uri": "https://localhost:8080/"
        },
        "id": "RTFCs30SbjZE",
        "outputId": "99a0050c-635c-4c87-d820-28e43bba58ce"
      },
      "execution_count": null,
      "outputs": [
        {
          "output_type": "stream",
          "name": "stdout",
          "text": [
            "(6594, 3) (6594, 3)\n",
            "6594 6594\n"
          ]
        }
      ]
    },
    {
      "cell_type": "code",
      "source": [
        "temp_df.tail()"
      ],
      "metadata": {
        "colab": {
          "base_uri": "https://localhost:8080/",
          "height": 206
        },
        "id": "N5-0sJ71WRiT",
        "outputId": "934fd404-3a89-4bf9-d473-e6ca135d49d7"
      },
      "execution_count": null,
      "outputs": [
        {
          "output_type": "execute_result",
          "data": {
            "text/plain": [
              "        product_id  sell_val_nsp  cumulative_percentage\n",
              "5860  385840001001          3384              99.999389\n",
              "3904  363761001001          2709              99.999606\n",
              "3902  363759001001          2268              99.999789\n",
              "5859  385838001001          1681              99.999924\n",
              "3903  363760001001           951             100.000000"
            ],
            "text/html": [
              "\n",
              "  <div id=\"df-d4825d00-bf93-4065-917e-c9eb939ef710\" class=\"colab-df-container\">\n",
              "    <div>\n",
              "<style scoped>\n",
              "    .dataframe tbody tr th:only-of-type {\n",
              "        vertical-align: middle;\n",
              "    }\n",
              "\n",
              "    .dataframe tbody tr th {\n",
              "        vertical-align: top;\n",
              "    }\n",
              "\n",
              "    .dataframe thead th {\n",
              "        text-align: right;\n",
              "    }\n",
              "</style>\n",
              "<table border=\"1\" class=\"dataframe\">\n",
              "  <thead>\n",
              "    <tr style=\"text-align: right;\">\n",
              "      <th></th>\n",
              "      <th>product_id</th>\n",
              "      <th>sell_val_nsp</th>\n",
              "      <th>cumulative_percentage</th>\n",
              "    </tr>\n",
              "  </thead>\n",
              "  <tbody>\n",
              "    <tr>\n",
              "      <th>5860</th>\n",
              "      <td>385840001001</td>\n",
              "      <td>3384</td>\n",
              "      <td>99.999389</td>\n",
              "    </tr>\n",
              "    <tr>\n",
              "      <th>3904</th>\n",
              "      <td>363761001001</td>\n",
              "      <td>2709</td>\n",
              "      <td>99.999606</td>\n",
              "    </tr>\n",
              "    <tr>\n",
              "      <th>3902</th>\n",
              "      <td>363759001001</td>\n",
              "      <td>2268</td>\n",
              "      <td>99.999789</td>\n",
              "    </tr>\n",
              "    <tr>\n",
              "      <th>5859</th>\n",
              "      <td>385838001001</td>\n",
              "      <td>1681</td>\n",
              "      <td>99.999924</td>\n",
              "    </tr>\n",
              "    <tr>\n",
              "      <th>3903</th>\n",
              "      <td>363760001001</td>\n",
              "      <td>951</td>\n",
              "      <td>100.000000</td>\n",
              "    </tr>\n",
              "  </tbody>\n",
              "</table>\n",
              "</div>\n",
              "    <div class=\"colab-df-buttons\">\n",
              "\n",
              "  <div class=\"colab-df-container\">\n",
              "    <button class=\"colab-df-convert\" onclick=\"convertToInteractive('df-d4825d00-bf93-4065-917e-c9eb939ef710')\"\n",
              "            title=\"Convert this dataframe to an interactive table.\"\n",
              "            style=\"display:none;\">\n",
              "\n",
              "  <svg xmlns=\"http://www.w3.org/2000/svg\" height=\"24px\" viewBox=\"0 -960 960 960\">\n",
              "    <path d=\"M120-120v-720h720v720H120Zm60-500h600v-160H180v160Zm220 220h160v-160H400v160Zm0 220h160v-160H400v160ZM180-400h160v-160H180v160Zm440 0h160v-160H620v160ZM180-180h160v-160H180v160Zm440 0h160v-160H620v160Z\"/>\n",
              "  </svg>\n",
              "    </button>\n",
              "\n",
              "  <style>\n",
              "    .colab-df-container {\n",
              "      display:flex;\n",
              "      gap: 12px;\n",
              "    }\n",
              "\n",
              "    .colab-df-convert {\n",
              "      background-color: #E8F0FE;\n",
              "      border: none;\n",
              "      border-radius: 50%;\n",
              "      cursor: pointer;\n",
              "      display: none;\n",
              "      fill: #1967D2;\n",
              "      height: 32px;\n",
              "      padding: 0 0 0 0;\n",
              "      width: 32px;\n",
              "    }\n",
              "\n",
              "    .colab-df-convert:hover {\n",
              "      background-color: #E2EBFA;\n",
              "      box-shadow: 0px 1px 2px rgba(60, 64, 67, 0.3), 0px 1px 3px 1px rgba(60, 64, 67, 0.15);\n",
              "      fill: #174EA6;\n",
              "    }\n",
              "\n",
              "    .colab-df-buttons div {\n",
              "      margin-bottom: 4px;\n",
              "    }\n",
              "\n",
              "    [theme=dark] .colab-df-convert {\n",
              "      background-color: #3B4455;\n",
              "      fill: #D2E3FC;\n",
              "    }\n",
              "\n",
              "    [theme=dark] .colab-df-convert:hover {\n",
              "      background-color: #434B5C;\n",
              "      box-shadow: 0px 1px 3px 1px rgba(0, 0, 0, 0.15);\n",
              "      filter: drop-shadow(0px 1px 2px rgba(0, 0, 0, 0.3));\n",
              "      fill: #FFFFFF;\n",
              "    }\n",
              "  </style>\n",
              "\n",
              "    <script>\n",
              "      const buttonEl =\n",
              "        document.querySelector('#df-d4825d00-bf93-4065-917e-c9eb939ef710 button.colab-df-convert');\n",
              "      buttonEl.style.display =\n",
              "        google.colab.kernel.accessAllowed ? 'block' : 'none';\n",
              "\n",
              "      async function convertToInteractive(key) {\n",
              "        const element = document.querySelector('#df-d4825d00-bf93-4065-917e-c9eb939ef710');\n",
              "        const dataTable =\n",
              "          await google.colab.kernel.invokeFunction('convertToInteractive',\n",
              "                                                    [key], {});\n",
              "        if (!dataTable) return;\n",
              "\n",
              "        const docLinkHtml = 'Like what you see? Visit the ' +\n",
              "          '<a target=\"_blank\" href=https://colab.research.google.com/notebooks/data_table.ipynb>data table notebook</a>'\n",
              "          + ' to learn more about interactive tables.';\n",
              "        element.innerHTML = '';\n",
              "        dataTable['output_type'] = 'display_data';\n",
              "        await google.colab.output.renderOutput(dataTable, element);\n",
              "        const docLink = document.createElement('div');\n",
              "        docLink.innerHTML = docLinkHtml;\n",
              "        element.appendChild(docLink);\n",
              "      }\n",
              "    </script>\n",
              "  </div>\n",
              "\n",
              "\n",
              "<div id=\"df-85f023e5-7d4f-4f82-91f2-5ed064558ef6\">\n",
              "  <button class=\"colab-df-quickchart\" onclick=\"quickchart('df-85f023e5-7d4f-4f82-91f2-5ed064558ef6')\"\n",
              "            title=\"Suggest charts\"\n",
              "            style=\"display:none;\">\n",
              "\n",
              "<svg xmlns=\"http://www.w3.org/2000/svg\" height=\"24px\"viewBox=\"0 0 24 24\"\n",
              "     width=\"24px\">\n",
              "    <g>\n",
              "        <path d=\"M19 3H5c-1.1 0-2 .9-2 2v14c0 1.1.9 2 2 2h14c1.1 0 2-.9 2-2V5c0-1.1-.9-2-2-2zM9 17H7v-7h2v7zm4 0h-2V7h2v10zm4 0h-2v-4h2v4z\"/>\n",
              "    </g>\n",
              "</svg>\n",
              "  </button>\n",
              "\n",
              "<style>\n",
              "  .colab-df-quickchart {\n",
              "      --bg-color: #E8F0FE;\n",
              "      --fill-color: #1967D2;\n",
              "      --hover-bg-color: #E2EBFA;\n",
              "      --hover-fill-color: #174EA6;\n",
              "      --disabled-fill-color: #AAA;\n",
              "      --disabled-bg-color: #DDD;\n",
              "  }\n",
              "\n",
              "  [theme=dark] .colab-df-quickchart {\n",
              "      --bg-color: #3B4455;\n",
              "      --fill-color: #D2E3FC;\n",
              "      --hover-bg-color: #434B5C;\n",
              "      --hover-fill-color: #FFFFFF;\n",
              "      --disabled-bg-color: #3B4455;\n",
              "      --disabled-fill-color: #666;\n",
              "  }\n",
              "\n",
              "  .colab-df-quickchart {\n",
              "    background-color: var(--bg-color);\n",
              "    border: none;\n",
              "    border-radius: 50%;\n",
              "    cursor: pointer;\n",
              "    display: none;\n",
              "    fill: var(--fill-color);\n",
              "    height: 32px;\n",
              "    padding: 0;\n",
              "    width: 32px;\n",
              "  }\n",
              "\n",
              "  .colab-df-quickchart:hover {\n",
              "    background-color: var(--hover-bg-color);\n",
              "    box-shadow: 0 1px 2px rgba(60, 64, 67, 0.3), 0 1px 3px 1px rgba(60, 64, 67, 0.15);\n",
              "    fill: var(--button-hover-fill-color);\n",
              "  }\n",
              "\n",
              "  .colab-df-quickchart-complete:disabled,\n",
              "  .colab-df-quickchart-complete:disabled:hover {\n",
              "    background-color: var(--disabled-bg-color);\n",
              "    fill: var(--disabled-fill-color);\n",
              "    box-shadow: none;\n",
              "  }\n",
              "\n",
              "  .colab-df-spinner {\n",
              "    border: 2px solid var(--fill-color);\n",
              "    border-color: transparent;\n",
              "    border-bottom-color: var(--fill-color);\n",
              "    animation:\n",
              "      spin 1s steps(1) infinite;\n",
              "  }\n",
              "\n",
              "  @keyframes spin {\n",
              "    0% {\n",
              "      border-color: transparent;\n",
              "      border-bottom-color: var(--fill-color);\n",
              "      border-left-color: var(--fill-color);\n",
              "    }\n",
              "    20% {\n",
              "      border-color: transparent;\n",
              "      border-left-color: var(--fill-color);\n",
              "      border-top-color: var(--fill-color);\n",
              "    }\n",
              "    30% {\n",
              "      border-color: transparent;\n",
              "      border-left-color: var(--fill-color);\n",
              "      border-top-color: var(--fill-color);\n",
              "      border-right-color: var(--fill-color);\n",
              "    }\n",
              "    40% {\n",
              "      border-color: transparent;\n",
              "      border-right-color: var(--fill-color);\n",
              "      border-top-color: var(--fill-color);\n",
              "    }\n",
              "    60% {\n",
              "      border-color: transparent;\n",
              "      border-right-color: var(--fill-color);\n",
              "    }\n",
              "    80% {\n",
              "      border-color: transparent;\n",
              "      border-right-color: var(--fill-color);\n",
              "      border-bottom-color: var(--fill-color);\n",
              "    }\n",
              "    90% {\n",
              "      border-color: transparent;\n",
              "      border-bottom-color: var(--fill-color);\n",
              "    }\n",
              "  }\n",
              "</style>\n",
              "\n",
              "  <script>\n",
              "    async function quickchart(key) {\n",
              "      const quickchartButtonEl =\n",
              "        document.querySelector('#' + key + ' button');\n",
              "      quickchartButtonEl.disabled = true;  // To prevent multiple clicks.\n",
              "      quickchartButtonEl.classList.add('colab-df-spinner');\n",
              "      try {\n",
              "        const charts = await google.colab.kernel.invokeFunction(\n",
              "            'suggestCharts', [key], {});\n",
              "      } catch (error) {\n",
              "        console.error('Error during call to suggestCharts:', error);\n",
              "      }\n",
              "      quickchartButtonEl.classList.remove('colab-df-spinner');\n",
              "      quickchartButtonEl.classList.add('colab-df-quickchart-complete');\n",
              "    }\n",
              "    (() => {\n",
              "      let quickchartButtonEl =\n",
              "        document.querySelector('#df-85f023e5-7d4f-4f82-91f2-5ed064558ef6 button');\n",
              "      quickchartButtonEl.style.display =\n",
              "        google.colab.kernel.accessAllowed ? 'block' : 'none';\n",
              "    })();\n",
              "  </script>\n",
              "</div>\n",
              "    </div>\n",
              "  </div>\n"
            ],
            "application/vnd.google.colaboratory.intrinsic+json": {
              "type": "dataframe",
              "summary": "{\n  \"name\": \"temp_df\",\n  \"rows\": 5,\n  \"fields\": [\n    {\n      \"column\": \"product_id\",\n      \"properties\": {\n        \"dtype\": \"string\",\n        \"num_unique_values\": 5,\n        \"samples\": [\n          \"363761001001\",\n          \"363760001001\",\n          \"363759001001\"\n        ],\n        \"semantic_type\": \"\",\n        \"description\": \"\"\n      }\n    },\n    {\n      \"column\": \"sell_val_nsp\",\n      \"properties\": {\n        \"dtype\": \"number\",\n        \"std\": 934,\n        \"min\": 951,\n        \"max\": 3384,\n        \"num_unique_values\": 5,\n        \"samples\": [\n          2709,\n          951,\n          2268\n        ],\n        \"semantic_type\": \"\",\n        \"description\": \"\"\n      }\n    },\n    {\n      \"column\": \"cumulative_percentage\",\n      \"properties\": {\n        \"dtype\": \"number\",\n        \"std\": 0.00024745286621716186,\n        \"min\": 99.9993886999907,\n        \"max\": 100.0,\n        \"num_unique_values\": 5,\n        \"samples\": [\n          99.99960633854047,\n          100.0,\n          99.9997885475589\n        ],\n        \"semantic_type\": \"\",\n        \"description\": \"\"\n      }\n    }\n  ]\n}"
            }
          },
          "metadata": {},
          "execution_count": 10
        }
      ]
    },
    {
      "cell_type": "code",
      "source": [
        "product_list = list(set(temp_df['product_id'].to_list()))\n",
        "\n",
        "print(len(product_list))"
      ],
      "metadata": {
        "colab": {
          "base_uri": "https://localhost:8080/"
        },
        "id": "CdFInsuUctKD",
        "outputId": "bd122464-9bff-42e3-8d15-b3a143aecb37"
      },
      "execution_count": null,
      "outputs": [
        {
          "output_type": "stream",
          "name": "stdout",
          "text": [
            "6594\n"
          ]
        }
      ]
    },
    {
      "cell_type": "code",
      "source": [
        "filtered_df = result[result['product_id'].isin(product_list)]\n",
        "\n",
        "print(filtered_df.shape, result.shape)"
      ],
      "metadata": {
        "colab": {
          "base_uri": "https://localhost:8080/"
        },
        "id": "IUW_9C--dRoC",
        "outputId": "c8d0c099-da9b-4399-956e-7aa4a3ed2af5"
      },
      "execution_count": null,
      "outputs": [
        {
          "output_type": "stream",
          "name": "stdout",
          "text": [
            "(8096818, 12) (8096818, 12)\n"
          ]
        }
      ]
    },
    {
      "cell_type": "code",
      "source": [
        "filtered_df['product_id'].nunique()"
      ],
      "metadata": {
        "colab": {
          "base_uri": "https://localhost:8080/"
        },
        "id": "lUvSTzmO4shV",
        "outputId": "508918cb-4f21-4869-f560-4bc154917d0d"
      },
      "execution_count": null,
      "outputs": [
        {
          "output_type": "execute_result",
          "data": {
            "text/plain": [
              "6594"
            ]
          },
          "metadata": {},
          "execution_count": 12
        }
      ]
    },
    {
      "cell_type": "code",
      "source": [
        "filtered_df.tail()"
      ],
      "metadata": {
        "colab": {
          "base_uri": "https://localhost:8080/",
          "height": 310
        },
        "id": "tV_hGidzWbhr",
        "outputId": "527a9452-49bd-498c-f84a-b1fa3da94dae"
      },
      "execution_count": null,
      "outputs": [
        {
          "output_type": "execute_result",
          "data": {
            "text/plain": [
              "         Unnamed: 0  store_id cust_person_id    product_id  sell_val_nsp  \\\n",
              "8096813     9475995        67   670100000315  384191001001            62   \n",
              "8096814     9475996        67   870100000315  318757001001            91   \n",
              "8096815     9475997        67   870100000315  327947001001           166   \n",
              "8096816     9475998        67   870100000315  377016001001           333   \n",
              "8096817     9475999        67   870100000315  400556001001            66   \n",
              "\n",
              "                            SEGMENT_GROUP  visits  sell_total_val_nsp  \\\n",
              "8096813                  Core (benchmark)      13               29762   \n",
              "8096814  Convenience shopper small basket       9               10545   \n",
              "8096815  Convenience shopper small basket       9               10545   \n",
              "8096816  Convenience shopper small basket       9               10545   \n",
              "8096817  Convenience shopper small basket       9               10545   \n",
              "\n",
              "              city                                        art_name_tl  \\\n",
              "8096813  CHERNIGIV  MC SALTED ATLANTIC HERRING FILLETS WITH HERBS ...   \n",
              "8096814  CHERNIGIV                      ARO OILFISH COLD CMOKED 180 G   \n",
              "8096815  CHERNIGIV          SLICED SERRANO HAM 100GR - INERT GAS TRAY   \n",
              "8096816  CHERNIGIV                    BEER LVIVSKE SVITLE , CAN 0.48L   \n",
              "8096817  CHERNIGIV                             ARO SALMON SMOKED 130G   \n",
              "\n",
              "          pcg_cat_desc_tl pcg_sub_cat_desc_tl  \n",
              "8096813          HERRINGS            IN BRINE  \n",
              "8096814  OTHER FISH TYPES    OTHER FISH TYPES  \n",
              "8096815   SPANISH RAW HAM      IBERICO SLICED  \n",
              "8096816           PILSNER       CAN 0 - 50 cl  \n",
              "8096817  NORWEGEAN SALMON       CRUMBS/CHUNKS  "
            ],
            "text/html": [
              "\n",
              "  <div id=\"df-341460fa-d9a1-4a39-8332-1da88c6829b2\" class=\"colab-df-container\">\n",
              "    <div>\n",
              "<style scoped>\n",
              "    .dataframe tbody tr th:only-of-type {\n",
              "        vertical-align: middle;\n",
              "    }\n",
              "\n",
              "    .dataframe tbody tr th {\n",
              "        vertical-align: top;\n",
              "    }\n",
              "\n",
              "    .dataframe thead th {\n",
              "        text-align: right;\n",
              "    }\n",
              "</style>\n",
              "<table border=\"1\" class=\"dataframe\">\n",
              "  <thead>\n",
              "    <tr style=\"text-align: right;\">\n",
              "      <th></th>\n",
              "      <th>Unnamed: 0</th>\n",
              "      <th>store_id</th>\n",
              "      <th>cust_person_id</th>\n",
              "      <th>product_id</th>\n",
              "      <th>sell_val_nsp</th>\n",
              "      <th>SEGMENT_GROUP</th>\n",
              "      <th>visits</th>\n",
              "      <th>sell_total_val_nsp</th>\n",
              "      <th>city</th>\n",
              "      <th>art_name_tl</th>\n",
              "      <th>pcg_cat_desc_tl</th>\n",
              "      <th>pcg_sub_cat_desc_tl</th>\n",
              "    </tr>\n",
              "  </thead>\n",
              "  <tbody>\n",
              "    <tr>\n",
              "      <th>8096813</th>\n",
              "      <td>9475995</td>\n",
              "      <td>67</td>\n",
              "      <td>670100000315</td>\n",
              "      <td>384191001001</td>\n",
              "      <td>62</td>\n",
              "      <td>Core (benchmark)</td>\n",
              "      <td>13</td>\n",
              "      <td>29762</td>\n",
              "      <td>CHERNIGIV</td>\n",
              "      <td>MC SALTED ATLANTIC HERRING FILLETS WITH HERBS ...</td>\n",
              "      <td>HERRINGS</td>\n",
              "      <td>IN BRINE</td>\n",
              "    </tr>\n",
              "    <tr>\n",
              "      <th>8096814</th>\n",
              "      <td>9475996</td>\n",
              "      <td>67</td>\n",
              "      <td>870100000315</td>\n",
              "      <td>318757001001</td>\n",
              "      <td>91</td>\n",
              "      <td>Convenience shopper small basket</td>\n",
              "      <td>9</td>\n",
              "      <td>10545</td>\n",
              "      <td>CHERNIGIV</td>\n",
              "      <td>ARO OILFISH COLD CMOKED 180 G</td>\n",
              "      <td>OTHER FISH TYPES</td>\n",
              "      <td>OTHER FISH TYPES</td>\n",
              "    </tr>\n",
              "    <tr>\n",
              "      <th>8096815</th>\n",
              "      <td>9475997</td>\n",
              "      <td>67</td>\n",
              "      <td>870100000315</td>\n",
              "      <td>327947001001</td>\n",
              "      <td>166</td>\n",
              "      <td>Convenience shopper small basket</td>\n",
              "      <td>9</td>\n",
              "      <td>10545</td>\n",
              "      <td>CHERNIGIV</td>\n",
              "      <td>SLICED SERRANO HAM 100GR - INERT GAS TRAY</td>\n",
              "      <td>SPANISH RAW HAM</td>\n",
              "      <td>IBERICO SLICED</td>\n",
              "    </tr>\n",
              "    <tr>\n",
              "      <th>8096816</th>\n",
              "      <td>9475998</td>\n",
              "      <td>67</td>\n",
              "      <td>870100000315</td>\n",
              "      <td>377016001001</td>\n",
              "      <td>333</td>\n",
              "      <td>Convenience shopper small basket</td>\n",
              "      <td>9</td>\n",
              "      <td>10545</td>\n",
              "      <td>CHERNIGIV</td>\n",
              "      <td>BEER LVIVSKE SVITLE , CAN 0.48L</td>\n",
              "      <td>PILSNER</td>\n",
              "      <td>CAN 0 - 50 cl</td>\n",
              "    </tr>\n",
              "    <tr>\n",
              "      <th>8096817</th>\n",
              "      <td>9475999</td>\n",
              "      <td>67</td>\n",
              "      <td>870100000315</td>\n",
              "      <td>400556001001</td>\n",
              "      <td>66</td>\n",
              "      <td>Convenience shopper small basket</td>\n",
              "      <td>9</td>\n",
              "      <td>10545</td>\n",
              "      <td>CHERNIGIV</td>\n",
              "      <td>ARO SALMON SMOKED 130G</td>\n",
              "      <td>NORWEGEAN SALMON</td>\n",
              "      <td>CRUMBS/CHUNKS</td>\n",
              "    </tr>\n",
              "  </tbody>\n",
              "</table>\n",
              "</div>\n",
              "    <div class=\"colab-df-buttons\">\n",
              "\n",
              "  <div class=\"colab-df-container\">\n",
              "    <button class=\"colab-df-convert\" onclick=\"convertToInteractive('df-341460fa-d9a1-4a39-8332-1da88c6829b2')\"\n",
              "            title=\"Convert this dataframe to an interactive table.\"\n",
              "            style=\"display:none;\">\n",
              "\n",
              "  <svg xmlns=\"http://www.w3.org/2000/svg\" height=\"24px\" viewBox=\"0 -960 960 960\">\n",
              "    <path d=\"M120-120v-720h720v720H120Zm60-500h600v-160H180v160Zm220 220h160v-160H400v160Zm0 220h160v-160H400v160ZM180-400h160v-160H180v160Zm440 0h160v-160H620v160ZM180-180h160v-160H180v160Zm440 0h160v-160H620v160Z\"/>\n",
              "  </svg>\n",
              "    </button>\n",
              "\n",
              "  <style>\n",
              "    .colab-df-container {\n",
              "      display:flex;\n",
              "      gap: 12px;\n",
              "    }\n",
              "\n",
              "    .colab-df-convert {\n",
              "      background-color: #E8F0FE;\n",
              "      border: none;\n",
              "      border-radius: 50%;\n",
              "      cursor: pointer;\n",
              "      display: none;\n",
              "      fill: #1967D2;\n",
              "      height: 32px;\n",
              "      padding: 0 0 0 0;\n",
              "      width: 32px;\n",
              "    }\n",
              "\n",
              "    .colab-df-convert:hover {\n",
              "      background-color: #E2EBFA;\n",
              "      box-shadow: 0px 1px 2px rgba(60, 64, 67, 0.3), 0px 1px 3px 1px rgba(60, 64, 67, 0.15);\n",
              "      fill: #174EA6;\n",
              "    }\n",
              "\n",
              "    .colab-df-buttons div {\n",
              "      margin-bottom: 4px;\n",
              "    }\n",
              "\n",
              "    [theme=dark] .colab-df-convert {\n",
              "      background-color: #3B4455;\n",
              "      fill: #D2E3FC;\n",
              "    }\n",
              "\n",
              "    [theme=dark] .colab-df-convert:hover {\n",
              "      background-color: #434B5C;\n",
              "      box-shadow: 0px 1px 3px 1px rgba(0, 0, 0, 0.15);\n",
              "      filter: drop-shadow(0px 1px 2px rgba(0, 0, 0, 0.3));\n",
              "      fill: #FFFFFF;\n",
              "    }\n",
              "  </style>\n",
              "\n",
              "    <script>\n",
              "      const buttonEl =\n",
              "        document.querySelector('#df-341460fa-d9a1-4a39-8332-1da88c6829b2 button.colab-df-convert');\n",
              "      buttonEl.style.display =\n",
              "        google.colab.kernel.accessAllowed ? 'block' : 'none';\n",
              "\n",
              "      async function convertToInteractive(key) {\n",
              "        const element = document.querySelector('#df-341460fa-d9a1-4a39-8332-1da88c6829b2');\n",
              "        const dataTable =\n",
              "          await google.colab.kernel.invokeFunction('convertToInteractive',\n",
              "                                                    [key], {});\n",
              "        if (!dataTable) return;\n",
              "\n",
              "        const docLinkHtml = 'Like what you see? Visit the ' +\n",
              "          '<a target=\"_blank\" href=https://colab.research.google.com/notebooks/data_table.ipynb>data table notebook</a>'\n",
              "          + ' to learn more about interactive tables.';\n",
              "        element.innerHTML = '';\n",
              "        dataTable['output_type'] = 'display_data';\n",
              "        await google.colab.output.renderOutput(dataTable, element);\n",
              "        const docLink = document.createElement('div');\n",
              "        docLink.innerHTML = docLinkHtml;\n",
              "        element.appendChild(docLink);\n",
              "      }\n",
              "    </script>\n",
              "  </div>\n",
              "\n",
              "\n",
              "<div id=\"df-bc375f5b-b4a3-45f5-9633-dd5ec444c698\">\n",
              "  <button class=\"colab-df-quickchart\" onclick=\"quickchart('df-bc375f5b-b4a3-45f5-9633-dd5ec444c698')\"\n",
              "            title=\"Suggest charts\"\n",
              "            style=\"display:none;\">\n",
              "\n",
              "<svg xmlns=\"http://www.w3.org/2000/svg\" height=\"24px\"viewBox=\"0 0 24 24\"\n",
              "     width=\"24px\">\n",
              "    <g>\n",
              "        <path d=\"M19 3H5c-1.1 0-2 .9-2 2v14c0 1.1.9 2 2 2h14c1.1 0 2-.9 2-2V5c0-1.1-.9-2-2-2zM9 17H7v-7h2v7zm4 0h-2V7h2v10zm4 0h-2v-4h2v4z\"/>\n",
              "    </g>\n",
              "</svg>\n",
              "  </button>\n",
              "\n",
              "<style>\n",
              "  .colab-df-quickchart {\n",
              "      --bg-color: #E8F0FE;\n",
              "      --fill-color: #1967D2;\n",
              "      --hover-bg-color: #E2EBFA;\n",
              "      --hover-fill-color: #174EA6;\n",
              "      --disabled-fill-color: #AAA;\n",
              "      --disabled-bg-color: #DDD;\n",
              "  }\n",
              "\n",
              "  [theme=dark] .colab-df-quickchart {\n",
              "      --bg-color: #3B4455;\n",
              "      --fill-color: #D2E3FC;\n",
              "      --hover-bg-color: #434B5C;\n",
              "      --hover-fill-color: #FFFFFF;\n",
              "      --disabled-bg-color: #3B4455;\n",
              "      --disabled-fill-color: #666;\n",
              "  }\n",
              "\n",
              "  .colab-df-quickchart {\n",
              "    background-color: var(--bg-color);\n",
              "    border: none;\n",
              "    border-radius: 50%;\n",
              "    cursor: pointer;\n",
              "    display: none;\n",
              "    fill: var(--fill-color);\n",
              "    height: 32px;\n",
              "    padding: 0;\n",
              "    width: 32px;\n",
              "  }\n",
              "\n",
              "  .colab-df-quickchart:hover {\n",
              "    background-color: var(--hover-bg-color);\n",
              "    box-shadow: 0 1px 2px rgba(60, 64, 67, 0.3), 0 1px 3px 1px rgba(60, 64, 67, 0.15);\n",
              "    fill: var(--button-hover-fill-color);\n",
              "  }\n",
              "\n",
              "  .colab-df-quickchart-complete:disabled,\n",
              "  .colab-df-quickchart-complete:disabled:hover {\n",
              "    background-color: var(--disabled-bg-color);\n",
              "    fill: var(--disabled-fill-color);\n",
              "    box-shadow: none;\n",
              "  }\n",
              "\n",
              "  .colab-df-spinner {\n",
              "    border: 2px solid var(--fill-color);\n",
              "    border-color: transparent;\n",
              "    border-bottom-color: var(--fill-color);\n",
              "    animation:\n",
              "      spin 1s steps(1) infinite;\n",
              "  }\n",
              "\n",
              "  @keyframes spin {\n",
              "    0% {\n",
              "      border-color: transparent;\n",
              "      border-bottom-color: var(--fill-color);\n",
              "      border-left-color: var(--fill-color);\n",
              "    }\n",
              "    20% {\n",
              "      border-color: transparent;\n",
              "      border-left-color: var(--fill-color);\n",
              "      border-top-color: var(--fill-color);\n",
              "    }\n",
              "    30% {\n",
              "      border-color: transparent;\n",
              "      border-left-color: var(--fill-color);\n",
              "      border-top-color: var(--fill-color);\n",
              "      border-right-color: var(--fill-color);\n",
              "    }\n",
              "    40% {\n",
              "      border-color: transparent;\n",
              "      border-right-color: var(--fill-color);\n",
              "      border-top-color: var(--fill-color);\n",
              "    }\n",
              "    60% {\n",
              "      border-color: transparent;\n",
              "      border-right-color: var(--fill-color);\n",
              "    }\n",
              "    80% {\n",
              "      border-color: transparent;\n",
              "      border-right-color: var(--fill-color);\n",
              "      border-bottom-color: var(--fill-color);\n",
              "    }\n",
              "    90% {\n",
              "      border-color: transparent;\n",
              "      border-bottom-color: var(--fill-color);\n",
              "    }\n",
              "  }\n",
              "</style>\n",
              "\n",
              "  <script>\n",
              "    async function quickchart(key) {\n",
              "      const quickchartButtonEl =\n",
              "        document.querySelector('#' + key + ' button');\n",
              "      quickchartButtonEl.disabled = true;  // To prevent multiple clicks.\n",
              "      quickchartButtonEl.classList.add('colab-df-spinner');\n",
              "      try {\n",
              "        const charts = await google.colab.kernel.invokeFunction(\n",
              "            'suggestCharts', [key], {});\n",
              "      } catch (error) {\n",
              "        console.error('Error during call to suggestCharts:', error);\n",
              "      }\n",
              "      quickchartButtonEl.classList.remove('colab-df-spinner');\n",
              "      quickchartButtonEl.classList.add('colab-df-quickchart-complete');\n",
              "    }\n",
              "    (() => {\n",
              "      let quickchartButtonEl =\n",
              "        document.querySelector('#df-bc375f5b-b4a3-45f5-9633-dd5ec444c698 button');\n",
              "      quickchartButtonEl.style.display =\n",
              "        google.colab.kernel.accessAllowed ? 'block' : 'none';\n",
              "    })();\n",
              "  </script>\n",
              "</div>\n",
              "    </div>\n",
              "  </div>\n"
            ],
            "application/vnd.google.colaboratory.intrinsic+json": {
              "type": "dataframe",
              "summary": "{\n  \"name\": \"filtered_df\",\n  \"rows\": 5,\n  \"fields\": [\n    {\n      \"column\": \"Unnamed: 0\",\n      \"properties\": {\n        \"dtype\": \"number\",\n        \"std\": 1,\n        \"min\": 9475995,\n        \"max\": 9475999,\n        \"num_unique_values\": 5,\n        \"samples\": [\n          9475996,\n          9475999,\n          9475997\n        ],\n        \"semantic_type\": \"\",\n        \"description\": \"\"\n      }\n    },\n    {\n      \"column\": \"store_id\",\n      \"properties\": {\n        \"dtype\": \"number\",\n        \"std\": 0,\n        \"min\": 67,\n        \"max\": 67,\n        \"num_unique_values\": 1,\n        \"samples\": [\n          67\n        ],\n        \"semantic_type\": \"\",\n        \"description\": \"\"\n      }\n    },\n    {\n      \"column\": \"cust_person_id\",\n      \"properties\": {\n        \"dtype\": \"category\",\n        \"num_unique_values\": 2,\n        \"samples\": [\n          \"870100000315\"\n        ],\n        \"semantic_type\": \"\",\n        \"description\": \"\"\n      }\n    },\n    {\n      \"column\": \"product_id\",\n      \"properties\": {\n        \"dtype\": \"string\",\n        \"num_unique_values\": 5,\n        \"samples\": [\n          \"318757001001\"\n        ],\n        \"semantic_type\": \"\",\n        \"description\": \"\"\n      }\n    },\n    {\n      \"column\": \"sell_val_nsp\",\n      \"properties\": {\n        \"dtype\": \"number\",\n        \"std\": 113,\n        \"min\": 62,\n        \"max\": 333,\n        \"num_unique_values\": 5,\n        \"samples\": [\n          91\n        ],\n        \"semantic_type\": \"\",\n        \"description\": \"\"\n      }\n    },\n    {\n      \"column\": \"SEGMENT_GROUP\",\n      \"properties\": {\n        \"dtype\": \"category\",\n        \"num_unique_values\": 2,\n        \"samples\": [\n          \"Convenience shopper small basket\"\n        ],\n        \"semantic_type\": \"\",\n        \"description\": \"\"\n      }\n    },\n    {\n      \"column\": \"visits\",\n      \"properties\": {\n        \"dtype\": \"number\",\n        \"std\": 1,\n        \"min\": 9,\n        \"max\": 13,\n        \"num_unique_values\": 2,\n        \"samples\": [\n          9\n        ],\n        \"semantic_type\": \"\",\n        \"description\": \"\"\n      }\n    },\n    {\n      \"column\": \"sell_total_val_nsp\",\n      \"properties\": {\n        \"dtype\": \"number\",\n        \"std\": 8594,\n        \"min\": 10545,\n        \"max\": 29762,\n        \"num_unique_values\": 2,\n        \"samples\": [\n          10545\n        ],\n        \"semantic_type\": \"\",\n        \"description\": \"\"\n      }\n    },\n    {\n      \"column\": \"city\",\n      \"properties\": {\n        \"dtype\": \"category\",\n        \"num_unique_values\": 1,\n        \"samples\": [\n          \"CHERNIGIV\"\n        ],\n        \"semantic_type\": \"\",\n        \"description\": \"\"\n      }\n    },\n    {\n      \"column\": \"art_name_tl\",\n      \"properties\": {\n        \"dtype\": \"string\",\n        \"num_unique_values\": 5,\n        \"samples\": [\n          \"ARO OILFISH COLD CMOKED 180 G\"\n        ],\n        \"semantic_type\": \"\",\n        \"description\": \"\"\n      }\n    },\n    {\n      \"column\": \"pcg_cat_desc_tl\",\n      \"properties\": {\n        \"dtype\": \"string\",\n        \"num_unique_values\": 5,\n        \"samples\": [\n          \"OTHER FISH TYPES\"\n        ],\n        \"semantic_type\": \"\",\n        \"description\": \"\"\n      }\n    },\n    {\n      \"column\": \"pcg_sub_cat_desc_tl\",\n      \"properties\": {\n        \"dtype\": \"string\",\n        \"num_unique_values\": 5,\n        \"samples\": [\n          \"OTHER FISH TYPES\"\n        ],\n        \"semantic_type\": \"\",\n        \"description\": \"\"\n      }\n    }\n  ]\n}"
            }
          },
          "metadata": {},
          "execution_count": 13
        }
      ]
    },
    {
      "cell_type": "code",
      "source": [
        "filtered_df['pcg_cat_desc_tl'].nunique()\n"
      ],
      "metadata": {
        "colab": {
          "base_uri": "https://localhost:8080/"
        },
        "id": "yytmCTdJWrtZ",
        "outputId": "a0d2f208-f742-4cce-8126-b1ea9af5d15a"
      },
      "execution_count": null,
      "outputs": [
        {
          "output_type": "execute_result",
          "data": {
            "text/plain": [
              "516"
            ]
          },
          "metadata": {},
          "execution_count": 14
        }
      ]
    },
    {
      "cell_type": "markdown",
      "source": [
        "# TF records"
      ],
      "metadata": {
        "id": "JBLqMa0Oye7Y"
      }
    },
    {
      "cell_type": "code",
      "source": [
        "def save_to_tf_records(df, output_dir, rows_per_file=1000):\n",
        "    if not os.path.exists(output_dir):\n",
        "        os.makedirs(output_dir)\n",
        "\n",
        "    for i in range(0, len(df), rows_per_file):\n",
        "        chunk = df[i:i+rows_per_file]\n",
        "        filename = f\"data_{i:05d}.tfrecord\"\n",
        "        filepath = os.path.join(output_dir, filename)\n",
        "        with tf.io.TFRecordWriter(filepath) as writer:\n",
        "            for _, row in chunk.iterrows():\n",
        "                example = tf.train.Example(features=tf.train.Features(feature={\n",
        "                    'customer_id': tf.train.Feature(bytes_list=tf.train.BytesList(value=[row[\"cust_person_id\"].encode()])),\n",
        "                    'product_id': tf.train.Feature(bytes_list=tf.train.BytesList(value=[row[\"product_id\"].encode()])),\n",
        "                    # 'segment': tf.train.Feature(bytes_list=tf.train.BytesList(value=[row[\"SEGMENT_GROUP\"].encode()])),\n",
        "                    # \"visits\": tf.train.Feature(int64_list=tf.train.Int64List(value=[row[\"visits\"]])),\n",
        "                    \"revenue\": tf.train.Feature(int64_list=tf.train.Int64List(value=[row[\"sell_total_val_nsp\"]])),\n",
        "                    'city': tf.train.Feature(bytes_list=tf.train.BytesList(value=[row[\"city\"].encode()])),\n",
        "                    # 'articul': tf.train.Feature(bytes_list=tf.train.BytesList(value=[row[\"art_name_tl\"].encode()])),\n",
        "                    # 'category': tf.train.Feature(bytes_list=tf.train.BytesList(value=[row[\"pcg_cat_desc_tl\"].encode()])),\n",
        "                    # 'sub_category': tf.train.Feature(bytes_list=tf.train.BytesList(value=[row[\"pcg_sub_cat_desc_tl\"].encode()])),\n",
        "                    # \"ts\": tf.train.Feature(int64_list=tf.train.Int64List(value=[row[\"ts\"]])),\n",
        "                    # 'rating': tf.train.Feature(int64_list=tf.train.Int64List(value=[row[\"sell_val_nsp\"]])),\n",
        "                    }))\n",
        "\n",
        "                writer.write(example.SerializeToString())\n",
        "\n"
      ],
      "metadata": {
        "id": "_v30aTQ5yUN1"
      },
      "execution_count": null,
      "outputs": []
    },
    {
      "cell_type": "code",
      "source": [
        "save_to_tf_records(filtered_df, \"tf_recs\", rows_per_file=200_000)\n"
      ],
      "metadata": {
        "id": "Qkr7y56Ky3qV"
      },
      "execution_count": null,
      "outputs": []
    },
    {
      "cell_type": "markdown",
      "source": [
        "# TF Dataset"
      ],
      "metadata": {
        "id": "kUDWP46c0qP9"
      }
    },
    {
      "cell_type": "code",
      "source": [
        "feature_description = {\n",
        "    'product_id': tf.io.FixedLenFeature([], tf.string, default_value=''),\n",
        "    'customer_id': tf.io.FixedLenFeature([], tf.string, default_value=''),\n",
        "    # 'segment': tf.io.FixedLenFeature([], tf.string, default_value=''),\n",
        "    'city': tf.io.FixedLenFeature([], tf.string, default_value=''),\n",
        "    # 'articul': tf.io.FixedLenFeature([], tf.string, default_value=''),\n",
        "    # 'category': tf.io.FixedLenFeature([], tf.string, default_value=''),\n",
        "    # 'sub_category': tf.io.FixedLenFeature([], tf.string, default_value=''),\n",
        "    # 'visits': tf.io.FixedLenFeature([], tf.int64, default_value=0),\n",
        "    'revenue': tf.io.FixedLenFeature([], tf.int64, default_value=0),\n",
        "    # 'ts': tf.io.FixedLenFeature([], tf.int64, default_value=0),\n",
        "    # 'rating': tf.io.FixedLenFeature([], tf.int64, default_value=0),\n",
        " }\n",
        "\n",
        "def _parse_function(example_proto):\n",
        "  return tf.io.parse_single_example(example_proto, feature_description)\n"
      ],
      "metadata": {
        "id": "YzMXl6AL0r09"
      },
      "execution_count": null,
      "outputs": []
    },
    {
      "cell_type": "code",
      "source": [
        "tfrecord_files = glob.glob('tf_recs/*')\n",
        "\n",
        "full_ds = tf.data.TFRecordDataset(tfrecord_files).map(_parse_function)\n",
        "\n",
        "for elem in full_ds.take(1):\n",
        "    print(elem)\n"
      ],
      "metadata": {
        "colab": {
          "base_uri": "https://localhost:8080/"
        },
        "id": "wB8v8-mE0w6h",
        "outputId": "f24889f4-0601-460d-974a-2e6c27347d82"
      },
      "execution_count": null,
      "outputs": [
        {
          "output_type": "stream",
          "name": "stdout",
          "text": [
            "{'city': <tf.Tensor: shape=(), dtype=string, numpy=b'VINNYTSYA'>, 'customer_id': <tf.Tensor: shape=(), dtype=string, numpy=b'270060668601'>, 'product_id': <tf.Tensor: shape=(), dtype=string, numpy=b'387912001001'>, 'revenue': <tf.Tensor: shape=(), dtype=int64, numpy=19178>}\n"
          ]
        }
      ]
    },
    {
      "cell_type": "code",
      "source": [
        "client_ds = full_ds.map(lambda x: {\n",
        "    \"product_id\": x[\"product_id\"],\n",
        "    'customer_id': x['customer_id'],\n",
        "    # \"segment\": x['segment'],\n",
        "    'city': x['city'],\n",
        "    # 'visits': x['visits'],\n",
        "    'revenue': x['revenue'],\n",
        "    # 'category': x['category'],\n",
        "    # 'sub_category': x['sub_category'],\n",
        "    # 'articul': x['articul'],\n",
        "    # 'ts': x['ts'],\n",
        "    # 'rating': x['rating'],\n",
        "})\n",
        "\n",
        "for elem in client_ds.take(2):\n",
        "    print(elem)\n",
        "\n",
        "unique_product_ids_df = pd.DataFrame(filtered_df['product_id'].unique(), columns=['product_id'])\n",
        "\n",
        "product_ids = {key: col.values for key, col in dict(unique_product_ids_df[['product_id']]).items()}\n",
        "\n",
        "product_ds = tf.data.Dataset.from_tensor_slices(product_ids)\n",
        "\n",
        "for elem in product_ds.take(2):\n",
        "    print(elem)\n",
        "\n"
      ],
      "metadata": {
        "colab": {
          "base_uri": "https://localhost:8080/"
        },
        "id": "jExkJpua04B8",
        "outputId": "54e31700-710a-4663-b06e-eeb159fc0a58"
      },
      "execution_count": null,
      "outputs": [
        {
          "output_type": "stream",
          "name": "stderr",
          "text": [
            "WARNING:tensorflow:From /usr/local/lib/python3.10/dist-packages/tensorflow/python/autograph/pyct/static_analysis/liveness.py:83: Analyzer.lamba_check (from tensorflow.python.autograph.pyct.static_analysis.liveness) is deprecated and will be removed after 2023-09-23.\n",
            "Instructions for updating:\n",
            "Lambda fuctions will be no more assumed to be used in the statement where they are used, or at least in the same block. https://github.com/tensorflow/tensorflow/issues/56089\n"
          ]
        },
        {
          "output_type": "stream",
          "name": "stdout",
          "text": [
            "{'product_id': <tf.Tensor: shape=(), dtype=string, numpy=b'387912001001'>, 'customer_id': <tf.Tensor: shape=(), dtype=string, numpy=b'270060668601'>, 'city': <tf.Tensor: shape=(), dtype=string, numpy=b'VINNYTSYA'>, 'revenue': <tf.Tensor: shape=(), dtype=int64, numpy=19178>}\n",
            "{'product_id': <tf.Tensor: shape=(), dtype=string, numpy=b'390458001001'>, 'customer_id': <tf.Tensor: shape=(), dtype=string, numpy=b'270060668601'>, 'city': <tf.Tensor: shape=(), dtype=string, numpy=b'VINNYTSYA'>, 'revenue': <tf.Tensor: shape=(), dtype=int64, numpy=19178>}\n",
            "{'product_id': <tf.Tensor: shape=(), dtype=string, numpy=b'6754001001'>}\n",
            "{'product_id': <tf.Tensor: shape=(), dtype=string, numpy=b'148975001001'>}\n"
          ]
        }
      ]
    },
    {
      "cell_type": "markdown",
      "source": [
        "# Models Retrival"
      ],
      "metadata": {
        "id": "p4kWIi3c1YP1"
      }
    },
    {
      "cell_type": "markdown",
      "source": [
        "## Vocabs"
      ],
      "metadata": {
        "id": "OWoc2Bi01l45"
      }
    },
    {
      "cell_type": "code",
      "source": [
        "revenues = np.concatenate(list(client_ds.map(lambda x: x[\"revenue\"]).batch(1_000)))\n",
        "max_revenues = revenues.max()\n",
        "min_revenues = revenues.min()\n",
        "\n",
        "revenues_buckets = np.linspace(\n",
        "    min_revenues, max_revenues, num=100,\n",
        ")\n",
        "unique_revenues = np.unique(np.concatenate(list(client_ds.batch(1_000).map(\n",
        "                                                  lambda x: x['revenue']))))\n",
        "\n",
        "print(len(unique_revenues))\n",
        "print(unique_revenues[:10])\n"
      ],
      "metadata": {
        "colab": {
          "base_uri": "https://localhost:8080/"
        },
        "id": "hk577c4L1T08",
        "outputId": "e137df06-7705-4572-ed3f-566deebde2ea"
      },
      "execution_count": null,
      "outputs": [
        {
          "output_type": "stream",
          "name": "stdout",
          "text": [
            "92869\n",
            "[ 0  1  4  6  7  8  9 10 11 12]\n"
          ]
        }
      ]
    },
    {
      "cell_type": "code",
      "source": [
        "unique_product_ids = np.unique(np.concatenate(list(product_ds.batch(1_000).map(\n",
        "    lambda x: x[\"product_id\"]))))\n",
        "\n",
        "print(len(unique_product_ids))\n",
        "print(unique_product_ids[:10])\n"
      ],
      "metadata": {
        "colab": {
          "base_uri": "https://localhost:8080/"
        },
        "id": "WUJWQEMl1cuA",
        "outputId": "813a4497-1f80-4de7-da7e-db2ad2b72b09"
      },
      "execution_count": null,
      "outputs": [
        {
          "output_type": "stream",
          "name": "stdout",
          "text": [
            "6594\n",
            "[b'100007001001' b'100101001001' b'10021001003' b'10025001003'\n",
            " b'100301001001' b'100360001001' b'100683001001' b'100803001001'\n",
            " b'100897001001' b'101114001003']\n"
          ]
        }
      ]
    },
    {
      "cell_type": "code",
      "source": [
        "unique_customer_id = np.unique(np.concatenate(list(client_ds.batch(1_000).map(\n",
        "    lambda x: x[\"customer_id\"]))))\n",
        "\n",
        "print(len(unique_customer_id))\n",
        "print(unique_customer_id[:10])\n"
      ],
      "metadata": {
        "colab": {
          "base_uri": "https://localhost:8080/"
        },
        "id": "QfJYguR_1gGj",
        "outputId": "7c977a5d-e492-45d5-b355-8dbe6855742a"
      },
      "execution_count": null,
      "outputs": [
        {
          "output_type": "stream",
          "name": "stdout",
          "text": [
            "398702\n",
            "[b'100000002701' b'100000003802' b'100000004301' b'100000005401'\n",
            " b'100000008201' b'100000009201' b'100000013101' b'100000016103'\n",
            " b'100000018101' b'100000019304']\n"
          ]
        }
      ]
    },
    {
      "cell_type": "code",
      "source": [
        "unique_city = np.unique(np.concatenate(list(client_ds.batch(1_000).map(\n",
        "    lambda x: x[\"city\"]))))\n",
        "\n",
        "print(len(unique_city))\n",
        "print(unique_city)\n"
      ],
      "metadata": {
        "colab": {
          "base_uri": "https://localhost:8080/"
        },
        "id": "18sg10ih1k38",
        "outputId": "42b1070b-ed5c-4c51-cecd-b35c76dacb6f"
      },
      "execution_count": null,
      "outputs": [
        {
          "output_type": "stream",
          "name": "stdout",
          "text": [
            "17\n",
            "[b'CHERNIGIV' b'CHERNIVTSI' b'DNIPROPETROVSK' b'IVANO-FRANKIVSK'\n",
            " b'KHARKIV' b'KRYVYY RIH' b'KYIV' b'LUTSK' b'LVIV' b'MYKOLAIV' b'ODESA'\n",
            " b'POLTAVA' b'RIVNE' b'TERNOPIL' b'VINNYTSYA' b'ZAPORIZHZHYA' b'ZHYTOMYR']\n"
          ]
        }
      ]
    },
    {
      "cell_type": "code",
      "source": [
        "# unique_category = np.unique(np.concatenate(list(client_ds.batch(1_000).map(\n",
        "#      lambda x: x[\"category\"]))))\n",
        "\n",
        "# print(len(unique_category))\n",
        "# print(unique_category[:10])\n"
      ],
      "metadata": {
        "colab": {
          "base_uri": "https://localhost:8080/"
        },
        "id": "Fs3Qg6dAZ4Uf",
        "outputId": "73be22c8-314d-4a3e-b5b2-235c40bc8f53"
      },
      "execution_count": null,
      "outputs": [
        {
          "output_type": "stream",
          "name": "stdout",
          "text": [
            "516\n",
            "[b'0 - 20 Liter' b'100% DIRECT/NOT FROM CONCENTRA'\n",
            " b'100% FROM CONCENTRATE' b'101 Liter and more' b'21 -50 Liter'\n",
            " b'26X26 - 39X39' b'51 - 100 Liter' b'ACCESSORIES' b'AFTER WASH AIDS'\n",
            " b'AIR FRESHNER']\n"
          ]
        }
      ]
    },
    {
      "cell_type": "markdown",
      "source": [
        "## Buyer Model"
      ],
      "metadata": {
        "id": "rp2DlAzo1njS"
      }
    },
    {
      "cell_type": "code",
      "source": [
        "class BuyerModel(tf.keras.Model):\n",
        "\n",
        "  def __init__(self):\n",
        "    super().__init__()\n",
        "\n",
        "    self.customers_embedding = tf.keras.Sequential([\n",
        "       tf.keras.layers.StringLookup(\n",
        "         vocabulary = unique_customer_id, mask_token = None),\n",
        "         tf.keras.layers.Embedding(len(unique_customer_id) + 1, 32),\n",
        "     ])\n",
        "\n",
        "    self.city_embedding = tf.keras.Sequential([\n",
        "       tf.keras.layers.StringLookup(\n",
        "         vocabulary = unique_city, mask_token = None),\n",
        "         tf.keras.layers.Embedding(len(unique_city) + 1, 32),\n",
        "     ])\n",
        "\n",
        "    # self.category_embedding = tf.keras.Sequential([\n",
        "    #    tf.keras.layers.StringLookup(\n",
        "    #      vocabulary = unique_category, mask_token = None),\n",
        "    #      tf.keras.layers.Embedding(len(unique_category) + 1, 32),\n",
        "    #  ])\n",
        "\n",
        "    self.revenues_embedding = tf.keras.Sequential([\n",
        "          tf.keras.layers.Discretization(revenues_buckets.tolist()),\n",
        "          tf.keras.layers.Embedding(len(revenues_buckets) + 1, 32),])\n",
        "    self.normalized_revenues = tf.keras.layers.Normalization(axis=None)\n",
        "    self.normalized_revenues.adapt(unique_revenues)\n",
        "\n",
        "    # self.visits_embedding = tf.keras.Sequential([\n",
        "    #       tf.keras.layers.Discretization(visits_buckets.tolist()),\n",
        "    #       tf.keras.layers.Embedding(len(visits_buckets) + 1, 32),])\n",
        "    # self.normalized_visits = tf.keras.layers.Normalization(axis=None)\n",
        "    # self.normalized_visits.adapt(unique_visits)\n",
        "\n",
        "  def call(self, inputs):\n",
        "    return tf.concat([\n",
        "      self.customers_embedding(inputs['customer_id']),\n",
        "      self.city_embedding(inputs['city']),\n",
        "      # self.category_embedding(inputs['category']),\n",
        "      self.revenues_embedding(inputs[\"revenue\"]),\n",
        "      tf.reshape(self.normalized_revenues(inputs[\"revenue\"]), (-1, 1)),\n",
        "      # self.visits_embedding(inputs[\"visits\"]),\n",
        "      # tf.reshape(self.normalized_visits(inputs[\"visits\"]), (-1, 1)),\n",
        "      ], axis=1)\n"
      ],
      "metadata": {
        "id": "0bWyLClW1pWG"
      },
      "execution_count": null,
      "outputs": []
    },
    {
      "cell_type": "code",
      "source": [
        "buyer_model = BuyerModel()\n",
        "\n",
        "for row in client_ds.batch(1).take(1):\n",
        "  print(f\"Computed representations: {buyer_model(row)[0, :]}\")\n"
      ],
      "metadata": {
        "colab": {
          "base_uri": "https://localhost:8080/"
        },
        "id": "w8EtpM9C13Vd",
        "outputId": "ddf76ccd-749f-430d-af00-cb448b249567"
      },
      "execution_count": null,
      "outputs": [
        {
          "output_type": "stream",
          "name": "stdout",
          "text": [
            "Computed representations: [ 0.03399992  0.00110865 -0.03796568 -0.01992252 -0.03427275  0.02681056\n",
            "  0.03629755  0.0407009   0.04813272 -0.00070733 -0.04917831  0.04750422\n",
            "  0.04373807 -0.04707867  0.04597748  0.01441438 -0.01457058  0.03726821\n",
            " -0.04492712 -0.04017244 -0.02072992  0.0338434   0.02787507  0.02433487\n",
            " -0.02825066 -0.01539145 -0.03985052  0.0473851   0.03372028  0.00694267\n",
            " -0.03433452  0.02081113  0.02437956 -0.0098361  -0.02063779  0.04325503\n",
            "  0.01075319  0.03511808 -0.04720321 -0.02679389 -0.02655318  0.03394173\n",
            " -0.03482348 -0.00633508 -0.01433895  0.00040828  0.00435475 -0.04551322\n",
            "  0.00514252 -0.02720505  0.0031571  -0.00956987  0.02797321  0.01806644\n",
            " -0.04338205 -0.01140375  0.02951232 -0.03776421  0.04086323 -0.01744969\n",
            "  0.00265629 -0.02017059 -0.03114309 -0.03447064  0.00705938 -0.02785559\n",
            "  0.00362926 -0.01443974 -0.00762919 -0.01161978 -0.03665172  0.01005252\n",
            "  0.02818414  0.02950962  0.04338664  0.01723618  0.04289265 -0.02741591\n",
            " -0.03608148  0.01545065  0.02559146 -0.02853322  0.04900954 -0.00904129\n",
            " -0.04844581 -0.02079616 -0.03304344 -0.0433428   0.02122145  0.01158897\n",
            "  0.03931483 -0.00835974  0.02690533 -0.02087495 -0.02476294  0.04849399\n",
            " -0.2911221 ]\n"
          ]
        }
      ]
    },
    {
      "cell_type": "markdown",
      "source": [
        "## Product model"
      ],
      "metadata": {
        "id": "pvi-g_hQ16ak"
      }
    },
    {
      "cell_type": "code",
      "source": [
        "class ProductModel(tf.keras.Model):\n",
        "\n",
        "  def __init__(self):\n",
        "    super().__init__()\n",
        "\n",
        "    self.product_embedding = tf.keras.Sequential([\n",
        "        tf.keras.layers.StringLookup(\n",
        "            vocabulary=unique_product_ids, mask_token=None),\n",
        "        tf.keras.layers.Embedding(len(unique_product_ids) + 1, 32),\n",
        "    ])\n",
        "\n",
        "  def call(self, inputs):\n",
        "    return tf.concat([\n",
        "      self.product_embedding(inputs['product_id'])\n",
        "      ], axis=1)\n"
      ],
      "metadata": {
        "id": "85SEmWDe17eC"
      },
      "execution_count": null,
      "outputs": []
    },
    {
      "cell_type": "code",
      "source": [
        "product_model = ProductModel()\n",
        "\n",
        "for row in product_ds.batch(10).take(1):\n",
        "    # print(row)\n",
        "  print(f\"Computed representations: {product_model(row)[0, :]}\")\n"
      ],
      "metadata": {
        "colab": {
          "base_uri": "https://localhost:8080/"
        },
        "id": "i4o-ejah1-jp",
        "outputId": "1d318956-af90-4057-874f-e4373596e540"
      },
      "execution_count": null,
      "outputs": [
        {
          "output_type": "stream",
          "name": "stdout",
          "text": [
            "Computed representations: [-0.02025359 -0.03857349  0.01682725  0.04775253 -0.01636417 -0.03622451\n",
            " -0.02582481  0.04071114 -0.04165679  0.02789077 -0.02002802 -0.03647708\n",
            "  0.01988009 -0.02349278 -0.00788284  0.04131683 -0.04863368 -0.03462045\n",
            " -0.00495042  0.01818936 -0.04018364 -0.02518502 -0.00601222  0.02773193\n",
            "  0.00485034  0.04800156  0.03979185  0.04303421 -0.03284514 -0.02943776\n",
            " -0.01672145  0.01129471]\n"
          ]
        }
      ]
    },
    {
      "cell_type": "markdown",
      "source": [
        "## Joint Model"
      ],
      "metadata": {
        "id": "0xl2eqwz2Hnf"
      }
    },
    {
      "cell_type": "code",
      "source": [
        "class Retrival(tfrs.models.Model):\n",
        "\n",
        "  def __init__(self):\n",
        "    super().__init__()\n",
        "\n",
        "    self.query_model = tf.keras.Sequential([\n",
        "      BuyerModel(),\n",
        "      tf.keras.layers.Dense(64, kernel_regularizer= tf.keras.regularizers.l1(0.01)),\n",
        "      tf.keras.layers.Dense(32),\n",
        "      tf.keras.layers.Dense(16),\n",
        "      # tf.keras.layers.Dense(8)\n",
        "       ])\n",
        "\n",
        "    self.candidate_model = tf.keras.Sequential([\n",
        "      ProductModel(),\n",
        "      tf.keras.layers.Dense(64, kernel_regularizer= tf.keras.regularizers.l1(0.01)),\n",
        "      tf.keras.layers.Dense(32),\n",
        "      tf.keras.layers.Dense(16),\n",
        "      # tf.keras.layers.Dense(8)\n",
        "      ])\n",
        "\n",
        "    self.retrieval_task: tf.keras.layers.Layer = tfrs.tasks.Retrieval(\n",
        "        metrics=tfrs.metrics.FactorizedTopK(\n",
        "            candidates=product_ds.batch(128).map(self.candidate_model)\n",
        "        )\n",
        "    )\n",
        "\n",
        "  def call(self, features: Dict[Text, tf.Tensor]) -> tf.Tensor:\n",
        "    buyer_embeddings = self.query_model({\n",
        "      'customer_id': features['customer_id'],\n",
        "      # 'category': features['category'],\n",
        "      'city': features['city'],\n",
        "      'revenue': features['revenue'],\n",
        "      # 'visits': features['visits'],\n",
        "      })\n",
        "\n",
        "    product_embeddings = self.candidate_model({'product_id': features[\"product_id\"]})\n",
        "\n",
        "    return buyer_embeddings, product_embeddings\n",
        "\n",
        "\n",
        "  def compute_loss(self, features: Dict[Text, tf.Tensor], training=False) -> tf.Tensor:\n",
        "    buyer_embeddings, product_embeddings = self(features)\n",
        "\n",
        "    retrieval_loss = self.retrieval_task(buyer_embeddings, product_embeddings)\n",
        "\n",
        "    return retrieval_loss\n"
      ],
      "metadata": {
        "id": "Rs9ANxV62Mzk"
      },
      "execution_count": null,
      "outputs": []
    },
    {
      "cell_type": "code",
      "source": [
        "model_retrival = Retrival()\n"
      ],
      "metadata": {
        "colab": {
          "base_uri": "https://localhost:8080/"
        },
        "id": "QBWHccOb2O7T",
        "outputId": "b10c6549-6e55-41a1-eb08-2207b1804a4c"
      },
      "execution_count": null,
      "outputs": [
        {
          "output_type": "stream",
          "name": "stderr",
          "text": [
            "WARNING:tensorflow:Layers in a Sequential model should only have a single input tensor. Received: inputs={'product_id': <tf.Tensor 'args_0:0' shape=(None,) dtype=string>}. Consider rewriting this model with the Functional API.\n"
          ]
        }
      ]
    },
    {
      "cell_type": "code",
      "source": [
        "iterator = client_ds.shuffle(buffer_size=1_000).take(1).as_numpy_iterator()\n",
        "\n",
        "# Iterate over the elements and extract values\n",
        "for elem in iterator:\n",
        "    buyer_info = {\n",
        "        'customer_id': np.array([elem['customer_id']]),\n",
        "        'city': np.array([elem['city']]),\n",
        "        # 'category': np.array([elem['category']]),\n",
        "        'revenue': np.array([elem['revenue']]),\n",
        "    }\n",
        "\n",
        "print(model_retrival.query_model(buyer_info))\n",
        "\n",
        "iterator = product_ds.shuffle(buffer_size=1_000).take(1).as_numpy_iterator()\n",
        "for elem in iterator:\n",
        "    product_detail = {\n",
        "        'product_id': np.array([elem['product_id']])\n",
        "    }\n",
        "\n",
        "print(model_retrival.candidate_model(product_detail))\n"
      ],
      "metadata": {
        "colab": {
          "base_uri": "https://localhost:8080/"
        },
        "id": "fy_W8iq02T-i",
        "outputId": "b3312467-fbb4-40dc-b658-596a9cecb918"
      },
      "execution_count": null,
      "outputs": [
        {
          "output_type": "stream",
          "name": "stderr",
          "text": [
            "WARNING:tensorflow:Layers in a Sequential model should only have a single input tensor. Received: inputs={'customer_id': <tf.Tensor: shape=(1,), dtype=string, numpy=array([b'270060680501'], dtype=object)>, 'city': <tf.Tensor: shape=(1,), dtype=string, numpy=array([b'VINNYTSYA'], dtype=object)>, 'revenue': <tf.Tensor: shape=(1,), dtype=int64, numpy=array([24339])>}. Consider rewriting this model with the Functional API.\n",
            "WARNING:tensorflow:Layers in a Sequential model should only have a single input tensor. Received: inputs={'product_id': <tf.Tensor: shape=(1,), dtype=string, numpy=array([b'380508001001'], dtype=object)>}. Consider rewriting this model with the Functional API.\n"
          ]
        },
        {
          "output_type": "stream",
          "name": "stdout",
          "text": [
            "tf.Tensor(\n",
            "[[-0.05389957  0.0216173  -0.00727413 -0.03530112 -0.01078787 -0.0249387\n",
            "  -0.0061572  -0.01682053  0.00278561  0.00174664  0.01118086 -0.06660222\n",
            "   0.04037008 -0.06332009  0.00439649 -0.04749972]], shape=(1, 16), dtype=float32)\n",
            "tf.Tensor(\n",
            "[[ 0.0205304  -0.00781439 -0.03741527 -0.03862851  0.07053401  0.04537986\n",
            "  -0.00839401  0.0301592  -0.05033614  0.06038266  0.00488784 -0.00071433\n",
            "   0.03028041  0.01496522 -0.01023044 -0.02649099]], shape=(1, 16), dtype=float32)\n"
          ]
        }
      ]
    },
    {
      "cell_type": "markdown",
      "source": [
        "## Training"
      ],
      "metadata": {
        "id": "KJSWEVue2Zfh"
      }
    },
    {
      "cell_type": "code",
      "source": [
        "tf.random.set_seed(158)\n",
        "shuffled = client_ds.shuffle(100_000, seed=42, reshuffle_each_iteration=False)\n",
        "\n",
        "train = shuffled.take(7_500_000)\n",
        "test = shuffled.skip(7_500_000)\n",
        "\n",
        "cached_train = train.batch(10_000).cache()\n",
        "cached_test = test.batch(5_000).cache()\n"
      ],
      "metadata": {
        "id": "zb77apRp2aU5"
      },
      "execution_count": null,
      "outputs": []
    },
    {
      "cell_type": "code",
      "source": [
        "MAX_EPOCHS = 50\n",
        "\n",
        "def compile_and_fit(model, train_ds, test_ds, patience=3):\n",
        "   #early_stopping = tf.keras.callbacks.EarlyStopping(monitor='factorized_top_k/top_5_categorical_accuracy',\n",
        "  #                                                   patience=patience,\n",
        "  #                                                   mode='min')\n",
        "\n",
        "  log_dir = \"/content/drive/MyDrive/Work/C4R/Metro/logs/fit/\" + dt.datetime.now().strftime(\"%Y%m%d-%H%M%S\")\n",
        "  # log_dir = \"\" + dt.datetime.now().strftime(\"%Y%m%d-%H%M%S\")\n",
        "  tensorboard_callback = tf.keras.callbacks.TensorBoard(log_dir=log_dir, histogram_freq=1)\n",
        "\n",
        "  model.compile(optimizer= tf.keras.optimizers.Adagrad(0.1))\n",
        "\n",
        "  history = model.fit(train_ds, epochs=MAX_EPOCHS,\n",
        "                      callbacks = [tensorboard_callback])\n",
        "  metrics = model.evaluate(test_ds, return_dict=True)\n",
        "\n",
        "  return model, history, metrics\n"
      ],
      "metadata": {
        "id": "TiT6NT3K2kjj"
      },
      "execution_count": null,
      "outputs": []
    },
    {
      "cell_type": "code",
      "source": [
        "%%time\n",
        "\n",
        "model, history, metrics = compile_and_fit(model_retrival, cached_train, cached_test)\n",
        "\n",
        "index = tfrs.layers.factorized_top_k.BruteForce(model.query_model, k = 100)\n",
        "\n",
        "index.index_from_dataset(\n",
        "    tf.data.Dataset.zip((product_ds.map(lambda x: x['product_id']).batch(128), product_ds.batch(128).map(model.candidate_model)))\n",
        ")\n",
        "\n",
        "score, title = index(buyer_info)\n",
        "\n",
        "a = np.dstack((title, score))\n",
        "\n",
        "print(a)\n",
        "\n",
        "path = os.path.join('/content/drive/MyDrive/Work/C4R/Metro/Models', \"UA_P2C_all_sku\")\n",
        "\n",
        "tf.saved_model.save(index, path)\n",
        "\n",
        "loaded = tf.saved_model.load(path)\n",
        "loaded(buyer_info)\n",
        "\n",
        "plt.plot(history.history['factorized_top_k/top_5_categorical_accuracy'])\n",
        "plt.plot(history.history['factorized_top_k/top_10_categorical_accuracy'])\n",
        "plt.plot(history.history['factorized_top_k/top_50_categorical_accuracy'])\n",
        "plt.plot(history.history['factorized_top_k/top_100_categorical_accuracy'])"
      ],
      "metadata": {
        "colab": {
          "base_uri": "https://localhost:8080/",
          "height": 1000
        },
        "id": "Ha5V5OwI6Kmw",
        "outputId": "480948be-0d80-451e-8885-612c08e0593f"
      },
      "execution_count": null,
      "outputs": [
        {
          "metadata": {
            "tags": null
          },
          "name": "stdout",
          "output_type": "stream",
          "text": [
            "Epoch 1/50\n"
          ]
        },
        {
          "metadata": {
            "tags": null
          },
          "name": "stderr",
          "output_type": "stream",
          "text": [
            "WARNING:tensorflow:Layers in a Sequential model should only have a single input tensor. Received: inputs={'customer_id': <tf.Tensor 'IteratorGetNext:1' shape=(None,) dtype=string>, 'city': <tf.Tensor 'IteratorGetNext:0' shape=(None,) dtype=string>, 'revenue': <tf.Tensor 'IteratorGetNext:3' shape=(None,) dtype=int64>}. Consider rewriting this model with the Functional API.\n",
            "WARNING:tensorflow:Layers in a Sequential model should only have a single input tensor. Received: inputs={'product_id': <tf.Tensor 'IteratorGetNext:2' shape=(None,) dtype=string>}. Consider rewriting this model with the Functional API.\n",
            "WARNING:tensorflow:Layers in a Sequential model should only have a single input tensor. Received: inputs={'customer_id': <tf.Tensor 'IteratorGetNext:1' shape=(None,) dtype=string>, 'city': <tf.Tensor 'IteratorGetNext:0' shape=(None,) dtype=string>, 'revenue': <tf.Tensor 'IteratorGetNext:3' shape=(None,) dtype=int64>}. Consider rewriting this model with the Functional API.\n",
            "WARNING:tensorflow:Layers in a Sequential model should only have a single input tensor. Received: inputs={'product_id': <tf.Tensor 'IteratorGetNext:2' shape=(None,) dtype=string>}. Consider rewriting this model with the Functional API.\n"
          ]
        },
        {
          "output_type": "stream",
          "name": "stdout",
          "text": [
            "750/750 [==============================] - 1040s 1s/step - factorized_top_k/top_1_categorical_accuracy: 8.8800e-05 - factorized_top_k/top_5_categorical_accuracy: 7.7867e-04 - factorized_top_k/top_10_categorical_accuracy: 0.0018 - factorized_top_k/top_50_categorical_accuracy: 0.0110 - factorized_top_k/top_100_categorical_accuracy: 0.0234 - loss: 125176.8506 - regularization_loss: 11.2213 - total_loss: 125188.0722\n",
            "Epoch 2/50\n",
            "750/750 [==============================] - 985s 1s/step - factorized_top_k/top_1_categorical_accuracy: 2.8853e-04 - factorized_top_k/top_5_categorical_accuracy: 0.0026 - factorized_top_k/top_10_categorical_accuracy: 0.0055 - factorized_top_k/top_50_categorical_accuracy: 0.0255 - factorized_top_k/top_100_categorical_accuracy: 0.0476 - loss: 90249.2319 - regularization_loss: 11.2030 - total_loss: 90260.4346\n",
            "Epoch 3/50\n",
            "750/750 [==============================] - 985s 1s/step - factorized_top_k/top_1_categorical_accuracy: 5.5080e-04 - factorized_top_k/top_5_categorical_accuracy: 0.0047 - factorized_top_k/top_10_categorical_accuracy: 0.0094 - factorized_top_k/top_50_categorical_accuracy: 0.0379 - factorized_top_k/top_100_categorical_accuracy: 0.0664 - loss: 89371.8094 - regularization_loss: 11.2276 - total_loss: 89383.0371\n",
            "Epoch 4/50\n",
            "750/750 [==============================] - 985s 1s/step - factorized_top_k/top_1_categorical_accuracy: 8.2587e-04 - factorized_top_k/top_5_categorical_accuracy: 0.0069 - factorized_top_k/top_10_categorical_accuracy: 0.0132 - factorized_top_k/top_50_categorical_accuracy: 0.0486 - factorized_top_k/top_100_categorical_accuracy: 0.0819 - loss: 88685.2320 - regularization_loss: 11.2762 - total_loss: 88696.5084\n",
            "Epoch 5/50\n",
            "750/750 [==============================] - 985s 1s/step - factorized_top_k/top_1_categorical_accuracy: 0.0011 - factorized_top_k/top_5_categorical_accuracy: 0.0088 - factorized_top_k/top_10_categorical_accuracy: 0.0163 - factorized_top_k/top_50_categorical_accuracy: 0.0568 - factorized_top_k/top_100_categorical_accuracy: 0.0933 - loss: 88105.2502 - regularization_loss: 11.3301 - total_loss: 88116.5800\n",
            "Epoch 6/50\n",
            "750/750 [==============================] - 985s 1s/step - factorized_top_k/top_1_categorical_accuracy: 0.0012 - factorized_top_k/top_5_categorical_accuracy: 0.0104 - factorized_top_k/top_10_categorical_accuracy: 0.0191 - factorized_top_k/top_50_categorical_accuracy: 0.0636 - factorized_top_k/top_100_categorical_accuracy: 0.1026 - loss: 87613.0379 - regularization_loss: 11.3770 - total_loss: 87624.4147\n",
            "Epoch 7/50\n",
            "750/750 [==============================] - 986s 1s/step - factorized_top_k/top_1_categorical_accuracy: 0.0014 - factorized_top_k/top_5_categorical_accuracy: 0.0121 - factorized_top_k/top_10_categorical_accuracy: 0.0218 - factorized_top_k/top_50_categorical_accuracy: 0.0694 - factorized_top_k/top_100_categorical_accuracy: 0.1102 - loss: 87200.4897 - regularization_loss: 11.4176 - total_loss: 87211.9072\n",
            "Epoch 8/50\n",
            "750/750 [==============================] - 985s 1s/step - factorized_top_k/top_1_categorical_accuracy: 0.0016 - factorized_top_k/top_5_categorical_accuracy: 0.0136 - factorized_top_k/top_10_categorical_accuracy: 0.0241 - factorized_top_k/top_50_categorical_accuracy: 0.0742 - factorized_top_k/top_100_categorical_accuracy: 0.1166 - loss: 86852.9753 - regularization_loss: 11.4521 - total_loss: 86864.4274\n",
            "Epoch 9/50\n",
            "750/750 [==============================] - 985s 1s/step - factorized_top_k/top_1_categorical_accuracy: 0.0018 - factorized_top_k/top_5_categorical_accuracy: 0.0149 - factorized_top_k/top_10_categorical_accuracy: 0.0261 - factorized_top_k/top_50_categorical_accuracy: 0.0785 - factorized_top_k/top_100_categorical_accuracy: 0.1220 - loss: 86550.1099 - regularization_loss: 11.4856 - total_loss: 86561.5954\n",
            "Epoch 10/50\n",
            "750/750 [==============================] - 987s 1s/step - factorized_top_k/top_1_categorical_accuracy: 0.0019 - factorized_top_k/top_5_categorical_accuracy: 0.0161 - factorized_top_k/top_10_categorical_accuracy: 0.0280 - factorized_top_k/top_50_categorical_accuracy: 0.0821 - factorized_top_k/top_100_categorical_accuracy: 0.1267 - loss: 86291.3648 - regularization_loss: 11.5146 - total_loss: 86302.8806\n",
            "Epoch 11/50\n",
            "750/750 [==============================] - 985s 1s/step - factorized_top_k/top_1_categorical_accuracy: 0.0020 - factorized_top_k/top_5_categorical_accuracy: 0.0173 - factorized_top_k/top_10_categorical_accuracy: 0.0297 - factorized_top_k/top_50_categorical_accuracy: 0.0855 - factorized_top_k/top_100_categorical_accuracy: 0.1309 - loss: 86061.7733 - regularization_loss: 11.5394 - total_loss: 86073.3134\n",
            "Epoch 12/50\n",
            "750/750 [==============================] - 986s 1s/step - factorized_top_k/top_1_categorical_accuracy: 0.0022 - factorized_top_k/top_5_categorical_accuracy: 0.0184 - factorized_top_k/top_10_categorical_accuracy: 0.0314 - factorized_top_k/top_50_categorical_accuracy: 0.0888 - factorized_top_k/top_100_categorical_accuracy: 0.1350 - loss: 85846.3215 - regularization_loss: 11.5654 - total_loss: 85857.8861\n",
            "Epoch 13/50\n",
            "750/750 [==============================] - 987s 1s/step - factorized_top_k/top_1_categorical_accuracy: 0.0023 - factorized_top_k/top_5_categorical_accuracy: 0.0195 - factorized_top_k/top_10_categorical_accuracy: 0.0330 - factorized_top_k/top_50_categorical_accuracy: 0.0919 - factorized_top_k/top_100_categorical_accuracy: 0.1389 - loss: 85646.9243 - regularization_loss: 11.5908 - total_loss: 85658.5151\n",
            "Epoch 14/50\n",
            "750/750 [==============================] - 987s 1s/step - factorized_top_k/top_1_categorical_accuracy: 0.0024 - factorized_top_k/top_5_categorical_accuracy: 0.0204 - factorized_top_k/top_10_categorical_accuracy: 0.0345 - factorized_top_k/top_50_categorical_accuracy: 0.0947 - factorized_top_k/top_100_categorical_accuracy: 0.1423 - loss: 85470.4011 - regularization_loss: 11.6111 - total_loss: 85482.0107\n",
            "Epoch 15/50\n",
            "750/750 [==============================] - 987s 1s/step - factorized_top_k/top_1_categorical_accuracy: 0.0026 - factorized_top_k/top_5_categorical_accuracy: 0.0212 - factorized_top_k/top_10_categorical_accuracy: 0.0357 - factorized_top_k/top_50_categorical_accuracy: 0.0973 - factorized_top_k/top_100_categorical_accuracy: 0.1455 - loss: 85312.2177 - regularization_loss: 11.6268 - total_loss: 85323.8442\n",
            "Epoch 16/50\n",
            "750/750 [==============================] - 989s 1s/step - factorized_top_k/top_1_categorical_accuracy: 0.0027 - factorized_top_k/top_5_categorical_accuracy: 0.0220 - factorized_top_k/top_10_categorical_accuracy: 0.0369 - factorized_top_k/top_50_categorical_accuracy: 0.0995 - factorized_top_k/top_100_categorical_accuracy: 0.1484 - loss: 85167.1637 - regularization_loss: 11.6410 - total_loss: 85178.8044\n",
            "Epoch 17/50\n",
            "750/750 [==============================] - 989s 1s/step - factorized_top_k/top_1_categorical_accuracy: 0.0027 - factorized_top_k/top_5_categorical_accuracy: 0.0227 - factorized_top_k/top_10_categorical_accuracy: 0.0380 - factorized_top_k/top_50_categorical_accuracy: 0.1017 - factorized_top_k/top_100_categorical_accuracy: 0.1511 - loss: 85029.3753 - regularization_loss: 11.6563 - total_loss: 85041.0316\n",
            "Epoch 18/50\n",
            "750/750 [==============================] - 990s 1s/step - factorized_top_k/top_1_categorical_accuracy: 0.0028 - factorized_top_k/top_5_categorical_accuracy: 0.0234 - factorized_top_k/top_10_categorical_accuracy: 0.0391 - factorized_top_k/top_50_categorical_accuracy: 0.1039 - factorized_top_k/top_100_categorical_accuracy: 0.1538 - loss: 84894.0509 - regularization_loss: 11.6733 - total_loss: 84905.7230\n",
            "Epoch 19/50\n",
            "750/750 [==============================] - 988s 1s/step - factorized_top_k/top_1_categorical_accuracy: 0.0029 - factorized_top_k/top_5_categorical_accuracy: 0.0241 - factorized_top_k/top_10_categorical_accuracy: 0.0401 - factorized_top_k/top_50_categorical_accuracy: 0.1060 - factorized_top_k/top_100_categorical_accuracy: 0.1564 - loss: 84760.8521 - regularization_loss: 11.6908 - total_loss: 84772.5419\n",
            "Epoch 20/50\n",
            "750/750 [==============================] - 987s 1s/step - factorized_top_k/top_1_categorical_accuracy: 0.0031 - factorized_top_k/top_5_categorical_accuracy: 0.0247 - factorized_top_k/top_10_categorical_accuracy: 0.0410 - factorized_top_k/top_50_categorical_accuracy: 0.1079 - factorized_top_k/top_100_categorical_accuracy: 0.1588 - loss: 84636.2073 - regularization_loss: 11.7063 - total_loss: 84647.9129\n",
            "Epoch 21/50\n",
            "750/750 [==============================] - 986s 1s/step - factorized_top_k/top_1_categorical_accuracy: 0.0032 - factorized_top_k/top_5_categorical_accuracy: 0.0252 - factorized_top_k/top_10_categorical_accuracy: 0.0418 - factorized_top_k/top_50_categorical_accuracy: 0.1096 - factorized_top_k/top_100_categorical_accuracy: 0.1609 - loss: 84524.7468 - regularization_loss: 11.7181 - total_loss: 84536.4656\n",
            "Epoch 22/50\n",
            "750/750 [==============================] - 986s 1s/step - factorized_top_k/top_1_categorical_accuracy: 0.0032 - factorized_top_k/top_5_categorical_accuracy: 0.0257 - factorized_top_k/top_10_categorical_accuracy: 0.0426 - factorized_top_k/top_50_categorical_accuracy: 0.1111 - factorized_top_k/top_100_categorical_accuracy: 0.1628 - loss: 84424.7130 - regularization_loss: 11.7273 - total_loss: 84436.4417\n",
            "Epoch 23/50\n",
            "750/750 [==============================] - 986s 1s/step - factorized_top_k/top_1_categorical_accuracy: 0.0033 - factorized_top_k/top_5_categorical_accuracy: 0.0262 - factorized_top_k/top_10_categorical_accuracy: 0.0433 - factorized_top_k/top_50_categorical_accuracy: 0.1125 - factorized_top_k/top_100_categorical_accuracy: 0.1646 - loss: 84332.8828 - regularization_loss: 11.7359 - total_loss: 84344.6194\n",
            "Epoch 24/50\n",
            "750/750 [==============================] - 989s 1s/step - factorized_top_k/top_1_categorical_accuracy: 0.0033 - factorized_top_k/top_5_categorical_accuracy: 0.0265 - factorized_top_k/top_10_categorical_accuracy: 0.0439 - factorized_top_k/top_50_categorical_accuracy: 0.1138 - factorized_top_k/top_100_categorical_accuracy: 0.1663 - loss: 84246.4439 - regularization_loss: 11.7451 - total_loss: 84258.1884\n",
            "Epoch 25/50\n",
            "750/750 [==============================] - 988s 1s/step - factorized_top_k/top_1_categorical_accuracy: 0.0034 - factorized_top_k/top_5_categorical_accuracy: 0.0269 - factorized_top_k/top_10_categorical_accuracy: 0.0446 - factorized_top_k/top_50_categorical_accuracy: 0.1151 - factorized_top_k/top_100_categorical_accuracy: 0.1680 - loss: 84162.3842 - regularization_loss: 11.7557 - total_loss: 84174.1403\n",
            "Epoch 26/50\n",
            "750/750 [==============================] - 986s 1s/step - factorized_top_k/top_1_categorical_accuracy: 0.0034 - factorized_top_k/top_5_categorical_accuracy: 0.0274 - factorized_top_k/top_10_categorical_accuracy: 0.0452 - factorized_top_k/top_50_categorical_accuracy: 0.1164 - factorized_top_k/top_100_categorical_accuracy: 0.1697 - loss: 84077.1309 - regularization_loss: 11.7685 - total_loss: 84088.8991\n",
            "Epoch 27/50\n",
            "750/750 [==============================] - 986s 1s/step - factorized_top_k/top_1_categorical_accuracy: 0.0035 - factorized_top_k/top_5_categorical_accuracy: 0.0278 - factorized_top_k/top_10_categorical_accuracy: 0.0459 - factorized_top_k/top_50_categorical_accuracy: 0.1178 - factorized_top_k/top_100_categorical_accuracy: 0.1715 - loss: 83988.0540 - regularization_loss: 11.7837 - total_loss: 83999.8372\n",
            "Epoch 28/50\n",
            "750/750 [==============================] - 986s 1s/step - factorized_top_k/top_1_categorical_accuracy: 0.0036 - factorized_top_k/top_5_categorical_accuracy: 0.0283 - factorized_top_k/top_10_categorical_accuracy: 0.0467 - factorized_top_k/top_50_categorical_accuracy: 0.1193 - factorized_top_k/top_100_categorical_accuracy: 0.1733 - loss: 83898.0355 - regularization_loss: 11.8000 - total_loss: 83909.8352\n",
            "Epoch 29/50\n",
            "750/750 [==============================] - 985s 1s/step - factorized_top_k/top_1_categorical_accuracy: 0.0037 - factorized_top_k/top_5_categorical_accuracy: 0.0288 - factorized_top_k/top_10_categorical_accuracy: 0.0473 - factorized_top_k/top_50_categorical_accuracy: 0.1206 - factorized_top_k/top_100_categorical_accuracy: 0.1748 - loss: 83815.0512 - regularization_loss: 11.8145 - total_loss: 83826.8659\n",
            "Epoch 30/50\n",
            "750/750 [==============================] - 986s 1s/step - factorized_top_k/top_1_categorical_accuracy: 0.0037 - factorized_top_k/top_5_categorical_accuracy: 0.0291 - factorized_top_k/top_10_categorical_accuracy: 0.0479 - factorized_top_k/top_50_categorical_accuracy: 0.1217 - factorized_top_k/top_100_categorical_accuracy: 0.1762 - loss: 83741.3079 - regularization_loss: 11.8245 - total_loss: 83753.1320\n",
            "Epoch 31/50\n",
            "750/750 [==============================] - 986s 1s/step - factorized_top_k/top_1_categorical_accuracy: 0.0038 - factorized_top_k/top_5_categorical_accuracy: 0.0295 - factorized_top_k/top_10_categorical_accuracy: 0.0484 - factorized_top_k/top_50_categorical_accuracy: 0.1227 - factorized_top_k/top_100_categorical_accuracy: 0.1774 - loss: 83674.7098 - regularization_loss: 11.8314 - total_loss: 83686.5413\n",
            "Epoch 32/50\n",
            "750/750 [==============================] - 987s 1s/step - factorized_top_k/top_1_categorical_accuracy: 0.0038 - factorized_top_k/top_5_categorical_accuracy: 0.0297 - factorized_top_k/top_10_categorical_accuracy: 0.0488 - factorized_top_k/top_50_categorical_accuracy: 0.1236 - factorized_top_k/top_100_categorical_accuracy: 0.1785 - loss: 83613.4310 - regularization_loss: 11.8369 - total_loss: 83625.2684\n",
            "Epoch 33/50\n",
            "750/750 [==============================] - 987s 1s/step - factorized_top_k/top_1_categorical_accuracy: 0.0038 - factorized_top_k/top_5_categorical_accuracy: 0.0300 - factorized_top_k/top_10_categorical_accuracy: 0.0492 - factorized_top_k/top_50_categorical_accuracy: 0.1244 - factorized_top_k/top_100_categorical_accuracy: 0.1795 - loss: 83556.1026 - regularization_loss: 11.8418 - total_loss: 83567.9442\n",
            "Epoch 34/50\n",
            "750/750 [==============================] - 986s 1s/step - factorized_top_k/top_1_categorical_accuracy: 0.0039 - factorized_top_k/top_5_categorical_accuracy: 0.0303 - factorized_top_k/top_10_categorical_accuracy: 0.0496 - factorized_top_k/top_50_categorical_accuracy: 0.1252 - factorized_top_k/top_100_categorical_accuracy: 0.1806 - loss: 83501.6136 - regularization_loss: 11.8467 - total_loss: 83513.4607\n",
            "Epoch 35/50\n",
            "750/750 [==============================] - 986s 1s/step - factorized_top_k/top_1_categorical_accuracy: 0.0039 - factorized_top_k/top_5_categorical_accuracy: 0.0305 - factorized_top_k/top_10_categorical_accuracy: 0.0500 - factorized_top_k/top_50_categorical_accuracy: 0.1260 - factorized_top_k/top_100_categorical_accuracy: 0.1815 - loss: 83448.9949 - regularization_loss: 11.8519 - total_loss: 83460.8462\n",
            "Epoch 36/50\n",
            "750/750 [==============================] - 987s 1s/step - factorized_top_k/top_1_categorical_accuracy: 0.0039 - factorized_top_k/top_5_categorical_accuracy: 0.0307 - factorized_top_k/top_10_categorical_accuracy: 0.0504 - factorized_top_k/top_50_categorical_accuracy: 0.1268 - factorized_top_k/top_100_categorical_accuracy: 0.1825 - loss: 83397.2070 - regularization_loss: 11.8577 - total_loss: 83409.0643\n",
            "Epoch 37/50\n",
            "750/750 [==============================] - 987s 1s/step - factorized_top_k/top_1_categorical_accuracy: 0.0039 - factorized_top_k/top_5_categorical_accuracy: 0.0310 - factorized_top_k/top_10_categorical_accuracy: 0.0508 - factorized_top_k/top_50_categorical_accuracy: 0.1275 - factorized_top_k/top_100_categorical_accuracy: 0.1834 - loss: 83344.9498 - regularization_loss: 11.8647 - total_loss: 83356.8141\n",
            "Epoch 38/50\n",
            "750/750 [==============================] - 987s 1s/step - factorized_top_k/top_1_categorical_accuracy: 0.0040 - factorized_top_k/top_5_categorical_accuracy: 0.0312 - factorized_top_k/top_10_categorical_accuracy: 0.0512 - factorized_top_k/top_50_categorical_accuracy: 0.1283 - factorized_top_k/top_100_categorical_accuracy: 0.1844 - loss: 83290.3956 - regularization_loss: 11.8732 - total_loss: 83302.2684\n",
            "Epoch 39/50\n",
            "750/750 [==============================] - 990s 1s/step - factorized_top_k/top_1_categorical_accuracy: 0.0040 - factorized_top_k/top_5_categorical_accuracy: 0.0316 - factorized_top_k/top_10_categorical_accuracy: 0.0517 - factorized_top_k/top_50_categorical_accuracy: 0.1292 - factorized_top_k/top_100_categorical_accuracy: 0.1855 - loss: 83231.3389 - regularization_loss: 11.8838 - total_loss: 83243.2234\n",
            "Epoch 40/50\n",
            "750/750 [==============================] - 986s 1s/step - factorized_top_k/top_1_categorical_accuracy: 0.0040 - factorized_top_k/top_5_categorical_accuracy: 0.0319 - factorized_top_k/top_10_categorical_accuracy: 0.0522 - factorized_top_k/top_50_categorical_accuracy: 0.1302 - factorized_top_k/top_100_categorical_accuracy: 0.1867 - loss: 83167.0078 - regularization_loss: 11.8969 - total_loss: 83178.9051\n",
            "Epoch 41/50\n",
            "750/750 [==============================] - 986s 1s/step - factorized_top_k/top_1_categorical_accuracy: 0.0041 - factorized_top_k/top_5_categorical_accuracy: 0.0323 - factorized_top_k/top_10_categorical_accuracy: 0.0527 - factorized_top_k/top_50_categorical_accuracy: 0.1312 - factorized_top_k/top_100_categorical_accuracy: 0.1880 - loss: 83101.4116 - regularization_loss: 11.9103 - total_loss: 83113.3214\n",
            "Epoch 42/50\n",
            "750/750 [==============================] - 987s 1s/step - factorized_top_k/top_1_categorical_accuracy: 0.0041 - factorized_top_k/top_5_categorical_accuracy: 0.0326 - factorized_top_k/top_10_categorical_accuracy: 0.0532 - factorized_top_k/top_50_categorical_accuracy: 0.1321 - factorized_top_k/top_100_categorical_accuracy: 0.1891 - loss: 83040.1850 - regularization_loss: 11.9207 - total_loss: 83052.1051\n",
            "Epoch 43/50\n",
            "750/750 [==============================] - 986s 1s/step - factorized_top_k/top_1_categorical_accuracy: 0.0042 - factorized_top_k/top_5_categorical_accuracy: 0.0328 - factorized_top_k/top_10_categorical_accuracy: 0.0536 - factorized_top_k/top_50_categorical_accuracy: 0.1329 - factorized_top_k/top_100_categorical_accuracy: 0.1902 - loss: 82984.6417 - regularization_loss: 11.9277 - total_loss: 82996.5693\n",
            "Epoch 44/50\n",
            "750/750 [==============================] - 988s 1s/step - factorized_top_k/top_1_categorical_accuracy: 0.0042 - factorized_top_k/top_5_categorical_accuracy: 0.0330 - factorized_top_k/top_10_categorical_accuracy: 0.0540 - factorized_top_k/top_50_categorical_accuracy: 0.1335 - factorized_top_k/top_100_categorical_accuracy: 0.1911 - loss: 82934.1702 - regularization_loss: 11.9324 - total_loss: 82946.1031\n",
            "Epoch 45/50\n",
            "750/750 [==============================] - 986s 1s/step - factorized_top_k/top_1_categorical_accuracy: 0.0043 - factorized_top_k/top_5_categorical_accuracy: 0.0332 - factorized_top_k/top_10_categorical_accuracy: 0.0543 - factorized_top_k/top_50_categorical_accuracy: 0.1342 - factorized_top_k/top_100_categorical_accuracy: 0.1919 - loss: 82887.9904 - regularization_loss: 11.9359 - total_loss: 82899.9261\n",
            "Epoch 46/50\n",
            "750/750 [==============================] - 987s 1s/step - factorized_top_k/top_1_categorical_accuracy: 0.0043 - factorized_top_k/top_5_categorical_accuracy: 0.0334 - factorized_top_k/top_10_categorical_accuracy: 0.0546 - factorized_top_k/top_50_categorical_accuracy: 0.1347 - factorized_top_k/top_100_categorical_accuracy: 0.1926 - loss: 82845.2608 - regularization_loss: 11.9388 - total_loss: 82857.1993\n",
            "Epoch 47/50\n",
            "750/750 [==============================] - 987s 1s/step - factorized_top_k/top_1_categorical_accuracy: 0.0043 - factorized_top_k/top_5_categorical_accuracy: 0.0335 - factorized_top_k/top_10_categorical_accuracy: 0.0549 - factorized_top_k/top_50_categorical_accuracy: 0.1352 - factorized_top_k/top_100_categorical_accuracy: 0.1933 - loss: 82805.2767 - regularization_loss: 11.9414 - total_loss: 82817.2183\n",
            "Epoch 48/50\n",
            "750/750 [==============================] - 988s 1s/step - factorized_top_k/top_1_categorical_accuracy: 0.0043 - factorized_top_k/top_5_categorical_accuracy: 0.0337 - factorized_top_k/top_10_categorical_accuracy: 0.0551 - factorized_top_k/top_50_categorical_accuracy: 0.1357 - factorized_top_k/top_100_categorical_accuracy: 0.1939 - loss: 82767.5315 - regularization_loss: 11.9437 - total_loss: 82779.4751\n",
            "Epoch 49/50\n",
            "750/750 [==============================] - 987s 1s/step - factorized_top_k/top_1_categorical_accuracy: 0.0043 - factorized_top_k/top_5_categorical_accuracy: 0.0338 - factorized_top_k/top_10_categorical_accuracy: 0.0553 - factorized_top_k/top_50_categorical_accuracy: 0.1362 - factorized_top_k/top_100_categorical_accuracy: 0.1945 - loss: 82731.6663 - regularization_loss: 11.9460 - total_loss: 82743.6121\n",
            "Epoch 50/50\n",
            "750/750 [==============================] - 987s 1s/step - factorized_top_k/top_1_categorical_accuracy: 0.0043 - factorized_top_k/top_5_categorical_accuracy: 0.0340 - factorized_top_k/top_10_categorical_accuracy: 0.0555 - factorized_top_k/top_50_categorical_accuracy: 0.1366 - factorized_top_k/top_100_categorical_accuracy: 0.1951 - loss: 82697.4281 - regularization_loss: 11.9482 - total_loss: 82709.3767\n"
          ]
        },
        {
          "output_type": "stream",
          "name": "stderr",
          "text": [
            "WARNING:tensorflow:Layers in a Sequential model should only have a single input tensor. Received: inputs={'customer_id': <tf.Tensor 'IteratorGetNext:1' shape=(None,) dtype=string>, 'city': <tf.Tensor 'IteratorGetNext:0' shape=(None,) dtype=string>, 'revenue': <tf.Tensor 'IteratorGetNext:3' shape=(None,) dtype=int64>}. Consider rewriting this model with the Functional API.\n",
            "WARNING:tensorflow:Layers in a Sequential model should only have a single input tensor. Received: inputs={'product_id': <tf.Tensor 'IteratorGetNext:2' shape=(None,) dtype=string>}. Consider rewriting this model with the Functional API.\n"
          ]
        },
        {
          "output_type": "stream",
          "name": "stdout",
          "text": [
            "120/120 [==============================] - 177s 644ms/step - factorized_top_k/top_1_categorical_accuracy: 3.6024e-04 - factorized_top_k/top_5_categorical_accuracy: 0.0030 - factorized_top_k/top_10_categorical_accuracy: 0.0061 - factorized_top_k/top_50_categorical_accuracy: 0.0261 - factorized_top_k/top_100_categorical_accuracy: 0.0474 - loss: 44091.1479 - regularization_loss: 11.9429 - total_loss: 44103.0893\n"
          ]
        },
        {
          "output_type": "stream",
          "name": "stderr",
          "text": [
            "WARNING:tensorflow:AutoGraph could not transform <function <lambda> at 0x79b0ac78db40> and will run it as-is.\n",
            "Cause: could not parse the source code of <function <lambda> at 0x79b0ac78db40>: no matching AST found among candidates:\n",
            "\n",
            "To silence this warning, decorate the function with @tf.autograph.experimental.do_not_convert\n"
          ]
        },
        {
          "output_type": "stream",
          "name": "stdout",
          "text": [
            "WARNING: AutoGraph could not transform <function <lambda> at 0x79b0ac78db40> and will run it as-is.\n",
            "Cause: could not parse the source code of <function <lambda> at 0x79b0ac78db40>: no matching AST found among candidates:\n",
            "\n",
            "To silence this warning, decorate the function with @tf.autograph.experimental.do_not_convert\n"
          ]
        },
        {
          "output_type": "stream",
          "name": "stderr",
          "text": [
            "WARNING:tensorflow:Layers in a Sequential model should only have a single input tensor. Received: inputs={'product_id': <tf.Tensor 'args_0:0' shape=(None,) dtype=string>}. Consider rewriting this model with the Functional API.\n",
            "WARNING:tensorflow:Layers in a Sequential model should only have a single input tensor. Received: inputs={'customer_id': <tf.Tensor: shape=(1,), dtype=string, numpy=array([b'270060680501'], dtype=object)>, 'city': <tf.Tensor: shape=(1,), dtype=string, numpy=array([b'VINNYTSYA'], dtype=object)>, 'revenue': <tf.Tensor: shape=(1,), dtype=int64, numpy=array([24339])>}. Consider rewriting this model with the Functional API.\n"
          ]
        },
        {
          "output_type": "stream",
          "name": "stdout",
          "text": [
            "[[[b'388360001001' 14.498955726623535]\n",
            "  [b'388374001001' 14.474204063415527]\n",
            "  [b'388362001001' 14.383733749389648]\n",
            "  [b'388364001001' 14.372269630432129]\n",
            "  [b'388356001001' 14.313959121704102]\n",
            "  [b'388376001001' 14.30184555053711]\n",
            "  [b'388366001001' 14.296295166015625]\n",
            "  [b'388358001001' 14.255276679992676]\n",
            "  [b'272990001001' 14.172974586486816]\n",
            "  [b'388379001001' 14.169378280639648]\n",
            "  [b'384892001001' 14.082386016845703]\n",
            "  [b'385107001001' 14.076000213623047]\n",
            "  [b'388370001001' 14.07153034210205]\n",
            "  [b'189246001001' 14.024245262145996]\n",
            "  [b'374427001001' 14.017303466796875]\n",
            "  [b'385493001001' 13.974655151367188]\n",
            "  [b'384894001001' 13.965160369873047]\n",
            "  [b'377987001001' 13.937077522277832]\n",
            "  [b'384893001001' 13.915267944335938]\n",
            "  [b'385188001001' 13.902463912963867]\n",
            "  [b'383252001001' 13.851255416870117]\n",
            "  [b'350714001001' 13.837362289428711]\n",
            "  [b'385109001001' 13.820781707763672]\n",
            "  [b'266925001001' 13.804350852966309]\n",
            "  [b'385491001001' 13.801185607910156]\n",
            "  [b'385194001001' 13.79215145111084]\n",
            "  [b'240920001001' 13.79005241394043]\n",
            "  [b'14111001001' 13.786900520324707]\n",
            "  [b'350766001001' 13.766351699829102]\n",
            "  [b'385087001001' 13.766304016113281]\n",
            "  [b'337422001001' 13.751362800598145]\n",
            "  [b'385101001001' 13.738679885864258]\n",
            "  [b'385490001001' 13.722898483276367]\n",
            "  [b'191249001001' 13.710880279541016]\n",
            "  [b'385104001001' 13.708582878112793]\n",
            "  [b'387748001001' 13.688227653503418]\n",
            "  [b'383100001001' 13.673985481262207]\n",
            "  [b'383101001001' 13.668582916259766]\n",
            "  [b'191861001001' 13.643573760986328]\n",
            "  [b'387752001001' 13.63577938079834]\n",
            "  [b'380540001001' 13.629729270935059]\n",
            "  [b'172294001001' 13.621223449707031]\n",
            "  [b'383098001001' 13.620003700256348]\n",
            "  [b'388449001001' 13.61742877960205]\n",
            "  [b'377833001001' 13.614782333374023]\n",
            "  [b'332815001001' 13.614011764526367]\n",
            "  [b'318699001001' 13.608590126037598]\n",
            "  [b'387770001001' 13.600164413452148]\n",
            "  [b'262522001001' 13.593677520751953]\n",
            "  [b'385772001001' 13.588330268859863]\n",
            "  [b'319149001001' 13.584426879882812]\n",
            "  [b'198369001001' 13.579472541809082]\n",
            "  [b'377173001001' 13.573614120483398]\n",
            "  [b'384613001001' 13.569671630859375]\n",
            "  [b'367558001001' 13.568772315979004]\n",
            "  [b'384579001001' 13.566739082336426]\n",
            "  [b'28581001001' 13.564247131347656]\n",
            "  [b'243594001001' 13.556414604187012]\n",
            "  [b'60978001003' 13.546554565429688]\n",
            "  [b'314458001001' 13.533354759216309]\n",
            "  [b'261493001001' 13.533040046691895]\n",
            "  [b'226577001001' 13.526907920837402]\n",
            "  [b'92635001001' 13.526298522949219]\n",
            "  [b'209778001001' 13.52601146697998]\n",
            "  [b'384617001001' 13.524513244628906]\n",
            "  [b'351698001001' 13.517538070678711]\n",
            "  [b'76088001003' 13.508295059204102]\n",
            "  [b'337425001001' 13.505592346191406]\n",
            "  [b'130674001001' 13.502506256103516]\n",
            "  [b'388212001001' 13.497918128967285]\n",
            "  [b'280503001001' 13.492749214172363]\n",
            "  [b'9043001001' 13.489373207092285]\n",
            "  [b'330989001001' 13.484442710876465]\n",
            "  [b'386208001001' 13.477004051208496]\n",
            "  [b'386125001001' 13.475954055786133]\n",
            "  [b'309232001001' 13.468254089355469]\n",
            "  [b'270043001001' 13.456155776977539]\n",
            "  [b'255516001001' 13.455947875976562]\n",
            "  [b'386910001001' 13.442148208618164]\n",
            "  [b'280769001001' 13.441062927246094]\n",
            "  [b'223484001001' 13.438087463378906]\n",
            "  [b'393381001001' 13.432812690734863]\n",
            "  [b'76085001003' 13.430442810058594]\n",
            "  [b'329976001001' 13.423839569091797]\n",
            "  [b'275692001001' 13.420534133911133]\n",
            "  [b'374801001001' 13.418472290039062]\n",
            "  [b'386821001001' 13.417793273925781]\n",
            "  [b'287134001001' 13.41599178314209]\n",
            "  [b'108112001001' 13.41473388671875]\n",
            "  [b'367542001001' 13.411355972290039]\n",
            "  [b'379114001001' 13.410848617553711]\n",
            "  [b'139357001001' 13.40951156616211]\n",
            "  [b'217841001001' 13.406843185424805]\n",
            "  [b'350715001001' 13.40550422668457]\n",
            "  [b'329188001001' 13.400044441223145]\n",
            "  [b'384583001001' 13.398225784301758]\n",
            "  [b'186659001001' 13.39678955078125]\n",
            "  [b'383717001001' 13.39587116241455]\n",
            "  [b'385111001001' 13.39561653137207]\n",
            "  [b'385192001001' 13.394243240356445]]]\n"
          ]
        },
        {
          "output_type": "stream",
          "name": "stderr",
          "text": [
            "WARNING:tensorflow:Layers in a Sequential model should only have a single input tensor. Received: inputs={'customer_id': <tf.Tensor 'customer_id:0' shape=(None,) dtype=string>, 'city': <tf.Tensor 'city:0' shape=(None,) dtype=string>, 'revenue': <tf.Tensor 'revenue:0' shape=(None,) dtype=int64>}. Consider rewriting this model with the Functional API.\n",
            "WARNING:tensorflow:Layers in a Sequential model should only have a single input tensor. Received: inputs={'customer_id': <tf.Tensor 'inputs_1:0' shape=(None,) dtype=string>, 'city': <tf.Tensor 'inputs:0' shape=(None,) dtype=string>, 'revenue': <tf.Tensor 'inputs_2:0' shape=(None,) dtype=int64>}. Consider rewriting this model with the Functional API.\n",
            "WARNING:tensorflow:Layers in a Sequential model should only have a single input tensor. Received: inputs={'customer_id': <tf.Tensor 'inputs_1:0' shape=(None,) dtype=string>, 'city': <tf.Tensor 'inputs:0' shape=(None,) dtype=string>, 'revenue': <tf.Tensor 'inputs_2:0' shape=(None,) dtype=int64>}. Consider rewriting this model with the Functional API.\n",
            "WARNING:tensorflow:Layers in a Sequential model should only have a single input tensor. Received: inputs={'customer_id': <tf.Tensor 'customer_id:0' shape=(None,) dtype=string>, 'city': <tf.Tensor 'city:0' shape=(None,) dtype=string>, 'revenue': <tf.Tensor 'revenue:0' shape=(None,) dtype=int64>}. Consider rewriting this model with the Functional API.\n",
            "WARNING:tensorflow:Layers in a Sequential model should only have a single input tensor. Received: inputs={'customer_id': <tf.Tensor 'customer_id:0' shape=(None,) dtype=string>, 'city': <tf.Tensor 'city:0' shape=(None,) dtype=string>, 'revenue': <tf.Tensor 'revenue:0' shape=(None,) dtype=int64>}. Consider rewriting this model with the Functional API.\n",
            "WARNING:tensorflow:Layers in a Sequential model should only have a single input tensor. Received: inputs={'customer_id': <tf.Tensor 'queries_customer_id:0' shape=(None,) dtype=string>, 'city': <tf.Tensor 'queries_city:0' shape=(None,) dtype=string>, 'revenue': <tf.Tensor 'queries_revenue:0' shape=(None,) dtype=int64>}. Consider rewriting this model with the Functional API.\n",
            "WARNING:tensorflow:Layers in a Sequential model should only have a single input tensor. Received: inputs={'customer_id': <tf.Tensor 'queries_customer_id:0' shape=(None,) dtype=string>, 'city': <tf.Tensor 'queries_city:0' shape=(None,) dtype=string>, 'revenue': <tf.Tensor 'queries_revenue:0' shape=(None,) dtype=int64>}. Consider rewriting this model with the Functional API.\n",
            "WARNING:tensorflow:Layers in a Sequential model should only have a single input tensor. Received: inputs={'customer_id': <tf.Tensor 'inputs_customer_id:0' shape=(None,) dtype=string>, 'city': <tf.Tensor 'inputs_city:0' shape=(None,) dtype=string>, 'revenue': <tf.Tensor 'inputs_revenue:0' shape=(None,) dtype=int64>}. Consider rewriting this model with the Functional API.\n",
            "WARNING:tensorflow:Layers in a Sequential model should only have a single input tensor. Received: inputs={'customer_id': <tf.Tensor 'inputs_customer_id:0' shape=(None,) dtype=string>, 'city': <tf.Tensor 'inputs_city:0' shape=(None,) dtype=string>, 'revenue': <tf.Tensor 'inputs_revenue:0' shape=(None,) dtype=int64>}. Consider rewriting this model with the Functional API.\n",
            "WARNING:absl:Found untraced functions such as query_with_exclusions while saving (showing 1 of 1). These functions will not be directly callable after loading.\n"
          ]
        },
        {
          "output_type": "stream",
          "name": "stdout",
          "text": [
            "CPU times: user 6d 4h 47min 7s, sys: 4h 13min 27s, total: 6d 9h 35s\n",
            "Wall time: 13h 46min 14s\n"
          ]
        },
        {
          "output_type": "execute_result",
          "data": {
            "text/plain": [
              "[<matplotlib.lines.Line2D at 0x79b224f8e4d0>]"
            ]
          },
          "metadata": {},
          "execution_count": 35
        },
        {
          "output_type": "display_data",
          "data": {
            "text/plain": [
              "<Figure size 640x480 with 1 Axes>"
            ],
            "image/png": "[encoded data removed]"
          },
          "metadata": {}
        }
      ]
    },
    {
      "cell_type": "code",
      "source": [
        "plt.plot(history.history['factorized_top_k/top_5_categorical_accuracy'])\n",
        "plt.plot(history.history['factorized_top_k/top_10_categorical_accuracy'])\n",
        "plt.plot(history.history['factorized_top_k/top_50_categorical_accuracy'])\n",
        "plt.plot(history.history['factorized_top_k/top_100_categorical_accuracy'])"
      ],
      "metadata": {
        "colab": {
          "base_uri": "https://localhost:8080/",
          "height": 447
        },
        "id": "JyNmiNC9wb4N",
        "outputId": "d5c7b479-a899-4ab4-eb16-bb7f9119c1da"
      },
      "execution_count": null,
      "outputs": [
        {
          "output_type": "execute_result",
          "data": {
            "text/plain": [
              "[<matplotlib.lines.Line2D at 0x7d6eb2a95ae0>]"
            ]
          },
          "metadata": {},
          "execution_count": 37
        },
        {
          "output_type": "display_data",
          "data": {
            "text/plain": [
              "<Figure size 640x480 with 1 Axes>"
            ],
            "image/png": "[encoded data removed]"
          },
          "metadata": {}
        }
      ]
    },
    {
      "cell_type": "markdown",
      "source": [
        "## Testing model"
      ],
      "metadata": {
        "id": "K-9yuQPL3PKg"
      }
    },
    {
      "cell_type": "code",
      "source": [
        "path = '/content/drive/MyDrive/Work/C4R/Metro/Models/complex_input'"
      ],
      "metadata": {
        "id": "2pK3ZQFop_CS"
      },
      "execution_count": null,
      "outputs": []
    },
    {
      "cell_type": "code",
      "source": [
        "loaded = tf.saved_model.load(path)\n",
        "\n",
        "loaded"
      ],
      "metadata": {
        "colab": {
          "base_uri": "https://localhost:8080/"
        },
        "id": "4ViiEEzrn71f",
        "outputId": "f5f43ba4-f0d2-4646-e1d9-1f7de5bc6f02"
      },
      "execution_count": null,
      "outputs": [
        {
          "output_type": "execute_result",
          "data": {
            "text/plain": [
              "<tensorflow.python.saved_model.load.Loader._recreate_base_user_object.<locals>._UserObject at 0x78784b127a90>"
            ]
          },
          "metadata": {},
          "execution_count": 40
        }
      ]
    },
    {
      "cell_type": "code",
      "source": [
        "buyer_info = {'customer_id': np.array([b'330067026301'], dtype='|S12'),\n",
        " 'city': np.array([b'KYIV'], dtype='|S4'),\n",
        " 'revenue': np.array([91389])}\n",
        "\n",
        "buyer_info\n"
      ],
      "metadata": {
        "id": "OZ71Gs6i3be9",
        "colab": {
          "base_uri": "https://localhost:8080/"
        },
        "outputId": "d4184e7f-505d-4941-ee6f-5e290e72f738"
      },
      "execution_count": null,
      "outputs": [
        {
          "output_type": "execute_result",
          "data": {
            "text/plain": [
              "{'customer_id': array([b'330067026301'], dtype='|S12'),\n",
              " 'city': array([b'KYIV'], dtype='|S4'),\n",
              " 'revenue': array([91389])}"
            ]
          },
          "metadata": {},
          "execution_count": 41
        }
      ]
    },
    {
      "cell_type": "code",
      "source": [
        "loaded(buyer_info)"
      ],
      "metadata": {
        "colab": {
          "base_uri": "https://localhost:8080/"
        },
        "id": "-ihtOoRgqMQY",
        "outputId": "dc7a0c87-3a42-405c-d192-70909d7d542f"
      },
      "execution_count": null,
      "outputs": [
        {
          "output_type": "execute_result",
          "data": {
            "text/plain": [
              "(<tf.Tensor: shape=(1, 100), dtype=float32, numpy=\n",
              " array([[0.75180477, 0.6714635 , 0.64938724, 0.6353227 , 0.62982535,\n",
              "         0.61838734, 0.6164228 , 0.6163168 , 0.61302835, 0.6129947 ,\n",
              "         0.606409  , 0.6040448 , 0.60399526, 0.60155344, 0.6009756 ,\n",
              "         0.59922534, 0.5969476 , 0.5901873 , 0.5792782 , 0.5787154 ,\n",
              "         0.5654048 , 0.5563152 , 0.5556531 , 0.5552453 , 0.5522891 ,\n",
              "         0.5439477 , 0.5396591 , 0.5380825 , 0.53641725, 0.53561795,\n",
              "         0.53386265, 0.530015  , 0.52978635, 0.52768767, 0.52640384,\n",
              "         0.52634716, 0.5221656 , 0.5132313 , 0.5125191 , 0.51193976,\n",
              "         0.51167566, 0.5095954 , 0.5093968 , 0.5092213 , 0.50875324,\n",
              "         0.50825   , 0.5080611 , 0.5075394 , 0.5070076 , 0.50412965,\n",
              "         0.503091  , 0.49973798, 0.49932605, 0.49662486, 0.49651015,\n",
              "         0.49554792, 0.49505866, 0.4947426 , 0.4915099 , 0.49101853,\n",
              "         0.49055272, 0.4900565 , 0.49002844, 0.48805982, 0.48669818,\n",
              "         0.48659405, 0.48646048, 0.48639047, 0.48612162, 0.4851871 ,\n",
              "         0.485143  , 0.48240834, 0.48186898, 0.47999406, 0.4795642 ,\n",
              "         0.47824907, 0.47533542, 0.47434926, 0.4740287 , 0.47357935,\n",
              "         0.47098178, 0.47034308, 0.46961796, 0.4684427 , 0.46607625,\n",
              "         0.46600416, 0.4657895 , 0.46444038, 0.46405125, 0.46360648,\n",
              "         0.46359682, 0.4621336 , 0.4618504 , 0.46121234, 0.45905662,\n",
              "         0.45851022, 0.45758557, 0.4503348 , 0.45030063, 0.44846174]],\n",
              "       dtype=float32)>,\n",
              " <tf.Tensor: shape=(1, 100), dtype=string, numpy=\n",
              " array([[b'372431001001', b'197278001001', b'284211001001',\n",
              "         b'318579001001', b'302262001001', b'182589001001',\n",
              "         b'369047002001', b'221733001001', b'295730001001',\n",
              "         b'260021001001', b'182583001001', b'302260001001',\n",
              "         b'292328001001', b'376952001001', b'330482001001',\n",
              "         b'388176001001', b'374137001001', b'264874001001',\n",
              "         b'284209001001', b'192547001001', b'327079001001',\n",
              "         b'231451001001', b'245479001001', b'225159001001',\n",
              "         b'100360001001', b'308287001001', b'125775001001',\n",
              "         b'327587001001', b'192752001001', b'286268001001',\n",
              "         b'306344001001', b'243999001001', b'230093001001',\n",
              "         b'182581001001', b'350156001001', b'73792001001',\n",
              "         b'371482001001', b'293759001001', b'384351001001',\n",
              "         b'56245001001', b'375408001001', b'378627001001',\n",
              "         b'318898001001', b'318747001001', b'223144001001',\n",
              "         b'229145001001', b'324729001001', b'381376001001',\n",
              "         b'247636001001', b'369047001001', b'304707001001',\n",
              "         b'304051001001', b'281052002001', b'357992001001',\n",
              "         b'358553001001', b'380282001001', b'384161001001',\n",
              "         b'245740001001', b'182585001001', b'367390001001',\n",
              "         b'384919001001', b'340325001001', b'228245001001',\n",
              "         b'302258001001', b'281275001001', b'10849001001',\n",
              "         b'197277001001', b'252786001002', b'292217001001',\n",
              "         b'300935001001', b'373389001001', b'64303001001', b'73791001001',\n",
              "         b'284636001001', b'380925001001', b'251254001001',\n",
              "         b'383926001001', b'343733001001', b'324438001001',\n",
              "         b'218468001001', b'245981001001', b'292831001001',\n",
              "         b'293676001001', b'338430001001', b'332584001001',\n",
              "         b'317054001001', b'335791001001', b'332210001001',\n",
              "         b'383750001001', b'340970001001', b'312695001001',\n",
              "         b'274701001001', b'386514001001', b'375409001001',\n",
              "         b'384346001001', b'380142001001', b'336942001001',\n",
              "         b'374579001001', b'382407001001', b'29766001001']], dtype=object)>)"
            ]
          },
          "metadata": {},
          "execution_count": 42
        }
      ]
    },
    {
      "cell_type": "code",
      "source": [
        "# Create an iterator over the dataset\n",
        "iterator = client_ds.shuffle(buffer_size=1000).take(1).as_numpy_iterator()\n",
        "\n",
        "# Iterate over the elements and extract values\n",
        "for elem in iterator:\n",
        "    buyer_info = {\n",
        "        'customer_id': np.array([elem['customer_id']]),\n",
        "        # 'segment': np.array([elem['segment']]),\n",
        "        'city': np.array([elem['city']]),\n",
        "        # 'ts': np.array([elem['ts']]),\n",
        "        # 'visits': np.array([elem['visits']]),\n",
        "        'revenue': np.array([elem['revenue']]),\n",
        "        # 'category': np.array([elem['category']]),\n",
        "        # 'articul': np.array([elem['articul']]),\n",
        "        # 'sub_category': np.array([elem['sub_category']])\n",
        "    }\n",
        "    extracted_id = np.array(elem['product_id']).astype(int)\n",
        "\n",
        "# product_row = articles_df[articles_df['product_id'] == extracted_id]\n",
        "\n",
        "# print(product_row[['art_name', 'pcg_cat_desc_tl', 'pcg_sub_cat_desc']])\n",
        "\n",
        "print(buyer_info)\n"
      ],
      "metadata": {
        "id": "fftIRprU4iHn",
        "colab": {
          "base_uri": "https://localhost:8080/"
        },
        "outputId": "bcefd3b9-52dc-43b5-9fb8-09eda8d9fbb4"
      },
      "execution_count": null,
      "outputs": [
        {
          "output_type": "stream",
          "name": "stdout",
          "text": [
            "{'customer_id': array([b'330067027001'], dtype='|S12'), 'city': array([b'KYIV'], dtype='|S4'), 'revenue': array([61803])}\n"
          ]
        }
      ]
    },
    {
      "cell_type": "code",
      "source": [],
      "metadata": {
        "id": "gooQdeCKok5w"
      },
      "execution_count": null,
      "outputs": []
    },
    {
      "cell_type": "markdown",
      "source": [
        "# Model Ranking"
      ],
      "metadata": {
        "id": "-vQFDpWjgimn"
      }
    },
    {
      "cell_type": "markdown",
      "source": [
        "## Vocabs"
      ],
      "metadata": {
        "id": "nQar2jxVgrIh"
      }
    },
    {
      "cell_type": "code",
      "source": [
        "revenues = np.concatenate(list(client_ds.map(lambda x: x[\"revenue\"]).batch(1_000)))\n",
        "max_revenues = revenues.max()\n",
        "min_revenues = revenues.min()\n",
        "\n",
        "revenues_buckets = np.linspace(\n",
        "    min_revenues, max_revenues, num=100,\n",
        ")\n",
        "unique_revenues = np.unique(np.concatenate(list(client_ds.batch(1_000).map(\n",
        "                                                  lambda x: x['revenue']))))\n",
        "\n",
        "print(len(unique_revenues))\n",
        "print(unique_revenues[:10])\n"
      ],
      "metadata": {
        "colab": {
          "base_uri": "https://localhost:8080/"
        },
        "outputId": "336200fa-d2f0-44d5-fd96-425979a5d72c",
        "id": "U8Tyep_CgrIi"
      },
      "execution_count": null,
      "outputs": [
        {
          "output_type": "stream",
          "name": "stdout",
          "text": [
            "92452\n",
            "[ 0  1  4  6  7  8  9 10 11 12]\n"
          ]
        }
      ]
    },
    {
      "cell_type": "code",
      "source": [
        "unique_product_ids = np.unique(np.concatenate(list(product_ds.batch(1_000).map(\n",
        "    lambda x: x[\"product_id\"]))))\n",
        "\n",
        "print(len(unique_product_ids))\n",
        "print(unique_product_ids[:10])\n"
      ],
      "metadata": {
        "colab": {
          "base_uri": "https://localhost:8080/"
        },
        "outputId": "31fa8f19-3907-4f0d-fd10-3d23aaedc861",
        "id": "3Fdy3wOcgrIi"
      },
      "execution_count": null,
      "outputs": [
        {
          "output_type": "stream",
          "name": "stdout",
          "text": [
            "1026\n",
            "[b'100007001001' b'100101001001' b'100301001001' b'100360001001'\n",
            " b'101960001001' b'102575001003' b'103058001001' b'107311001001'\n",
            " b'107649001001' b'107652001001']\n"
          ]
        }
      ]
    },
    {
      "cell_type": "code",
      "source": [
        "unique_customer_id = np.unique(np.concatenate(list(client_ds.batch(1_000).map(\n",
        "    lambda x: x[\"customer_id\"]))))\n",
        "\n",
        "print(len(unique_customer_id))\n",
        "print(unique_customer_id[:10])\n"
      ],
      "metadata": {
        "colab": {
          "base_uri": "https://localhost:8080/"
        },
        "outputId": "a9b797ef-96b2-446e-c817-df4459465bae",
        "id": "_oZxfxNogrIj"
      },
      "execution_count": null,
      "outputs": [
        {
          "output_type": "stream",
          "name": "stdout",
          "text": [
            "367280\n",
            "[b'100000002701' b'100000003802' b'100000004301' b'100000005401'\n",
            " b'100000008201' b'100000009201' b'100000013101' b'100000018101'\n",
            " b'100000019304' b'100000020501']\n"
          ]
        }
      ]
    },
    {
      "cell_type": "code",
      "source": [
        "unique_city = np.unique(np.concatenate(list(client_ds.batch(1_000).map(\n",
        "    lambda x: x[\"city\"]))))\n",
        "\n",
        "print(len(unique_city))\n",
        "print(unique_city)\n"
      ],
      "metadata": {
        "colab": {
          "base_uri": "https://localhost:8080/"
        },
        "outputId": "ff35d86b-57b3-4e4c-f6b0-b4da9a3af8c1",
        "id": "8iayaxbSgrIj"
      },
      "execution_count": null,
      "outputs": [
        {
          "output_type": "stream",
          "name": "stdout",
          "text": [
            "17\n",
            "[b'CHERNIGIV' b'CHERNIVTSI' b'DNIPROPETROVSK' b'IVANO-FRANKIVSK'\n",
            " b'KHARKIV' b'KRYVYY RIH' b'KYIV' b'LUTSK' b'LVIV' b'MYKOLAIV' b'ODESA'\n",
            " b'POLTAVA' b'RIVNE' b'TERNOPIL' b'VINNYTSYA' b'ZAPORIZHZHYA' b'ZHYTOMYR']\n"
          ]
        }
      ]
    },
    {
      "cell_type": "markdown",
      "source": [
        "## Buyer Model"
      ],
      "metadata": {
        "id": "mPRSTNgogv59"
      }
    },
    {
      "cell_type": "code",
      "source": [
        "class BuyerModel(tf.keras.Model):\n",
        "\n",
        "  def __init__(self):\n",
        "    super().__init__()\n",
        "\n",
        "    self.customers_embedding = tf.keras.Sequential([\n",
        "       tf.keras.layers.StringLookup(\n",
        "         vocabulary = unique_customer_id, mask_token = None),\n",
        "         tf.keras.layers.Embedding(len(unique_customer_id) + 1, 32),\n",
        "     ])\n",
        "\n",
        "    self.city_embedding = tf.keras.Sequential([\n",
        "       tf.keras.layers.StringLookup(\n",
        "         vocabulary = unique_city, mask_token = None),\n",
        "         tf.keras.layers.Embedding(len(unique_city) + 1, 32),\n",
        "     ])\n",
        "\n",
        "    self.revenues_embedding = tf.keras.Sequential([\n",
        "          tf.keras.layers.Discretization(revenues_buckets.tolist()),\n",
        "          tf.keras.layers.Embedding(len(revenues_buckets) + 1, 32),])\n",
        "    self.normalized_revenues = tf.keras.layers.Normalization(axis=None)\n",
        "    self.normalized_revenues.adapt(unique_revenues)\n",
        "\n",
        "    # self.visits_embedding = tf.keras.Sequential([\n",
        "    #       tf.keras.layers.Discretization(visits_buckets.tolist()),\n",
        "    #       tf.keras.layers.Embedding(len(visits_buckets) + 1, 32),])\n",
        "    # self.normalized_visits = tf.keras.layers.Normalization(axis=None)\n",
        "    # self.normalized_visits.adapt(unique_visits)\n",
        "\n",
        "  def call(self, inputs):\n",
        "    return tf.concat([\n",
        "      self.customers_embedding(inputs['customer_id']),\n",
        "      self.city_embedding(inputs['city']),\n",
        "      self.revenues_embedding(inputs[\"revenue\"]),\n",
        "      tf.reshape(self.normalized_revenues(inputs[\"revenue\"]), (-1, 1)),\n",
        "      # self.visits_embedding(inputs[\"visits\"]),\n",
        "      # tf.reshape(self.normalized_visits(inputs[\"visits\"]), (-1, 1)),\n",
        "      ], axis=1)\n"
      ],
      "metadata": {
        "id": "N7Z8ZGAEgv59"
      },
      "execution_count": null,
      "outputs": []
    },
    {
      "cell_type": "code",
      "source": [
        "buyer_model = BuyerModel()\n",
        "\n",
        "for row in client_ds.batch(1).take(1):\n",
        "  print(f\"Computed representations: {buyer_model(row)[0, :]}\")\n"
      ],
      "metadata": {
        "colab": {
          "base_uri": "https://localhost:8080/"
        },
        "outputId": "7b3a7f01-4095-4e69-a722-868560f2e6af",
        "id": "65V6d3Qrgv5-"
      },
      "execution_count": null,
      "outputs": [
        {
          "output_type": "stream",
          "name": "stdout",
          "text": [
            "Computed representations: [ 4.4537727e-02 -4.0564686e-04  4.3360796e-02  9.7468980e-03\n",
            "  4.7466669e-02  3.3395853e-02 -1.2592532e-02 -1.7248333e-02\n",
            "  6.1223134e-03  2.2165064e-02 -4.0997434e-02  8.9088567e-03\n",
            " -3.4294523e-02 -1.0235526e-02  2.0017747e-02 -3.7744164e-02\n",
            " -1.9615127e-02  3.3769097e-02  3.4217525e-02 -3.2142568e-02\n",
            " -3.9072145e-02 -3.3888318e-02  4.0603947e-02 -1.2986921e-02\n",
            "  3.7648194e-03 -4.9586691e-02  3.6546174e-02  4.5401122e-02\n",
            "  1.8443260e-02 -4.1353263e-02 -3.6225367e-02 -3.8377833e-02\n",
            " -2.3482120e-02  4.2262401e-02  2.1325555e-02  2.3772012e-02\n",
            "  3.8285200e-02  4.7627855e-02 -1.3485599e-02  2.5991272e-02\n",
            "  4.7355842e-02 -2.6074756e-02  3.7598778e-02 -1.8121876e-02\n",
            " -3.8631380e-02  3.4920607e-02 -1.7145537e-02 -3.3555675e-02\n",
            "  4.7922943e-02  2.3781214e-02  1.3284627e-02 -2.4894476e-03\n",
            "  4.5984499e-03  1.1398673e-02  3.9315950e-02 -2.1550918e-02\n",
            "  2.0399664e-02 -3.7365332e-03 -2.9103518e-02 -2.4922550e-02\n",
            " -5.8839805e-03  2.6707638e-02 -3.0913508e-02  3.4682825e-04\n",
            "  1.8085603e-02 -2.9442549e-02 -1.7630279e-02 -3.4324244e-02\n",
            "  4.3349709e-02 -3.3708204e-02  2.7789723e-02  8.1956014e-03\n",
            "  7.2238073e-03 -3.3877958e-02 -3.7974715e-02  4.2817358e-02\n",
            "  8.2338937e-03  1.1466157e-02 -7.9357401e-03  2.7818490e-02\n",
            " -1.0315888e-03 -5.4449961e-04 -3.2376684e-02  1.9754767e-03\n",
            "  1.7735664e-02 -4.9074519e-02  3.8983438e-02 -5.9874430e-03\n",
            " -3.0021071e-02 -6.6705234e-03  4.3645289e-02  2.7204100e-02\n",
            " -8.9278705e-03  2.7501751e-02 -2.5365626e-02 -4.4485856e-02\n",
            " -3.9263007e-01]\n"
          ]
        }
      ]
    },
    {
      "cell_type": "markdown",
      "source": [
        "## Product model"
      ],
      "metadata": {
        "id": "eIi5vxsZgzQa"
      }
    },
    {
      "cell_type": "code",
      "source": [
        "class ProductModel(tf.keras.Model):\n",
        "\n",
        "  def __init__(self):\n",
        "    super().__init__()\n",
        "\n",
        "    self.product_embedding = tf.keras.Sequential([\n",
        "        tf.keras.layers.StringLookup(\n",
        "            vocabulary=unique_product_ids, mask_token=None),\n",
        "        tf.keras.layers.Embedding(len(unique_product_ids) + 1, 32),\n",
        "    ])\n",
        "\n",
        "  def call(self, inputs):\n",
        "    return tf.concat([\n",
        "      self.product_embedding(inputs['product_id'])\n",
        "      ], axis=1)\n"
      ],
      "metadata": {
        "id": "JZLR2OazgzQb"
      },
      "execution_count": null,
      "outputs": []
    },
    {
      "cell_type": "code",
      "source": [
        "product_model = ProductModel()\n",
        "\n",
        "for row in product_ds.batch(10).take(1):\n",
        "    # print(row)\n",
        "  print(f\"Computed representations: {product_model(row)[0, :]}\")\n"
      ],
      "metadata": {
        "colab": {
          "base_uri": "https://localhost:8080/"
        },
        "outputId": "78e21717-9549-477b-e6bf-f38776cf1394",
        "id": "opmPQIvPgzQb"
      },
      "execution_count": null,
      "outputs": [
        {
          "output_type": "stream",
          "name": "stdout",
          "text": [
            "Computed representations: [-0.01461326 -0.04814415  0.003115   -0.01053192  0.04947645  0.01591602\n",
            "  0.01186679 -0.04723597  0.01218813  0.01795491  0.04858079  0.0330842\n",
            "  0.04217111 -0.01920893  0.0234175  -0.03146849  0.02236274  0.0004353\n",
            " -0.04113274  0.03965512  0.04565808  0.04628027 -0.03728383 -0.04167312\n",
            "  0.00181194 -0.01436047 -0.04408305  0.02080217  0.0473468  -0.01340003\n",
            " -0.02648487 -0.0473168 ]\n"
          ]
        }
      ]
    },
    {
      "cell_type": "markdown",
      "source": [
        "## Joint Model"
      ],
      "metadata": {
        "id": "Of0bek2Sg1YI"
      }
    },
    {
      "cell_type": "code",
      "source": [
        "class Retrival_Ranking(tfrs.models.Model):\n",
        "\n",
        "  def __init__(self):\n",
        "    super().__init__()\n",
        "\n",
        "    self.query_model = tf.keras.Sequential([\n",
        "      BuyerModel(),\n",
        "      tf.keras.layers.Dense(64, kernel_regularizer= tf.keras.regularizers.l1(0.01)),\n",
        "      tf.keras.layers.Dense(32),\n",
        "      tf.keras.layers.Dense(16),\n",
        "             ])\n",
        "\n",
        "    self.candidate_model = tf.keras.Sequential([\n",
        "      ProductModel(),\n",
        "      tf.keras.layers.Dense(64, kernel_regularizer= tf.keras.regularizers.l1(0.01)),\n",
        "      tf.keras.layers.Dense(32),\n",
        "      tf.keras.layers.Dense(16),\n",
        "            ])\n",
        "\n",
        "    self.retrieval_task: tf.keras.layers.Layer = tfrs.tasks.Retrieval(\n",
        "        metrics=tfrs.metrics.FactorizedTopK(\n",
        "            candidates=product_ds.batch(128).map(self.candidate_model)\n",
        "        )\n",
        "        )\n",
        "\n",
        "    self.rating_model = tf.keras.Sequential([\n",
        "        tf.keras.layers.Dense(64),\n",
        "        tf.keras.layers.Dense(32),\n",
        "        tf.keras.layers.Dense(1),\n",
        "    ])\n",
        "\n",
        "    self.rating_task: tf.keras.layers.Layer = tfrs.tasks.Ranking(\n",
        "        loss=tf.keras.losses.MeanSquaredError(),\n",
        "        metrics=[tf.keras.metrics.RootMeanSquaredError()],\n",
        "    )\n",
        "\n",
        "  def call(self, features: Dict[Text, tf.Tensor]) -> tf.Tensor:\n",
        "    buyer_embeddings = self.query_model({\n",
        "      'customer_id': features['customer_id'],\n",
        "      'city': features['city'],\n",
        "      'revenue': features['revenue'],\n",
        "            })\n",
        "\n",
        "    product_embeddings = self.candidate_model({'product_id': features[\"product_id\"]})\n",
        "\n",
        "    return (buyer_embeddings,\n",
        "            product_embeddings,\n",
        "            self.rating_model(tf.concat([buyer_embeddings, product_embeddings], axis=1)\n",
        "        ),\n",
        "    )\n",
        "\n",
        "  def compute_loss(self, features: Dict[Text, tf.Tensor], training=False) -> tf.Tensor:\n",
        "    ratings = features.pop(\"rating\")\n",
        "    buyer_embeddings, product_embeddings, rating_predictions = self(features)\n",
        "\n",
        "    rating_loss = self.rating_task(\n",
        "        labels=ratings,\n",
        "        predictions=rating_predictions,\n",
        "    )\n",
        "\n",
        "    retrieval_loss = self.retrieval_task(buyer_embeddings, product_embeddings)\n",
        "\n",
        "    return (retrieval_loss + rating_loss)\n"
      ],
      "metadata": {
        "id": "PIoEUB6_g1YI"
      },
      "execution_count": null,
      "outputs": []
    },
    {
      "cell_type": "code",
      "source": [
        "model_retrival_ranking = Retrival_Ranking()\n"
      ],
      "metadata": {
        "colab": {
          "base_uri": "https://localhost:8080/"
        },
        "outputId": "eac4153a-86df-46f1-b8b0-fe419c99cb68",
        "id": "0pY0PErMg1YI"
      },
      "execution_count": null,
      "outputs": [
        {
          "output_type": "stream",
          "name": "stderr",
          "text": [
            "WARNING:tensorflow:Layers in a Sequential model should only have a single input tensor. Received: inputs={'product_id': <tf.Tensor 'args_0:0' shape=(None,) dtype=string>}. Consider rewriting this model with the Functional API.\n"
          ]
        }
      ]
    },
    {
      "cell_type": "code",
      "source": [
        "iterator = client_ds.shuffle(buffer_size=1_000).take(1).as_numpy_iterator()\n",
        "\n",
        "# Iterate over the elements and extract values\n",
        "for elem in iterator:\n",
        "    buyer_info = {\n",
        "        'customer_id': np.array([elem['customer_id']]),\n",
        "        'city': np.array([elem['city']]),\n",
        "        # 'visits': np.array([elem['visits']]),\n",
        "        'revenue': np.array([elem['revenue']]),\n",
        "    }\n",
        "\n",
        "print(model_retrival_ranking.query_model(buyer_info))\n",
        "\n",
        "iterator = product_ds.shuffle(buffer_size=1_000).take(1).as_numpy_iterator()\n",
        "for elem in iterator:\n",
        "    product_detail = {\n",
        "        'product_id': np.array([elem['product_id']])\n",
        "    }\n",
        "\n",
        "print(model_retrival_ranking.candidate_model(product_detail))\n"
      ],
      "metadata": {
        "colab": {
          "base_uri": "https://localhost:8080/"
        },
        "outputId": "1df13860-ba74-43ec-f47e-ff37ec52d556",
        "id": "4eiCbFTJg1YJ"
      },
      "execution_count": null,
      "outputs": [
        {
          "output_type": "stream",
          "name": "stderr",
          "text": [
            "WARNING:tensorflow:Layers in a Sequential model should only have a single input tensor. Received: inputs={'customer_id': <tf.Tensor: shape=(1,), dtype=string, numpy=array([b'370059784501'], dtype=object)>, 'city': <tf.Tensor: shape=(1,), dtype=string, numpy=array([b'KYIV'], dtype=object)>, 'revenue': <tf.Tensor: shape=(1,), dtype=int64, numpy=array([36910])>}. Consider rewriting this model with the Functional API.\n",
            "WARNING:tensorflow:Layers in a Sequential model should only have a single input tensor. Received: inputs={'product_id': <tf.Tensor: shape=(1,), dtype=string, numpy=array([b'272971001001'], dtype=object)>}. Consider rewriting this model with the Functional API.\n"
          ]
        },
        {
          "output_type": "stream",
          "name": "stdout",
          "text": [
            "tf.Tensor(\n",
            "[[-0.01047754  0.06008551  0.03777854  0.05487799 -0.10989873  0.03929884\n",
            "   0.18259193 -0.01107749  0.1274728  -0.04818405 -0.00364708 -0.00065034\n",
            "  -0.04981586 -0.09481703 -0.00803786  0.03017674]], shape=(1, 16), dtype=float32)\n",
            "tf.Tensor(\n",
            "[[-0.01040065  0.0017796  -0.00275109  0.07885028 -0.03707761  0.05750762\n",
            "  -0.03895428  0.05963778 -0.00782866 -0.00150383  0.0074627  -0.06794725\n",
            "  -0.04814696 -0.00984733  0.00818236 -0.05784443]], shape=(1, 16), dtype=float32)\n"
          ]
        }
      ]
    },
    {
      "cell_type": "markdown",
      "source": [
        "## Training"
      ],
      "metadata": {
        "id": "s2L34o-Qg4hd"
      }
    },
    {
      "cell_type": "code",
      "source": [
        "tf.random.set_seed(158)\n",
        "shuffled = client_ds.shuffle(100_000, seed=42, reshuffle_each_iteration=False)\n",
        "\n",
        "train = shuffled.take(3_000_000)\n",
        "test = shuffled.skip(3_000_000)\n",
        "\n",
        "cached_train = train.batch(5_000).cache()\n",
        "cached_test = test.batch(2_000).cache()\n"
      ],
      "metadata": {
        "id": "X1JrcXHjg4he"
      },
      "execution_count": null,
      "outputs": []
    },
    {
      "cell_type": "code",
      "source": [
        "MAX_EPOCHS = 200\n",
        "\n",
        "def compile_and_fit(model, train_ds, test_ds, patience=3):\n",
        "   #early_stopping = tf.keras.callbacks.EarlyStopping(monitor='factorized_top_k/top_5_categorical_accuracy',\n",
        "  #                                                   patience=patience,\n",
        "  #                                                   mode='min')\n",
        "\n",
        "  log_dir = \"/content/drive/MyDrive/Work/C4R/Metro/logs/fit/\" + dt.datetime.now().strftime(\"%Y%m%d-%H%M%S\")\n",
        "  # log_dir = \"\" + dt.datetime.now().strftime(\"%Y%m%d-%H%M%S\")\n",
        "  tensorboard_callback = tf.keras.callbacks.TensorBoard(log_dir=log_dir, histogram_freq=1)\n",
        "\n",
        "  model.compile(optimizer= tf.keras.optimizers.Adagrad(0.1))\n",
        "\n",
        "  history = model.fit(train_ds, epochs=MAX_EPOCHS,\n",
        "                      callbacks = [tensorboard_callback])\n",
        "  metrics = model.evaluate(test_ds, return_dict=True)\n",
        "\n",
        "  return model, history, metrics\n"
      ],
      "metadata": {
        "id": "q7PRDsdKg4he"
      },
      "execution_count": null,
      "outputs": []
    },
    {
      "cell_type": "code",
      "source": [
        "%%time\n",
        "\n",
        "model, history, metrics = compile_and_fit(model_retrival_ranking, cached_train, cached_test)\n",
        "\n",
        "index = tfrs.layers.factorized_top_k.BruteForce(model.query_model, k = 100)\n",
        "\n",
        "index.index_from_dataset(\n",
        "    tf.data.Dataset.zip((product_ds.map(lambda x: x['product_id']).batch(128), product_ds.batch(128).map(model.candidate_model)))\n",
        ")\n",
        "\n",
        "score, title = index(buyer_info)\n",
        "\n",
        "a = np.dstack((title, score))\n",
        "\n",
        "print(a)\n",
        "\n",
        "path = os.path.join('/content/drive/MyDrive/Work/C4R/Metro/Models', \"UA_1000_sku_retr_rank\")\n",
        "\n",
        "tf.saved_model.save(index, path)\n",
        "\n",
        "loaded = tf.saved_model.load(path)\n",
        "loaded(buyer_info)"
      ],
      "metadata": {
        "colab": {
          "base_uri": "https://localhost:8080/"
        },
        "outputId": "3292595e-4b03-4fe5-b06d-e3b1b91573fe",
        "id": "EfB2Bohfg4he"
      },
      "execution_count": null,
      "outputs": [
        {
          "output_type": "stream",
          "name": "stdout",
          "text": [
            "Epoch 1/200\n"
          ]
        },
        {
          "output_type": "stream",
          "name": "stderr",
          "text": [
            "WARNING:tensorflow:Layers in a Sequential model should only have a single input tensor. Received: inputs={'customer_id': <tf.Tensor 'IteratorGetNext:1' shape=(None,) dtype=string>, 'city': <tf.Tensor 'IteratorGetNext:0' shape=(None,) dtype=string>, 'revenue': <tf.Tensor 'IteratorGetNext:4' shape=(None,) dtype=int64>}. Consider rewriting this model with the Functional API.\n",
            "WARNING:tensorflow:Layers in a Sequential model should only have a single input tensor. Received: inputs={'product_id': <tf.Tensor 'IteratorGetNext:2' shape=(None,) dtype=string>}. Consider rewriting this model with the Functional API.\n",
            "WARNING:tensorflow:Layers in a Sequential model should only have a single input tensor. Received: inputs={'customer_id': <tf.Tensor 'IteratorGetNext:1' shape=(None,) dtype=string>, 'city': <tf.Tensor 'IteratorGetNext:0' shape=(None,) dtype=string>, 'revenue': <tf.Tensor 'IteratorGetNext:4' shape=(None,) dtype=int64>}. Consider rewriting this model with the Functional API.\n",
            "WARNING:tensorflow:Layers in a Sequential model should only have a single input tensor. Received: inputs={'product_id': <tf.Tensor 'IteratorGetNext:2' shape=(None,) dtype=string>}. Consider rewriting this model with the Functional API.\n"
          ]
        },
        {
          "output_type": "stream",
          "name": "stdout",
          "text": [
            "600/600 [==============================] - 138s 223ms/step - factorized_top_k/top_1_categorical_accuracy: 0.0505 - factorized_top_k/top_5_categorical_accuracy: 0.0821 - factorized_top_k/top_10_categorical_accuracy: 0.0991 - factorized_top_k/top_50_categorical_accuracy: 0.1659 - factorized_top_k/top_100_categorical_accuracy: 0.2221 - root_mean_squared_error: 1057.6680 - loss: 1171060.2858 - regularization_loss: 11.5783 - total_loss: 1171071.8667\n",
            "Epoch 2/200\n",
            "600/600 [==============================] - 124s 207ms/step - factorized_top_k/top_1_categorical_accuracy: 0.0354 - factorized_top_k/top_5_categorical_accuracy: 0.0560 - factorized_top_k/top_10_categorical_accuracy: 0.0684 - factorized_top_k/top_50_categorical_accuracy: 0.1312 - factorized_top_k/top_100_categorical_accuracy: 0.1900 - root_mean_squared_error: 1039.8765 - loss: 1125636.7326 - regularization_loss: 11.7225 - total_loss: 1125648.4581\n",
            "Epoch 3/200\n",
            "600/600 [==============================] - 125s 208ms/step - factorized_top_k/top_1_categorical_accuracy: 0.0117 - factorized_top_k/top_5_categorical_accuracy: 0.0234 - factorized_top_k/top_10_categorical_accuracy: 0.0339 - factorized_top_k/top_50_categorical_accuracy: 0.0970 - factorized_top_k/top_100_categorical_accuracy: 0.1622 - root_mean_squared_error: 1014.8521 - loss: 1072918.5626 - regularization_loss: 11.9231 - total_loss: 1072930.4856\n",
            "Epoch 4/200\n",
            "600/600 [==============================] - 125s 208ms/step - factorized_top_k/top_1_categorical_accuracy: 0.0104 - factorized_top_k/top_5_categorical_accuracy: 0.0215 - factorized_top_k/top_10_categorical_accuracy: 0.0324 - factorized_top_k/top_50_categorical_accuracy: 0.1021 - factorized_top_k/top_100_categorical_accuracy: 0.1744 - root_mean_squared_error: 999.3346 - loss: 1041810.4724 - regularization_loss: 12.2200 - total_loss: 1041822.6861\n",
            "Epoch 5/200\n",
            "600/600 [==============================] - 125s 208ms/step - factorized_top_k/top_1_categorical_accuracy: 0.0074 - factorized_top_k/top_5_categorical_accuracy: 0.0175 - factorized_top_k/top_10_categorical_accuracy: 0.0284 - factorized_top_k/top_50_categorical_accuracy: 0.1013 - factorized_top_k/top_100_categorical_accuracy: 0.1783 - root_mean_squared_error: 991.0005 - loss: 1025019.6979 - regularization_loss: 12.4728 - total_loss: 1025032.1648\n",
            "Epoch 6/200\n",
            "600/600 [==============================] - 125s 209ms/step - factorized_top_k/top_1_categorical_accuracy: 0.0061 - factorized_top_k/top_5_categorical_accuracy: 0.0163 - factorized_top_k/top_10_categorical_accuracy: 0.0275 - factorized_top_k/top_50_categorical_accuracy: 0.1032 - factorized_top_k/top_100_categorical_accuracy: 0.1827 - root_mean_squared_error: 984.9459 - loss: 1012696.8878 - regularization_loss: 12.6807 - total_loss: 1012709.5677\n",
            "Epoch 7/200\n",
            "600/600 [==============================] - 125s 209ms/step - factorized_top_k/top_1_categorical_accuracy: 0.0075 - factorized_top_k/top_5_categorical_accuracy: 0.0184 - factorized_top_k/top_10_categorical_accuracy: 0.0302 - factorized_top_k/top_50_categorical_accuracy: 0.1091 - factorized_top_k/top_100_categorical_accuracy: 0.1914 - root_mean_squared_error: 979.9091 - loss: 1002866.9493 - regularization_loss: 12.9065 - total_loss: 1002879.8568\n",
            "Epoch 8/200\n",
            "600/600 [==============================] - 125s 209ms/step - factorized_top_k/top_1_categorical_accuracy: 0.0069 - factorized_top_k/top_5_categorical_accuracy: 0.0182 - factorized_top_k/top_10_categorical_accuracy: 0.0301 - factorized_top_k/top_50_categorical_accuracy: 0.1080 - factorized_top_k/top_100_categorical_accuracy: 0.1905 - root_mean_squared_error: 975.0675 - loss: 993858.2451 - regularization_loss: 13.0687 - total_loss: 993871.3126\n",
            "Epoch 9/200\n",
            "600/600 [==============================] - 125s 209ms/step - factorized_top_k/top_1_categorical_accuracy: 0.0034 - factorized_top_k/top_5_categorical_accuracy: 0.0145 - factorized_top_k/top_10_categorical_accuracy: 0.0274 - factorized_top_k/top_50_categorical_accuracy: 0.1109 - factorized_top_k/top_100_categorical_accuracy: 0.1983 - root_mean_squared_error: 969.9637 - loss: 983358.4294 - regularization_loss: 13.3136 - total_loss: 983371.7409\n",
            "Epoch 10/200\n",
            "600/600 [==============================] - 125s 209ms/step - factorized_top_k/top_1_categorical_accuracy: 0.0041 - factorized_top_k/top_5_categorical_accuracy: 0.0174 - factorized_top_k/top_10_categorical_accuracy: 0.0303 - factorized_top_k/top_50_categorical_accuracy: 0.1140 - factorized_top_k/top_100_categorical_accuracy: 0.2012 - root_mean_squared_error: 965.9719 - loss: 975724.9549 - regularization_loss: 13.5050 - total_loss: 975738.4588\n",
            "Epoch 11/200\n",
            "600/600 [==============================] - 126s 209ms/step - factorized_top_k/top_1_categorical_accuracy: 0.0035 - factorized_top_k/top_5_categorical_accuracy: 0.0163 - factorized_top_k/top_10_categorical_accuracy: 0.0302 - factorized_top_k/top_50_categorical_accuracy: 0.1198 - factorized_top_k/top_100_categorical_accuracy: 0.2112 - root_mean_squared_error: 961.6345 - loss: 967131.5720 - regularization_loss: 13.7531 - total_loss: 967145.3314\n",
            "Epoch 12/200\n",
            "600/600 [==============================] - 126s 209ms/step - factorized_top_k/top_1_categorical_accuracy: 0.0039 - factorized_top_k/top_5_categorical_accuracy: 0.0183 - factorized_top_k/top_10_categorical_accuracy: 0.0329 - factorized_top_k/top_50_categorical_accuracy: 0.1250 - factorized_top_k/top_100_categorical_accuracy: 0.2175 - root_mean_squared_error: 958.6641 - loss: 961407.4959 - regularization_loss: 13.9364 - total_loss: 961421.4340\n",
            "Epoch 13/200\n",
            "600/600 [==============================] - 126s 210ms/step - factorized_top_k/top_1_categorical_accuracy: 0.0037 - factorized_top_k/top_5_categorical_accuracy: 0.0184 - factorized_top_k/top_10_categorical_accuracy: 0.0340 - factorized_top_k/top_50_categorical_accuracy: 0.1311 - factorized_top_k/top_100_categorical_accuracy: 0.2269 - root_mean_squared_error: 954.7360 - loss: 953833.7317 - regularization_loss: 14.1359 - total_loss: 953847.8676\n",
            "Epoch 14/200\n",
            "600/600 [==============================] - 125s 209ms/step - factorized_top_k/top_1_categorical_accuracy: 0.0033 - factorized_top_k/top_5_categorical_accuracy: 0.0190 - factorized_top_k/top_10_categorical_accuracy: 0.0357 - factorized_top_k/top_50_categorical_accuracy: 0.1345 - factorized_top_k/top_100_categorical_accuracy: 0.2318 - root_mean_squared_error: 952.1224 - loss: 948852.1829 - regularization_loss: 14.2821 - total_loss: 948866.4647\n",
            "Epoch 15/200\n",
            "600/600 [==============================] - 126s 210ms/step - factorized_top_k/top_1_categorical_accuracy: 0.0030 - factorized_top_k/top_5_categorical_accuracy: 0.0184 - factorized_top_k/top_10_categorical_accuracy: 0.0350 - factorized_top_k/top_50_categorical_accuracy: 0.1365 - factorized_top_k/top_100_categorical_accuracy: 0.2359 - root_mean_squared_error: 949.0943 - loss: 943001.8013 - regularization_loss: 14.4368 - total_loss: 943016.2398\n",
            "Epoch 16/200\n",
            "600/600 [==============================] - 126s 210ms/step - factorized_top_k/top_1_categorical_accuracy: 0.0034 - factorized_top_k/top_5_categorical_accuracy: 0.0194 - factorized_top_k/top_10_categorical_accuracy: 0.0365 - factorized_top_k/top_50_categorical_accuracy: 0.1406 - factorized_top_k/top_100_categorical_accuracy: 0.2415 - root_mean_squared_error: 946.8340 - loss: 938669.8841 - regularization_loss: 14.5770 - total_loss: 938684.4589\n",
            "Epoch 17/200\n",
            "600/600 [==============================] - 125s 209ms/step - factorized_top_k/top_1_categorical_accuracy: 0.0032 - factorized_top_k/top_5_categorical_accuracy: 0.0194 - factorized_top_k/top_10_categorical_accuracy: 0.0371 - factorized_top_k/top_50_categorical_accuracy: 0.1441 - factorized_top_k/top_100_categorical_accuracy: 0.2464 - root_mean_squared_error: 944.2267 - loss: 933690.3324 - regularization_loss: 14.7163 - total_loss: 933705.0476\n",
            "Epoch 18/200\n",
            "600/600 [==============================] - 126s 210ms/step - factorized_top_k/top_1_categorical_accuracy: 0.0034 - factorized_top_k/top_5_categorical_accuracy: 0.0203 - factorized_top_k/top_10_categorical_accuracy: 0.0385 - factorized_top_k/top_50_categorical_accuracy: 0.1489 - factorized_top_k/top_100_categorical_accuracy: 0.2530 - root_mean_squared_error: 942.2039 - loss: 929825.8088 - regularization_loss: 14.8406 - total_loss: 929840.6497\n",
            "Epoch 19/200\n",
            "600/600 [==============================] - 125s 209ms/step - factorized_top_k/top_1_categorical_accuracy: 0.0033 - factorized_top_k/top_5_categorical_accuracy: 0.0208 - factorized_top_k/top_10_categorical_accuracy: 0.0396 - factorized_top_k/top_50_categorical_accuracy: 0.1528 - factorized_top_k/top_100_categorical_accuracy: 0.2583 - root_mean_squared_error: 939.9488 - loss: 925534.3206 - regularization_loss: 14.9658 - total_loss: 925549.2903\n",
            "Epoch 20/200\n",
            "600/600 [==============================] - 126s 210ms/step - factorized_top_k/top_1_categorical_accuracy: 0.0036 - factorized_top_k/top_5_categorical_accuracy: 0.0216 - factorized_top_k/top_10_categorical_accuracy: 0.0408 - factorized_top_k/top_50_categorical_accuracy: 0.1567 - factorized_top_k/top_100_categorical_accuracy: 0.2638 - root_mean_squared_error: 938.3151 - loss: 922414.3391 - regularization_loss: 15.0722 - total_loss: 922429.4148\n",
            "Epoch 21/200\n",
            "600/600 [==============================] - 126s 209ms/step - factorized_top_k/top_1_categorical_accuracy: 0.0034 - factorized_top_k/top_5_categorical_accuracy: 0.0220 - factorized_top_k/top_10_categorical_accuracy: 0.0417 - factorized_top_k/top_50_categorical_accuracy: 0.1595 - factorized_top_k/top_100_categorical_accuracy: 0.2679 - root_mean_squared_error: 936.1782 - loss: 918360.1373 - regularization_loss: 15.1809 - total_loss: 918375.3217\n",
            "Epoch 22/200\n",
            "600/600 [==============================] - 126s 210ms/step - factorized_top_k/top_1_categorical_accuracy: 0.0037 - factorized_top_k/top_5_categorical_accuracy: 0.0228 - factorized_top_k/top_10_categorical_accuracy: 0.0428 - factorized_top_k/top_50_categorical_accuracy: 0.1630 - factorized_top_k/top_100_categorical_accuracy: 0.2730 - root_mean_squared_error: 934.9609 - loss: 916030.3373 - regularization_loss: 15.2711 - total_loss: 916045.6115\n",
            "Epoch 23/200\n",
            "600/600 [==============================] - 126s 210ms/step - factorized_top_k/top_1_categorical_accuracy: 0.0037 - factorized_top_k/top_5_categorical_accuracy: 0.0232 - factorized_top_k/top_10_categorical_accuracy: 0.0436 - factorized_top_k/top_50_categorical_accuracy: 0.1657 - factorized_top_k/top_100_categorical_accuracy: 0.2775 - root_mean_squared_error: 932.7980 - loss: 911948.0917 - regularization_loss: 15.3779 - total_loss: 911963.4720\n",
            "Epoch 24/200\n",
            "600/600 [==============================] - 126s 210ms/step - factorized_top_k/top_1_categorical_accuracy: 0.0039 - factorized_top_k/top_5_categorical_accuracy: 0.0240 - factorized_top_k/top_10_categorical_accuracy: 0.0448 - factorized_top_k/top_50_categorical_accuracy: 0.1693 - factorized_top_k/top_100_categorical_accuracy: 0.2825 - root_mean_squared_error: 932.1061 - loss: 910600.3667 - regularization_loss: 15.4583 - total_loss: 910615.8306\n",
            "Epoch 25/200\n",
            "600/600 [==============================] - 126s 210ms/step - factorized_top_k/top_1_categorical_accuracy: 0.0036 - factorized_top_k/top_5_categorical_accuracy: 0.0240 - factorized_top_k/top_10_categorical_accuracy: 0.0452 - factorized_top_k/top_50_categorical_accuracy: 0.1720 - factorized_top_k/top_100_categorical_accuracy: 0.2868 - root_mean_squared_error: 929.7593 - loss: 906186.9067 - regularization_loss: 15.5529 - total_loss: 906202.4608\n",
            "Epoch 26/200\n",
            "600/600 [==============================] - 126s 210ms/step - factorized_top_k/top_1_categorical_accuracy: 0.0040 - factorized_top_k/top_5_categorical_accuracy: 0.0250 - factorized_top_k/top_10_categorical_accuracy: 0.0469 - factorized_top_k/top_50_categorical_accuracy: 0.1759 - factorized_top_k/top_100_categorical_accuracy: 0.2921 - root_mean_squared_error: 929.5474 - loss: 905733.1346 - regularization_loss: 15.6167 - total_loss: 905748.7523\n",
            "Epoch 27/200\n",
            "600/600 [==============================] - 126s 210ms/step - factorized_top_k/top_1_categorical_accuracy: 0.0037 - factorized_top_k/top_5_categorical_accuracy: 0.0251 - factorized_top_k/top_10_categorical_accuracy: 0.0475 - factorized_top_k/top_50_categorical_accuracy: 0.1788 - factorized_top_k/top_100_categorical_accuracy: 0.2960 - root_mean_squared_error: 927.4088 - loss: 901717.7190 - regularization_loss: 15.7007 - total_loss: 901733.4240\n",
            "Epoch 28/200\n",
            "600/600 [==============================] - 125s 209ms/step - factorized_top_k/top_1_categorical_accuracy: 0.0040 - factorized_top_k/top_5_categorical_accuracy: 0.0261 - factorized_top_k/top_10_categorical_accuracy: 0.0491 - factorized_top_k/top_50_categorical_accuracy: 0.1825 - factorized_top_k/top_100_categorical_accuracy: 0.3009 - root_mean_squared_error: 927.1115 - loss: 901101.9457 - regularization_loss: 15.7630 - total_loss: 901117.7105\n",
            "Epoch 29/200\n",
            "600/600 [==============================] - 125s 208ms/step - factorized_top_k/top_1_categorical_accuracy: 0.0038 - factorized_top_k/top_5_categorical_accuracy: 0.0266 - factorized_top_k/top_10_categorical_accuracy: 0.0501 - factorized_top_k/top_50_categorical_accuracy: 0.1854 - factorized_top_k/top_100_categorical_accuracy: 0.3049 - root_mean_squared_error: 925.1295 - loss: 897387.0051 - regularization_loss: 15.8408 - total_loss: 897402.8479\n",
            "Epoch 30/200\n",
            "600/600 [==============================] - 126s 209ms/step - factorized_top_k/top_1_categorical_accuracy: 0.0040 - factorized_top_k/top_5_categorical_accuracy: 0.0274 - factorized_top_k/top_10_categorical_accuracy: 0.0515 - factorized_top_k/top_50_categorical_accuracy: 0.1886 - factorized_top_k/top_100_categorical_accuracy: 0.3093 - root_mean_squared_error: 924.9001 - loss: 896898.8300 - regularization_loss: 15.8964 - total_loss: 896914.7301\n",
            "Epoch 31/200\n",
            "600/600 [==============================] - 125s 208ms/step - factorized_top_k/top_1_categorical_accuracy: 0.0039 - factorized_top_k/top_5_categorical_accuracy: 0.0278 - factorized_top_k/top_10_categorical_accuracy: 0.0522 - factorized_top_k/top_50_categorical_accuracy: 0.1908 - factorized_top_k/top_100_categorical_accuracy: 0.3128 - root_mean_squared_error: 922.9191 - loss: 893195.1324 - regularization_loss: 15.9691 - total_loss: 893211.1028\n",
            "Epoch 32/200\n",
            "600/600 [==============================] - 125s 209ms/step - factorized_top_k/top_1_categorical_accuracy: 0.0040 - factorized_top_k/top_5_categorical_accuracy: 0.0285 - factorized_top_k/top_10_categorical_accuracy: 0.0533 - factorized_top_k/top_50_categorical_accuracy: 0.1935 - factorized_top_k/top_100_categorical_accuracy: 0.3164 - root_mean_squared_error: 922.6346 - loss: 892609.6016 - regularization_loss: 16.0298 - total_loss: 892625.6303\n",
            "Epoch 33/200\n",
            "600/600 [==============================] - 125s 209ms/step - factorized_top_k/top_1_categorical_accuracy: 0.0039 - factorized_top_k/top_5_categorical_accuracy: 0.0286 - factorized_top_k/top_10_categorical_accuracy: 0.0538 - factorized_top_k/top_50_categorical_accuracy: 0.1955 - factorized_top_k/top_100_categorical_accuracy: 0.3194 - root_mean_squared_error: 920.9655 - loss: 889485.5556 - regularization_loss: 16.1100 - total_loss: 889501.6603\n",
            "Epoch 34/200\n",
            "600/600 [==============================] - 126s 209ms/step - factorized_top_k/top_1_categorical_accuracy: 0.0040 - factorized_top_k/top_5_categorical_accuracy: 0.0292 - factorized_top_k/top_10_categorical_accuracy: 0.0547 - factorized_top_k/top_50_categorical_accuracy: 0.1979 - factorized_top_k/top_100_categorical_accuracy: 0.3226 - root_mean_squared_error: 920.5199 - loss: 888609.5403 - regularization_loss: 16.1782 - total_loss: 888625.7158\n",
            "Epoch 35/200\n",
            "600/600 [==============================] - 125s 208ms/step - factorized_top_k/top_1_categorical_accuracy: 0.0040 - factorized_top_k/top_5_categorical_accuracy: 0.0293 - factorized_top_k/top_10_categorical_accuracy: 0.0551 - factorized_top_k/top_50_categorical_accuracy: 0.1998 - factorized_top_k/top_100_categorical_accuracy: 0.3254 - root_mean_squared_error: 919.1141 - loss: 885984.8370 - regularization_loss: 16.2560 - total_loss: 886001.0894\n",
            "Epoch 36/200\n",
            "600/600 [==============================] - 125s 209ms/step - factorized_top_k/top_1_categorical_accuracy: 0.0041 - factorized_top_k/top_5_categorical_accuracy: 0.0301 - factorized_top_k/top_10_categorical_accuracy: 0.0562 - factorized_top_k/top_50_categorical_accuracy: 0.2025 - factorized_top_k/top_100_categorical_accuracy: 0.3284 - root_mean_squared_error: 918.7205 - loss: 885211.6507 - regularization_loss: 16.3193 - total_loss: 885227.9675\n",
            "Epoch 37/200\n",
            "600/600 [==============================] - 125s 209ms/step - factorized_top_k/top_1_categorical_accuracy: 0.0041 - factorized_top_k/top_5_categorical_accuracy: 0.0304 - factorized_top_k/top_10_categorical_accuracy: 0.0570 - factorized_top_k/top_50_categorical_accuracy: 0.2047 - factorized_top_k/top_100_categorical_accuracy: 0.3314 - root_mean_squared_error: 917.4590 - loss: 882859.7107 - regularization_loss: 16.3916 - total_loss: 882876.0980\n",
            "Epoch 38/200\n",
            "600/600 [==============================] - 126s 209ms/step - factorized_top_k/top_1_categorical_accuracy: 0.0042 - factorized_top_k/top_5_categorical_accuracy: 0.0310 - factorized_top_k/top_10_categorical_accuracy: 0.0580 - factorized_top_k/top_50_categorical_accuracy: 0.2068 - factorized_top_k/top_100_categorical_accuracy: 0.3341 - root_mean_squared_error: 916.9247 - loss: 881832.8858 - regularization_loss: 16.4510 - total_loss: 881849.3347\n",
            "Epoch 39/200\n",
            "600/600 [==============================] - 125s 209ms/step - factorized_top_k/top_1_categorical_accuracy: 0.0042 - factorized_top_k/top_5_categorical_accuracy: 0.0313 - factorized_top_k/top_10_categorical_accuracy: 0.0587 - factorized_top_k/top_50_categorical_accuracy: 0.2086 - factorized_top_k/top_100_categorical_accuracy: 0.3364 - root_mean_squared_error: 915.8289 - loss: 879794.1849 - regularization_loss: 16.5122 - total_loss: 879810.6933\n",
            "Epoch 40/200\n",
            "600/600 [==============================] - 125s 209ms/step - factorized_top_k/top_1_categorical_accuracy: 0.0043 - factorized_top_k/top_5_categorical_accuracy: 0.0318 - factorized_top_k/top_10_categorical_accuracy: 0.0595 - factorized_top_k/top_50_categorical_accuracy: 0.2104 - factorized_top_k/top_100_categorical_accuracy: 0.3388 - root_mean_squared_error: 915.2620 - loss: 878717.6601 - regularization_loss: 16.5708 - total_loss: 878734.2233\n",
            "Epoch 41/200\n",
            "600/600 [==============================] - 125s 209ms/step - factorized_top_k/top_1_categorical_accuracy: 0.0043 - factorized_top_k/top_5_categorical_accuracy: 0.0322 - factorized_top_k/top_10_categorical_accuracy: 0.0601 - factorized_top_k/top_50_categorical_accuracy: 0.2120 - factorized_top_k/top_100_categorical_accuracy: 0.3410 - root_mean_squared_error: 914.1403 - loss: 876636.7391 - regularization_loss: 16.6328 - total_loss: 876653.3664\n",
            "Epoch 42/200\n",
            "600/600 [==============================] - 126s 209ms/step - factorized_top_k/top_1_categorical_accuracy: 0.0043 - factorized_top_k/top_5_categorical_accuracy: 0.0325 - factorized_top_k/top_10_categorical_accuracy: 0.0608 - factorized_top_k/top_50_categorical_accuracy: 0.2140 - factorized_top_k/top_100_categorical_accuracy: 0.3434 - root_mean_squared_error: 913.6899 - loss: 875775.9336 - regularization_loss: 16.7001 - total_loss: 875792.6308\n",
            "Epoch 43/200\n",
            "600/600 [==============================] - 125s 209ms/step - factorized_top_k/top_1_categorical_accuracy: 0.0043 - factorized_top_k/top_5_categorical_accuracy: 0.0330 - factorized_top_k/top_10_categorical_accuracy: 0.0616 - factorized_top_k/top_50_categorical_accuracy: 0.2158 - factorized_top_k/top_100_categorical_accuracy: 0.3456 - root_mean_squared_error: 912.4832 - loss: 873549.4214 - regularization_loss: 16.7651 - total_loss: 873566.1829\n",
            "Epoch 44/200\n",
            "600/600 [==============================] - 126s 209ms/step - factorized_top_k/top_1_categorical_accuracy: 0.0044 - factorized_top_k/top_5_categorical_accuracy: 0.0334 - factorized_top_k/top_10_categorical_accuracy: 0.0624 - factorized_top_k/top_50_categorical_accuracy: 0.2178 - factorized_top_k/top_100_categorical_accuracy: 0.3480 - root_mean_squared_error: 911.9211 - loss: 872490.9276 - regularization_loss: 16.8319 - total_loss: 872507.7570\n",
            "Epoch 45/200\n",
            "600/600 [==============================] - 125s 209ms/step - factorized_top_k/top_1_categorical_accuracy: 0.0044 - factorized_top_k/top_5_categorical_accuracy: 0.0338 - factorized_top_k/top_10_categorical_accuracy: 0.0631 - factorized_top_k/top_50_categorical_accuracy: 0.2193 - factorized_top_k/top_100_categorical_accuracy: 0.3501 - root_mean_squared_error: 910.9828 - loss: 870752.9366 - regularization_loss: 16.9008 - total_loss: 870769.8335\n",
            "Epoch 46/200\n",
            "600/600 [==============================] - 126s 209ms/step - factorized_top_k/top_1_categorical_accuracy: 0.0045 - factorized_top_k/top_5_categorical_accuracy: 0.0342 - factorized_top_k/top_10_categorical_accuracy: 0.0639 - factorized_top_k/top_50_categorical_accuracy: 0.2210 - factorized_top_k/top_100_categorical_accuracy: 0.3521 - root_mean_squared_error: 910.5802 - loss: 869985.2164 - regularization_loss: 16.9674 - total_loss: 870002.1805\n",
            "Epoch 47/200\n",
            "600/600 [==============================] - 125s 209ms/step - factorized_top_k/top_1_categorical_accuracy: 0.0045 - factorized_top_k/top_5_categorical_accuracy: 0.0345 - factorized_top_k/top_10_categorical_accuracy: 0.0644 - factorized_top_k/top_50_categorical_accuracy: 0.2222 - factorized_top_k/top_100_categorical_accuracy: 0.3536 - root_mean_squared_error: 909.3448 - loss: 867714.0910 - regularization_loss: 17.0368 - total_loss: 867731.1295\n",
            "Epoch 48/200\n",
            "600/600 [==============================] - 126s 210ms/step - factorized_top_k/top_1_categorical_accuracy: 0.0046 - factorized_top_k/top_5_categorical_accuracy: 0.0348 - factorized_top_k/top_10_categorical_accuracy: 0.0650 - factorized_top_k/top_50_categorical_accuracy: 0.2236 - factorized_top_k/top_100_categorical_accuracy: 0.3553 - root_mean_squared_error: 909.1404 - loss: 867308.1548 - regularization_loss: 17.1012 - total_loss: 867325.2594\n",
            "Epoch 49/200\n",
            "600/600 [==============================] - 125s 209ms/step - factorized_top_k/top_1_categorical_accuracy: 0.0045 - factorized_top_k/top_5_categorical_accuracy: 0.0352 - factorized_top_k/top_10_categorical_accuracy: 0.0655 - factorized_top_k/top_50_categorical_accuracy: 0.2247 - factorized_top_k/top_100_categorical_accuracy: 0.3567 - root_mean_squared_error: 907.7022 - loss: 864674.9133 - regularization_loss: 17.1679 - total_loss: 864692.0859\n",
            "Epoch 50/200\n",
            "600/600 [==============================] - 126s 210ms/step - factorized_top_k/top_1_categorical_accuracy: 0.0046 - factorized_top_k/top_5_categorical_accuracy: 0.0356 - factorized_top_k/top_10_categorical_accuracy: 0.0661 - factorized_top_k/top_50_categorical_accuracy: 0.2262 - factorized_top_k/top_100_categorical_accuracy: 0.3584 - root_mean_squared_error: 907.6594 - loss: 864563.7122 - regularization_loss: 17.2291 - total_loss: 864580.9467\n",
            "Epoch 51/200\n",
            "600/600 [==============================] - 126s 209ms/step - factorized_top_k/top_1_categorical_accuracy: 0.0047 - factorized_top_k/top_5_categorical_accuracy: 0.0360 - factorized_top_k/top_10_categorical_accuracy: 0.0668 - factorized_top_k/top_50_categorical_accuracy: 0.2275 - factorized_top_k/top_100_categorical_accuracy: 0.3596 - root_mean_squared_error: 906.1658 - loss: 861834.2427 - regularization_loss: 17.2947 - total_loss: 861851.5416\n",
            "Epoch 52/200\n",
            "600/600 [==============================] - 126s 209ms/step - factorized_top_k/top_1_categorical_accuracy: 0.0047 - factorized_top_k/top_5_categorical_accuracy: 0.0364 - factorized_top_k/top_10_categorical_accuracy: 0.0675 - factorized_top_k/top_50_categorical_accuracy: 0.2290 - factorized_top_k/top_100_categorical_accuracy: 0.3612 - root_mean_squared_error: 906.6752 - loss: 862722.5179 - regularization_loss: 17.3516 - total_loss: 862739.8745\n",
            "Epoch 53/200\n",
            "600/600 [==============================] - 126s 209ms/step - factorized_top_k/top_1_categorical_accuracy: 0.0047 - factorized_top_k/top_5_categorical_accuracy: 0.0369 - factorized_top_k/top_10_categorical_accuracy: 0.0682 - factorized_top_k/top_50_categorical_accuracy: 0.2299 - factorized_top_k/top_100_categorical_accuracy: 0.3624 - root_mean_squared_error: 904.5590 - loss: 858872.7485 - regularization_loss: 17.4228 - total_loss: 858890.1754\n",
            "Epoch 54/200\n",
            "600/600 [==============================] - 126s 209ms/step - factorized_top_k/top_1_categorical_accuracy: 0.0048 - factorized_top_k/top_5_categorical_accuracy: 0.0374 - factorized_top_k/top_10_categorical_accuracy: 0.0690 - factorized_top_k/top_50_categorical_accuracy: 0.2315 - factorized_top_k/top_100_categorical_accuracy: 0.3641 - root_mean_squared_error: 904.9278 - loss: 859508.6535 - regularization_loss: 17.4823 - total_loss: 859526.1413\n",
            "Epoch 55/200\n",
            "600/600 [==============================] - 125s 209ms/step - factorized_top_k/top_1_categorical_accuracy: 0.0049 - factorized_top_k/top_5_categorical_accuracy: 0.0378 - factorized_top_k/top_10_categorical_accuracy: 0.0695 - factorized_top_k/top_50_categorical_accuracy: 0.2325 - factorized_top_k/top_100_categorical_accuracy: 0.3652 - root_mean_squared_error: 903.2679 - loss: 856490.5945 - regularization_loss: 17.5448 - total_loss: 856508.1413\n",
            "Epoch 56/200\n",
            "600/600 [==============================] - 126s 209ms/step - factorized_top_k/top_1_categorical_accuracy: 0.0049 - factorized_top_k/top_5_categorical_accuracy: 0.0381 - factorized_top_k/top_10_categorical_accuracy: 0.0701 - factorized_top_k/top_50_categorical_accuracy: 0.2338 - factorized_top_k/top_100_categorical_accuracy: 0.3667 - root_mean_squared_error: 903.3427 - loss: 856596.7388 - regularization_loss: 17.6074 - total_loss: 856614.3478\n",
            "Epoch 57/200\n",
            "600/600 [==============================] - 126s 209ms/step - factorized_top_k/top_1_categorical_accuracy: 0.0050 - factorized_top_k/top_5_categorical_accuracy: 0.0383 - factorized_top_k/top_10_categorical_accuracy: 0.0705 - factorized_top_k/top_50_categorical_accuracy: 0.2346 - factorized_top_k/top_100_categorical_accuracy: 0.3676 - root_mean_squared_error: 901.9540 - loss: 854077.4524 - regularization_loss: 17.6764 - total_loss: 854095.1325\n",
            "Epoch 58/200\n",
            "600/600 [==============================] - 126s 209ms/step - factorized_top_k/top_1_categorical_accuracy: 0.0050 - factorized_top_k/top_5_categorical_accuracy: 0.0387 - factorized_top_k/top_10_categorical_accuracy: 0.0711 - factorized_top_k/top_50_categorical_accuracy: 0.2359 - factorized_top_k/top_100_categorical_accuracy: 0.3690 - root_mean_squared_error: 902.4981 - loss: 855029.9872 - regularization_loss: 17.7393 - total_loss: 855047.7313\n",
            "Epoch 59/200\n",
            "600/600 [==============================] - 126s 210ms/step - factorized_top_k/top_1_categorical_accuracy: 0.0050 - factorized_top_k/top_5_categorical_accuracy: 0.0390 - factorized_top_k/top_10_categorical_accuracy: 0.0716 - factorized_top_k/top_50_categorical_accuracy: 0.2368 - factorized_top_k/top_100_categorical_accuracy: 0.3702 - root_mean_squared_error: 900.1416 - loss: 850770.0893 - regularization_loss: 17.8148 - total_loss: 850787.9082\n",
            "Epoch 60/200\n",
            "600/600 [==============================] - 126s 209ms/step - factorized_top_k/top_1_categorical_accuracy: 0.0051 - factorized_top_k/top_5_categorical_accuracy: 0.0395 - factorized_top_k/top_10_categorical_accuracy: 0.0725 - factorized_top_k/top_50_categorical_accuracy: 0.2384 - factorized_top_k/top_100_categorical_accuracy: 0.3722 - root_mean_squared_error: 900.7928 - loss: 851908.8570 - regularization_loss: 17.8741 - total_loss: 851926.7349\n",
            "Epoch 61/200\n",
            "600/600 [==============================] - 125s 209ms/step - factorized_top_k/top_1_categorical_accuracy: 0.0052 - factorized_top_k/top_5_categorical_accuracy: 0.0401 - factorized_top_k/top_10_categorical_accuracy: 0.0733 - factorized_top_k/top_50_categorical_accuracy: 0.2397 - factorized_top_k/top_100_categorical_accuracy: 0.3737 - root_mean_squared_error: 898.7566 - loss: 848229.5228 - regularization_loss: 17.9403 - total_loss: 848247.4667\n",
            "Epoch 62/200\n",
            "600/600 [==============================] - 126s 210ms/step - factorized_top_k/top_1_categorical_accuracy: 0.0053 - factorized_top_k/top_5_categorical_accuracy: 0.0408 - factorized_top_k/top_10_categorical_accuracy: 0.0744 - factorized_top_k/top_50_categorical_accuracy: 0.2416 - factorized_top_k/top_100_categorical_accuracy: 0.3758 - root_mean_squared_error: 899.6320 - loss: 849770.4380 - regularization_loss: 17.9938 - total_loss: 849788.4338\n",
            "Epoch 63/200\n",
            "600/600 [==============================] - 125s 209ms/step - factorized_top_k/top_1_categorical_accuracy: 0.0054 - factorized_top_k/top_5_categorical_accuracy: 0.0414 - factorized_top_k/top_10_categorical_accuracy: 0.0751 - factorized_top_k/top_50_categorical_accuracy: 0.2428 - factorized_top_k/top_100_categorical_accuracy: 0.3773 - root_mean_squared_error: 897.1878 - loss: 845366.2882 - regularization_loss: 18.0644 - total_loss: 845384.3485\n",
            "Epoch 64/200\n",
            "600/600 [==============================] - 126s 210ms/step - factorized_top_k/top_1_categorical_accuracy: 0.0055 - factorized_top_k/top_5_categorical_accuracy: 0.0421 - factorized_top_k/top_10_categorical_accuracy: 0.0761 - factorized_top_k/top_50_categorical_accuracy: 0.2443 - factorized_top_k/top_100_categorical_accuracy: 0.3790 - root_mean_squared_error: 899.9260 - loss: 850246.3353 - regularization_loss: 18.1186 - total_loss: 850264.4495\n",
            "Epoch 65/200\n",
            "600/600 [==============================] - 126s 209ms/step - factorized_top_k/top_1_categorical_accuracy: 0.0055 - factorized_top_k/top_5_categorical_accuracy: 0.0422 - factorized_top_k/top_10_categorical_accuracy: 0.0765 - factorized_top_k/top_50_categorical_accuracy: 0.2450 - factorized_top_k/top_100_categorical_accuracy: 0.3797 - root_mean_squared_error: 895.2899 - loss: 841920.5217 - regularization_loss: 18.2002 - total_loss: 841938.7197\n",
            "Epoch 66/200\n",
            "600/600 [==============================] - 126s 209ms/step - factorized_top_k/top_1_categorical_accuracy: 0.0056 - factorized_top_k/top_5_categorical_accuracy: 0.0426 - factorized_top_k/top_10_categorical_accuracy: 0.0770 - factorized_top_k/top_50_categorical_accuracy: 0.2461 - factorized_top_k/top_100_categorical_accuracy: 0.3809 - root_mean_squared_error: 895.6606 - loss: 842554.3028 - regularization_loss: 18.2612 - total_loss: 842572.5604\n",
            "Epoch 67/200\n",
            "600/600 [==============================] - 126s 209ms/step - factorized_top_k/top_1_categorical_accuracy: 0.0056 - factorized_top_k/top_5_categorical_accuracy: 0.0428 - factorized_top_k/top_10_categorical_accuracy: 0.0774 - factorized_top_k/top_50_categorical_accuracy: 0.2468 - factorized_top_k/top_100_categorical_accuracy: 0.3818 - root_mean_squared_error: 894.3388 - loss: 840178.0686 - regularization_loss: 18.3219 - total_loss: 840196.3878\n",
            "Epoch 68/200\n",
            "600/600 [==============================] - 126s 210ms/step - factorized_top_k/top_1_categorical_accuracy: 0.0057 - factorized_top_k/top_5_categorical_accuracy: 0.0432 - factorized_top_k/top_10_categorical_accuracy: 0.0779 - factorized_top_k/top_50_categorical_accuracy: 0.2480 - factorized_top_k/top_100_categorical_accuracy: 0.3829 - root_mean_squared_error: 894.9263 - loss: 841200.1523 - regularization_loss: 18.3709 - total_loss: 841218.5211\n",
            "Epoch 69/200\n",
            "600/600 [==============================] - 126s 210ms/step - factorized_top_k/top_1_categorical_accuracy: 0.0057 - factorized_top_k/top_5_categorical_accuracy: 0.0434 - factorized_top_k/top_10_categorical_accuracy: 0.0783 - factorized_top_k/top_50_categorical_accuracy: 0.2487 - factorized_top_k/top_100_categorical_accuracy: 0.3839 - root_mean_squared_error: 893.9717 - loss: 839485.0676 - regularization_loss: 18.4263 - total_loss: 839503.4938\n",
            "Epoch 70/200\n",
            "600/600 [==============================] - 126s 210ms/step - factorized_top_k/top_1_categorical_accuracy: 0.0057 - factorized_top_k/top_5_categorical_accuracy: 0.0436 - factorized_top_k/top_10_categorical_accuracy: 0.0787 - factorized_top_k/top_50_categorical_accuracy: 0.2497 - factorized_top_k/top_100_categorical_accuracy: 0.3851 - root_mean_squared_error: 893.6083 - loss: 838808.8578 - regularization_loss: 18.4777 - total_loss: 838827.3347\n",
            "Epoch 71/200\n",
            "600/600 [==============================] - 126s 209ms/step - factorized_top_k/top_1_categorical_accuracy: 0.0057 - factorized_top_k/top_5_categorical_accuracy: 0.0440 - factorized_top_k/top_10_categorical_accuracy: 0.0793 - factorized_top_k/top_50_categorical_accuracy: 0.2510 - factorized_top_k/top_100_categorical_accuracy: 0.3867 - root_mean_squared_error: 893.4687 - loss: 838544.0008 - regularization_loss: 18.5281 - total_loss: 838562.5243\n",
            "Epoch 72/200\n",
            "600/600 [==============================] - 126s 210ms/step - factorized_top_k/top_1_categorical_accuracy: 0.0057 - factorized_top_k/top_5_categorical_accuracy: 0.0444 - factorized_top_k/top_10_categorical_accuracy: 0.0797 - factorized_top_k/top_50_categorical_accuracy: 0.2521 - factorized_top_k/top_100_categorical_accuracy: 0.3879 - root_mean_squared_error: 891.8423 - loss: 835618.5144 - regularization_loss: 18.5898 - total_loss: 835637.0999\n",
            "Epoch 73/200\n",
            "600/600 [==============================] - 126s 209ms/step - factorized_top_k/top_1_categorical_accuracy: 0.0059 - factorized_top_k/top_5_categorical_accuracy: 0.0449 - factorized_top_k/top_10_categorical_accuracy: 0.0804 - factorized_top_k/top_50_categorical_accuracy: 0.2531 - factorized_top_k/top_100_categorical_accuracy: 0.3892 - root_mean_squared_error: 892.8998 - loss: 837489.3572 - regularization_loss: 18.6419 - total_loss: 837507.9933\n",
            "Epoch 74/200\n",
            "600/600 [==============================] - 126s 210ms/step - factorized_top_k/top_1_categorical_accuracy: 0.0058 - factorized_top_k/top_5_categorical_accuracy: 0.0451 - factorized_top_k/top_10_categorical_accuracy: 0.0807 - factorized_top_k/top_50_categorical_accuracy: 0.2536 - factorized_top_k/top_100_categorical_accuracy: 0.3897 - root_mean_squared_error: 890.5239 - loss: 833236.2798 - regularization_loss: 18.7028 - total_loss: 833254.9791\n",
            "Epoch 75/200\n",
            "600/600 [==============================] - 125s 209ms/step - factorized_top_k/top_1_categorical_accuracy: 0.0058 - factorized_top_k/top_5_categorical_accuracy: 0.0453 - factorized_top_k/top_10_categorical_accuracy: 0.0811 - factorized_top_k/top_50_categorical_accuracy: 0.2542 - factorized_top_k/top_100_categorical_accuracy: 0.3903 - root_mean_squared_error: 890.0334 - loss: 832353.6430 - regularization_loss: 18.7587 - total_loss: 832372.3962\n",
            "Epoch 76/200\n",
            "600/600 [==============================] - 126s 210ms/step - factorized_top_k/top_1_categorical_accuracy: 0.0058 - factorized_top_k/top_5_categorical_accuracy: 0.0455 - factorized_top_k/top_10_categorical_accuracy: 0.0814 - factorized_top_k/top_50_categorical_accuracy: 0.2546 - factorized_top_k/top_100_categorical_accuracy: 0.3906 - root_mean_squared_error: 889.7533 - loss: 831829.0620 - regularization_loss: 18.8105 - total_loss: 831847.8738\n",
            "Epoch 77/200\n",
            "600/600 [==============================] - 126s 209ms/step - factorized_top_k/top_1_categorical_accuracy: 0.0059 - factorized_top_k/top_5_categorical_accuracy: 0.0458 - factorized_top_k/top_10_categorical_accuracy: 0.0819 - factorized_top_k/top_50_categorical_accuracy: 0.2551 - factorized_top_k/top_100_categorical_accuracy: 0.3911 - root_mean_squared_error: 888.6915 - loss: 829932.4880 - regularization_loss: 18.8598 - total_loss: 829951.3484\n",
            "Epoch 78/200\n",
            "600/600 [==============================] - 126s 209ms/step - factorized_top_k/top_1_categorical_accuracy: 0.0059 - factorized_top_k/top_5_categorical_accuracy: 0.0461 - factorized_top_k/top_10_categorical_accuracy: 0.0822 - factorized_top_k/top_50_categorical_accuracy: 0.2558 - factorized_top_k/top_100_categorical_accuracy: 0.3917 - root_mean_squared_error: 888.4632 - loss: 829501.4005 - regularization_loss: 18.9104 - total_loss: 829520.3118\n",
            "Epoch 79/200\n",
            "600/600 [==============================] - 126s 210ms/step - factorized_top_k/top_1_categorical_accuracy: 0.0060 - factorized_top_k/top_5_categorical_accuracy: 0.0465 - factorized_top_k/top_10_categorical_accuracy: 0.0828 - factorized_top_k/top_50_categorical_accuracy: 0.2569 - factorized_top_k/top_100_categorical_accuracy: 0.3929 - root_mean_squared_error: 887.1381 - loss: 827143.3031 - regularization_loss: 18.9619 - total_loss: 827162.2647\n",
            "Epoch 80/200\n",
            "600/600 [==============================] - 125s 209ms/step - factorized_top_k/top_1_categorical_accuracy: 0.0060 - factorized_top_k/top_5_categorical_accuracy: 0.0468 - factorized_top_k/top_10_categorical_accuracy: 0.0833 - factorized_top_k/top_50_categorical_accuracy: 0.2580 - factorized_top_k/top_100_categorical_accuracy: 0.3944 - root_mean_squared_error: 886.8311 - loss: 826575.4151 - regularization_loss: 19.0106 - total_loss: 826594.4226\n",
            "Epoch 81/200\n",
            "600/600 [==============================] - 126s 210ms/step - factorized_top_k/top_1_categorical_accuracy: 0.0061 - factorized_top_k/top_5_categorical_accuracy: 0.0471 - factorized_top_k/top_10_categorical_accuracy: 0.0839 - factorized_top_k/top_50_categorical_accuracy: 0.2593 - factorized_top_k/top_100_categorical_accuracy: 0.3960 - root_mean_squared_error: 885.7617 - loss: 824675.9685 - regularization_loss: 19.0509 - total_loss: 824695.0191\n",
            "Epoch 82/200\n",
            "600/600 [==============================] - 126s 209ms/step - factorized_top_k/top_1_categorical_accuracy: 0.0061 - factorized_top_k/top_5_categorical_accuracy: 0.0474 - factorized_top_k/top_10_categorical_accuracy: 0.0842 - factorized_top_k/top_50_categorical_accuracy: 0.2603 - factorized_top_k/top_100_categorical_accuracy: 0.3973 - root_mean_squared_error: 885.5234 - loss: 824228.6462 - regularization_loss: 19.0937 - total_loss: 824247.7401\n",
            "Epoch 83/200\n",
            "600/600 [==============================] - 126s 210ms/step - factorized_top_k/top_1_categorical_accuracy: 0.0062 - factorized_top_k/top_5_categorical_accuracy: 0.0478 - factorized_top_k/top_10_categorical_accuracy: 0.0848 - factorized_top_k/top_50_categorical_accuracy: 0.2612 - factorized_top_k/top_100_categorical_accuracy: 0.3986 - root_mean_squared_error: 884.7539 - loss: 822860.7562 - regularization_loss: 19.1394 - total_loss: 822879.8948\n",
            "Epoch 84/200\n",
            "600/600 [==============================] - 126s 210ms/step - factorized_top_k/top_1_categorical_accuracy: 0.0063 - factorized_top_k/top_5_categorical_accuracy: 0.0479 - factorized_top_k/top_10_categorical_accuracy: 0.0850 - factorized_top_k/top_50_categorical_accuracy: 0.2617 - factorized_top_k/top_100_categorical_accuracy: 0.3995 - root_mean_squared_error: 884.5523 - loss: 822478.0019 - regularization_loss: 19.1786 - total_loss: 822497.1814\n",
            "Epoch 85/200\n",
            "600/600 [==============================] - 126s 210ms/step - factorized_top_k/top_1_categorical_accuracy: 0.0064 - factorized_top_k/top_5_categorical_accuracy: 0.0482 - factorized_top_k/top_10_categorical_accuracy: 0.0853 - factorized_top_k/top_50_categorical_accuracy: 0.2623 - factorized_top_k/top_100_categorical_accuracy: 0.4000 - root_mean_squared_error: 883.8648 - loss: 821258.0533 - regularization_loss: 19.2117 - total_loss: 821277.2664\n",
            "Epoch 86/200\n",
            "600/600 [==============================] - 126s 210ms/step - factorized_top_k/top_1_categorical_accuracy: 0.0065 - factorized_top_k/top_5_categorical_accuracy: 0.0482 - factorized_top_k/top_10_categorical_accuracy: 0.0855 - factorized_top_k/top_50_categorical_accuracy: 0.2624 - factorized_top_k/top_100_categorical_accuracy: 0.4001 - root_mean_squared_error: 883.6684 - loss: 820888.5342 - regularization_loss: 19.2380 - total_loss: 820907.7737\n",
            "Epoch 87/200\n",
            "600/600 [==============================] - 126s 209ms/step - factorized_top_k/top_1_categorical_accuracy: 0.0066 - factorized_top_k/top_5_categorical_accuracy: 0.0485 - factorized_top_k/top_10_categorical_accuracy: 0.0857 - factorized_top_k/top_50_categorical_accuracy: 0.2627 - factorized_top_k/top_100_categorical_accuracy: 0.4002 - root_mean_squared_error: 882.8885 - loss: 819510.6238 - regularization_loss: 19.2704 - total_loss: 819529.8933\n",
            "Epoch 88/200\n",
            "600/600 [==============================] - 126s 210ms/step - factorized_top_k/top_1_categorical_accuracy: 0.0066 - factorized_top_k/top_5_categorical_accuracy: 0.0486 - factorized_top_k/top_10_categorical_accuracy: 0.0859 - factorized_top_k/top_50_categorical_accuracy: 0.2627 - factorized_top_k/top_100_categorical_accuracy: 0.4003 - root_mean_squared_error: 882.9818 - loss: 819654.0382 - regularization_loss: 19.3027 - total_loss: 819673.3421\n",
            "Epoch 89/200\n",
            "600/600 [==============================] - 126s 210ms/step - factorized_top_k/top_1_categorical_accuracy: 0.0066 - factorized_top_k/top_5_categorical_accuracy: 0.0489 - factorized_top_k/top_10_categorical_accuracy: 0.0861 - factorized_top_k/top_50_categorical_accuracy: 0.2630 - factorized_top_k/top_100_categorical_accuracy: 0.4006 - root_mean_squared_error: 882.4382 - loss: 818693.3890 - regularization_loss: 19.3373 - total_loss: 818712.7295\n",
            "Epoch 90/200\n",
            "600/600 [==============================] - 126s 209ms/step - factorized_top_k/top_1_categorical_accuracy: 0.0066 - factorized_top_k/top_5_categorical_accuracy: 0.0490 - factorized_top_k/top_10_categorical_accuracy: 0.0865 - factorized_top_k/top_50_categorical_accuracy: 0.2634 - factorized_top_k/top_100_categorical_accuracy: 0.4011 - root_mean_squared_error: 882.0543 - loss: 817994.3513 - regularization_loss: 19.3625 - total_loss: 818013.7160\n",
            "Epoch 91/200\n",
            "600/600 [==============================] - 126s 210ms/step - factorized_top_k/top_1_categorical_accuracy: 0.0066 - factorized_top_k/top_5_categorical_accuracy: 0.0494 - factorized_top_k/top_10_categorical_accuracy: 0.0868 - factorized_top_k/top_50_categorical_accuracy: 0.2640 - factorized_top_k/top_100_categorical_accuracy: 0.4017 - root_mean_squared_error: 881.3994 - loss: 816837.6026 - regularization_loss: 19.3804 - total_loss: 816856.9852\n",
            "Epoch 92/200\n",
            "600/600 [==============================] - 126s 209ms/step - factorized_top_k/top_1_categorical_accuracy: 0.0066 - factorized_top_k/top_5_categorical_accuracy: 0.0495 - factorized_top_k/top_10_categorical_accuracy: 0.0870 - factorized_top_k/top_50_categorical_accuracy: 0.2647 - factorized_top_k/top_100_categorical_accuracy: 0.4026 - root_mean_squared_error: 881.2088 - loss: 816480.2586 - regularization_loss: 19.4033 - total_loss: 816499.6631\n",
            "Epoch 93/200\n",
            "600/600 [==============================] - 126s 210ms/step - factorized_top_k/top_1_categorical_accuracy: 0.0066 - factorized_top_k/top_5_categorical_accuracy: 0.0497 - factorized_top_k/top_10_categorical_accuracy: 0.0872 - factorized_top_k/top_50_categorical_accuracy: 0.2653 - factorized_top_k/top_100_categorical_accuracy: 0.4033 - root_mean_squared_error: 880.5012 - loss: 815232.2603 - regularization_loss: 19.4407 - total_loss: 815251.7051\n",
            "Epoch 94/200\n",
            "600/600 [==============================] - 126s 209ms/step - factorized_top_k/top_1_categorical_accuracy: 0.0066 - factorized_top_k/top_5_categorical_accuracy: 0.0498 - factorized_top_k/top_10_categorical_accuracy: 0.0875 - factorized_top_k/top_50_categorical_accuracy: 0.2659 - factorized_top_k/top_100_categorical_accuracy: 0.4041 - root_mean_squared_error: 880.3043 - loss: 814864.6045 - regularization_loss: 19.4721 - total_loss: 814884.0800\n",
            "Epoch 95/200\n",
            "600/600 [==============================] - 126s 210ms/step - factorized_top_k/top_1_categorical_accuracy: 0.0067 - factorized_top_k/top_5_categorical_accuracy: 0.0500 - factorized_top_k/top_10_categorical_accuracy: 0.0877 - factorized_top_k/top_50_categorical_accuracy: 0.2665 - factorized_top_k/top_100_categorical_accuracy: 0.4045 - root_mean_squared_error: 879.4363 - loss: 813337.4383 - regularization_loss: 19.5115 - total_loss: 813356.9501\n",
            "Epoch 96/200\n",
            "600/600 [==============================] - 126s 210ms/step - factorized_top_k/top_1_categorical_accuracy: 0.0066 - factorized_top_k/top_5_categorical_accuracy: 0.0500 - factorized_top_k/top_10_categorical_accuracy: 0.0879 - factorized_top_k/top_50_categorical_accuracy: 0.2669 - factorized_top_k/top_100_categorical_accuracy: 0.4051 - root_mean_squared_error: 879.3274 - loss: 813127.5352 - regularization_loss: 19.5391 - total_loss: 813147.0727\n",
            "Epoch 97/200\n",
            "600/600 [==============================] - 126s 210ms/step - factorized_top_k/top_1_categorical_accuracy: 0.0067 - factorized_top_k/top_5_categorical_accuracy: 0.0501 - factorized_top_k/top_10_categorical_accuracy: 0.0881 - factorized_top_k/top_50_categorical_accuracy: 0.2672 - factorized_top_k/top_100_categorical_accuracy: 0.4054 - root_mean_squared_error: 878.5092 - loss: 811692.1864 - regularization_loss: 19.5675 - total_loss: 811711.7544\n",
            "Epoch 98/200\n",
            "600/600 [==============================] - 126s 209ms/step - factorized_top_k/top_1_categorical_accuracy: 0.0067 - factorized_top_k/top_5_categorical_accuracy: 0.0503 - factorized_top_k/top_10_categorical_accuracy: 0.0883 - factorized_top_k/top_50_categorical_accuracy: 0.2674 - factorized_top_k/top_100_categorical_accuracy: 0.4057 - root_mean_squared_error: 878.6348 - loss: 811893.3012 - regularization_loss: 19.5901 - total_loss: 811912.8914\n",
            "Epoch 99/200\n",
            "600/600 [==============================] - 126s 210ms/step - factorized_top_k/top_1_categorical_accuracy: 0.0067 - factorized_top_k/top_5_categorical_accuracy: 0.0507 - factorized_top_k/top_10_categorical_accuracy: 0.0888 - factorized_top_k/top_50_categorical_accuracy: 0.2678 - factorized_top_k/top_100_categorical_accuracy: 0.4060 - root_mean_squared_error: 878.1088 - loss: 810968.5542 - regularization_loss: 19.6100 - total_loss: 810988.1656\n",
            "Epoch 100/200\n",
            "600/600 [==============================] - 126s 210ms/step - factorized_top_k/top_1_categorical_accuracy: 0.0068 - factorized_top_k/top_5_categorical_accuracy: 0.0511 - factorized_top_k/top_10_categorical_accuracy: 0.0894 - factorized_top_k/top_50_categorical_accuracy: 0.2685 - factorized_top_k/top_100_categorical_accuracy: 0.4066 - root_mean_squared_error: 879.2198 - loss: 812897.5322 - regularization_loss: 19.6211 - total_loss: 812917.1551\n",
            "Epoch 101/200\n",
            "600/600 [==============================] - 127s 211ms/step - factorized_top_k/top_1_categorical_accuracy: 0.0067 - factorized_top_k/top_5_categorical_accuracy: 0.0515 - factorized_top_k/top_10_categorical_accuracy: 0.0899 - factorized_top_k/top_50_categorical_accuracy: 0.2690 - factorized_top_k/top_100_categorical_accuracy: 0.4073 - root_mean_squared_error: 878.3607 - loss: 811383.5790 - regularization_loss: 19.6393 - total_loss: 811403.2185\n",
            "Epoch 102/200\n",
            "600/600 [==============================] - 126s 210ms/step - factorized_top_k/top_1_categorical_accuracy: 0.0068 - factorized_top_k/top_5_categorical_accuracy: 0.0518 - factorized_top_k/top_10_categorical_accuracy: 0.0904 - factorized_top_k/top_50_categorical_accuracy: 0.2698 - factorized_top_k/top_100_categorical_accuracy: 0.4081 - root_mean_squared_error: 877.8868 - loss: 810536.1072 - regularization_loss: 19.6645 - total_loss: 810555.7725\n",
            "Epoch 103/200\n",
            "600/600 [==============================] - 126s 209ms/step - factorized_top_k/top_1_categorical_accuracy: 0.0068 - factorized_top_k/top_5_categorical_accuracy: 0.0519 - factorized_top_k/top_10_categorical_accuracy: 0.0906 - factorized_top_k/top_50_categorical_accuracy: 0.2704 - factorized_top_k/top_100_categorical_accuracy: 0.4089 - root_mean_squared_error: 877.3320 - loss: 809554.4026 - regularization_loss: 19.6829 - total_loss: 809574.0880\n",
            "Epoch 104/200\n",
            "600/600 [==============================] - 126s 210ms/step - factorized_top_k/top_1_categorical_accuracy: 0.0068 - factorized_top_k/top_5_categorical_accuracy: 0.0521 - factorized_top_k/top_10_categorical_accuracy: 0.0910 - factorized_top_k/top_50_categorical_accuracy: 0.2712 - factorized_top_k/top_100_categorical_accuracy: 0.4097 - root_mean_squared_error: 876.9357 - loss: 808843.7383 - regularization_loss: 19.6960 - total_loss: 808863.4371\n",
            "Epoch 105/200\n",
            "600/600 [==============================] - 126s 210ms/step - factorized_top_k/top_1_categorical_accuracy: 0.0068 - factorized_top_k/top_5_categorical_accuracy: 0.0523 - factorized_top_k/top_10_categorical_accuracy: 0.0912 - factorized_top_k/top_50_categorical_accuracy: 0.2716 - factorized_top_k/top_100_categorical_accuracy: 0.4102 - root_mean_squared_error: 876.7737 - loss: 808549.0240 - regularization_loss: 19.7110 - total_loss: 808568.7365\n",
            "Epoch 106/200\n",
            "600/600 [==============================] - 126s 209ms/step - factorized_top_k/top_1_categorical_accuracy: 0.0068 - factorized_top_k/top_5_categorical_accuracy: 0.0524 - factorized_top_k/top_10_categorical_accuracy: 0.0914 - factorized_top_k/top_50_categorical_accuracy: 0.2720 - factorized_top_k/top_100_categorical_accuracy: 0.4107 - root_mean_squared_error: 876.6014 - loss: 808235.4404 - regularization_loss: 19.7252 - total_loss: 808255.1681\n",
            "Epoch 107/200\n",
            "600/600 [==============================] - 126s 210ms/step - factorized_top_k/top_1_categorical_accuracy: 0.0068 - factorized_top_k/top_5_categorical_accuracy: 0.0526 - factorized_top_k/top_10_categorical_accuracy: 0.0916 - factorized_top_k/top_50_categorical_accuracy: 0.2723 - factorized_top_k/top_100_categorical_accuracy: 0.4109 - root_mean_squared_error: 876.4771 - loss: 808005.1678 - regularization_loss: 19.7407 - total_loss: 808024.9099\n",
            "Epoch 108/200\n",
            "600/600 [==============================] - 126s 210ms/step - factorized_top_k/top_1_categorical_accuracy: 0.0068 - factorized_top_k/top_5_categorical_accuracy: 0.0528 - factorized_top_k/top_10_categorical_accuracy: 0.0918 - factorized_top_k/top_50_categorical_accuracy: 0.2727 - factorized_top_k/top_100_categorical_accuracy: 0.4112 - root_mean_squared_error: 876.2166 - loss: 807543.1150 - regularization_loss: 19.7638 - total_loss: 807562.8792\n",
            "Epoch 109/200\n",
            "600/600 [==============================] - 126s 209ms/step - factorized_top_k/top_1_categorical_accuracy: 0.0068 - factorized_top_k/top_5_categorical_accuracy: 0.0530 - factorized_top_k/top_10_categorical_accuracy: 0.0921 - factorized_top_k/top_50_categorical_accuracy: 0.2730 - factorized_top_k/top_100_categorical_accuracy: 0.4116 - root_mean_squared_error: 875.9808 - loss: 807115.9759 - regularization_loss: 19.7849 - total_loss: 807135.7632\n",
            "Epoch 110/200\n",
            "600/600 [==============================] - 126s 210ms/step - factorized_top_k/top_1_categorical_accuracy: 0.0068 - factorized_top_k/top_5_categorical_accuracy: 0.0533 - factorized_top_k/top_10_categorical_accuracy: 0.0923 - factorized_top_k/top_50_categorical_accuracy: 0.2735 - factorized_top_k/top_100_categorical_accuracy: 0.4122 - root_mean_squared_error: 875.7656 - loss: 806740.9096 - regularization_loss: 19.8037 - total_loss: 806760.7161\n",
            "Epoch 111/200\n",
            "600/600 [==============================] - 126s 210ms/step - factorized_top_k/top_1_categorical_accuracy: 0.0069 - factorized_top_k/top_5_categorical_accuracy: 0.0534 - factorized_top_k/top_10_categorical_accuracy: 0.0925 - factorized_top_k/top_50_categorical_accuracy: 0.2739 - factorized_top_k/top_100_categorical_accuracy: 0.4127 - root_mean_squared_error: 875.6786 - loss: 806573.3694 - regularization_loss: 19.8068 - total_loss: 806593.1806\n",
            "Epoch 112/200\n",
            "600/600 [==============================] - 126s 210ms/step - factorized_top_k/top_1_categorical_accuracy: 0.0069 - factorized_top_k/top_5_categorical_accuracy: 0.0536 - factorized_top_k/top_10_categorical_accuracy: 0.0927 - factorized_top_k/top_50_categorical_accuracy: 0.2744 - factorized_top_k/top_100_categorical_accuracy: 0.4134 - root_mean_squared_error: 875.5826 - loss: 806413.0099 - regularization_loss: 19.8107 - total_loss: 806432.8249\n",
            "Epoch 113/200\n",
            "600/600 [==============================] - 126s 210ms/step - factorized_top_k/top_1_categorical_accuracy: 0.0069 - factorized_top_k/top_5_categorical_accuracy: 0.0538 - factorized_top_k/top_10_categorical_accuracy: 0.0930 - factorized_top_k/top_50_categorical_accuracy: 0.2747 - factorized_top_k/top_100_categorical_accuracy: 0.4139 - root_mean_squared_error: 875.4841 - loss: 806220.2846 - regularization_loss: 19.8345 - total_loss: 806240.1226\n",
            "Epoch 114/200\n",
            "600/600 [==============================] - 125s 209ms/step - factorized_top_k/top_1_categorical_accuracy: 0.0070 - factorized_top_k/top_5_categorical_accuracy: 0.0541 - factorized_top_k/top_10_categorical_accuracy: 0.0935 - factorized_top_k/top_50_categorical_accuracy: 0.2753 - factorized_top_k/top_100_categorical_accuracy: 0.4143 - root_mean_squared_error: 875.3793 - loss: 806044.9232 - regularization_loss: 19.8543 - total_loss: 806064.7816\n",
            "Epoch 115/200\n",
            "600/600 [==============================] - 125s 209ms/step - factorized_top_k/top_1_categorical_accuracy: 0.0071 - factorized_top_k/top_5_categorical_accuracy: 0.0544 - factorized_top_k/top_10_categorical_accuracy: 0.0939 - factorized_top_k/top_50_categorical_accuracy: 0.2757 - factorized_top_k/top_100_categorical_accuracy: 0.4147 - root_mean_squared_error: 875.2609 - loss: 805813.3999 - regularization_loss: 19.8574 - total_loss: 805833.2606\n",
            "Epoch 116/200\n",
            "600/600 [==============================] - 125s 209ms/step - factorized_top_k/top_1_categorical_accuracy: 0.0071 - factorized_top_k/top_5_categorical_accuracy: 0.0547 - factorized_top_k/top_10_categorical_accuracy: 0.0942 - factorized_top_k/top_50_categorical_accuracy: 0.2762 - factorized_top_k/top_100_categorical_accuracy: 0.4153 - root_mean_squared_error: 875.1183 - loss: 805569.7542 - regularization_loss: 19.8594 - total_loss: 805589.6168\n",
            "Epoch 117/200\n",
            "600/600 [==============================] - 125s 209ms/step - factorized_top_k/top_1_categorical_accuracy: 0.0071 - factorized_top_k/top_5_categorical_accuracy: 0.0548 - factorized_top_k/top_10_categorical_accuracy: 0.0944 - factorized_top_k/top_50_categorical_accuracy: 0.2766 - factorized_top_k/top_100_categorical_accuracy: 0.4157 - root_mean_squared_error: 875.0093 - loss: 805353.5791 - regularization_loss: 19.8570 - total_loss: 805373.4389\n",
            "Epoch 118/200\n",
            "600/600 [==============================] - 126s 209ms/step - factorized_top_k/top_1_categorical_accuracy: 0.0072 - factorized_top_k/top_5_categorical_accuracy: 0.0549 - factorized_top_k/top_10_categorical_accuracy: 0.0945 - factorized_top_k/top_50_categorical_accuracy: 0.2770 - factorized_top_k/top_100_categorical_accuracy: 0.4161 - root_mean_squared_error: 874.9186 - loss: 805198.7819 - regularization_loss: 19.8680 - total_loss: 805218.6538\n",
            "Epoch 119/200\n",
            "600/600 [==============================] - 125s 209ms/step - factorized_top_k/top_1_categorical_accuracy: 0.0071 - factorized_top_k/top_5_categorical_accuracy: 0.0549 - factorized_top_k/top_10_categorical_accuracy: 0.0945 - factorized_top_k/top_50_categorical_accuracy: 0.2772 - factorized_top_k/top_100_categorical_accuracy: 0.4165 - root_mean_squared_error: 874.7933 - loss: 804957.8992 - regularization_loss: 19.8864 - total_loss: 804977.7894\n",
            "Epoch 120/200\n",
            "600/600 [==============================] - 125s 209ms/step - factorized_top_k/top_1_categorical_accuracy: 0.0072 - factorized_top_k/top_5_categorical_accuracy: 0.0550 - factorized_top_k/top_10_categorical_accuracy: 0.0947 - factorized_top_k/top_50_categorical_accuracy: 0.2775 - factorized_top_k/top_100_categorical_accuracy: 0.4168 - root_mean_squared_error: 874.6936 - loss: 804784.0021 - regularization_loss: 19.9020 - total_loss: 804803.9076\n",
            "Epoch 121/200\n",
            "600/600 [==============================] - 125s 209ms/step - factorized_top_k/top_1_categorical_accuracy: 0.0072 - factorized_top_k/top_5_categorical_accuracy: 0.0551 - factorized_top_k/top_10_categorical_accuracy: 0.0948 - factorized_top_k/top_50_categorical_accuracy: 0.2776 - factorized_top_k/top_100_categorical_accuracy: 0.4170 - root_mean_squared_error: 874.5512 - loss: 804515.4438 - regularization_loss: 19.9057 - total_loss: 804535.3526\n",
            "Epoch 122/200\n",
            "600/600 [==============================] - 125s 209ms/step - factorized_top_k/top_1_categorical_accuracy: 0.0073 - factorized_top_k/top_5_categorical_accuracy: 0.0553 - factorized_top_k/top_10_categorical_accuracy: 0.0950 - factorized_top_k/top_50_categorical_accuracy: 0.2779 - factorized_top_k/top_100_categorical_accuracy: 0.4171 - root_mean_squared_error: 874.4393 - loss: 804322.3251 - regularization_loss: 19.9169 - total_loss: 804342.2452\n",
            "Epoch 123/200\n",
            "600/600 [==============================] - 125s 209ms/step - factorized_top_k/top_1_categorical_accuracy: 0.0073 - factorized_top_k/top_5_categorical_accuracy: 0.0554 - factorized_top_k/top_10_categorical_accuracy: 0.0951 - factorized_top_k/top_50_categorical_accuracy: 0.2781 - factorized_top_k/top_100_categorical_accuracy: 0.4174 - root_mean_squared_error: 874.3159 - loss: 804093.3791 - regularization_loss: 19.9261 - total_loss: 804113.3090\n",
            "Epoch 124/200\n",
            "600/600 [==============================] - 126s 209ms/step - factorized_top_k/top_1_categorical_accuracy: 0.0074 - factorized_top_k/top_5_categorical_accuracy: 0.0555 - factorized_top_k/top_10_categorical_accuracy: 0.0952 - factorized_top_k/top_50_categorical_accuracy: 0.2784 - factorized_top_k/top_100_categorical_accuracy: 0.4176 - root_mean_squared_error: 874.2810 - loss: 804033.1998 - regularization_loss: 19.9323 - total_loss: 804053.1369\n",
            "Epoch 125/200\n",
            "600/600 [==============================] - 125s 209ms/step - factorized_top_k/top_1_categorical_accuracy: 0.0074 - factorized_top_k/top_5_categorical_accuracy: 0.0556 - factorized_top_k/top_10_categorical_accuracy: 0.0954 - factorized_top_k/top_50_categorical_accuracy: 0.2787 - factorized_top_k/top_100_categorical_accuracy: 0.4180 - root_mean_squared_error: 874.2558 - loss: 803978.7720 - regularization_loss: 19.9390 - total_loss: 803998.7169\n",
            "Epoch 126/200\n",
            "600/600 [==============================] - 125s 209ms/step - factorized_top_k/top_1_categorical_accuracy: 0.0074 - factorized_top_k/top_5_categorical_accuracy: 0.0557 - factorized_top_k/top_10_categorical_accuracy: 0.0956 - factorized_top_k/top_50_categorical_accuracy: 0.2790 - factorized_top_k/top_100_categorical_accuracy: 0.4184 - root_mean_squared_error: 874.2800 - loss: 804022.3427 - regularization_loss: 19.9455 - total_loss: 804042.2934\n",
            "Epoch 127/200\n",
            "600/600 [==============================] - 126s 210ms/step - factorized_top_k/top_1_categorical_accuracy: 0.0074 - factorized_top_k/top_5_categorical_accuracy: 0.0557 - factorized_top_k/top_10_categorical_accuracy: 0.0957 - factorized_top_k/top_50_categorical_accuracy: 0.2794 - factorized_top_k/top_100_categorical_accuracy: 0.4188 - root_mean_squared_error: 874.2162 - loss: 803904.3642 - regularization_loss: 19.9477 - total_loss: 803924.3164\n",
            "Epoch 128/200\n",
            "600/600 [==============================] - 127s 211ms/step - factorized_top_k/top_1_categorical_accuracy: 0.0075 - factorized_top_k/top_5_categorical_accuracy: 0.0559 - factorized_top_k/top_10_categorical_accuracy: 0.0960 - factorized_top_k/top_50_categorical_accuracy: 0.2799 - factorized_top_k/top_100_categorical_accuracy: 0.4195 - root_mean_squared_error: 874.1514 - loss: 803785.1172 - regularization_loss: 19.9557 - total_loss: 803805.0778\n",
            "Epoch 129/200\n",
            "600/600 [==============================] - 126s 210ms/step - factorized_top_k/top_1_categorical_accuracy: 0.0075 - factorized_top_k/top_5_categorical_accuracy: 0.0563 - factorized_top_k/top_10_categorical_accuracy: 0.0965 - factorized_top_k/top_50_categorical_accuracy: 0.2807 - factorized_top_k/top_100_categorical_accuracy: 0.4205 - root_mean_squared_error: 874.0049 - loss: 803513.2387 - regularization_loss: 19.9674 - total_loss: 803533.2119\n",
            "Epoch 130/200\n",
            "600/600 [==============================] - 126s 209ms/step - factorized_top_k/top_1_categorical_accuracy: 0.0075 - factorized_top_k/top_5_categorical_accuracy: 0.0566 - factorized_top_k/top_10_categorical_accuracy: 0.0969 - factorized_top_k/top_50_categorical_accuracy: 0.2815 - factorized_top_k/top_100_categorical_accuracy: 0.4215 - root_mean_squared_error: 873.9102 - loss: 803336.5469 - regularization_loss: 19.9708 - total_loss: 803356.5235\n",
            "Epoch 131/200\n",
            "600/600 [==============================] - 125s 209ms/step - factorized_top_k/top_1_categorical_accuracy: 0.0075 - factorized_top_k/top_5_categorical_accuracy: 0.0570 - factorized_top_k/top_10_categorical_accuracy: 0.0973 - factorized_top_k/top_50_categorical_accuracy: 0.2822 - factorized_top_k/top_100_categorical_accuracy: 0.4222 - root_mean_squared_error: 873.8005 - loss: 803133.7351 - regularization_loss: 19.9715 - total_loss: 803153.7122\n",
            "Epoch 132/200\n",
            "600/600 [==============================] - 125s 209ms/step - factorized_top_k/top_1_categorical_accuracy: 0.0076 - factorized_top_k/top_5_categorical_accuracy: 0.0572 - factorized_top_k/top_10_categorical_accuracy: 0.0976 - factorized_top_k/top_50_categorical_accuracy: 0.2826 - factorized_top_k/top_100_categorical_accuracy: 0.4226 - root_mean_squared_error: 873.7676 - loss: 803070.9473 - regularization_loss: 19.9744 - total_loss: 803090.9271\n",
            "Epoch 133/200\n",
            "600/600 [==============================] - 126s 210ms/step - factorized_top_k/top_1_categorical_accuracy: 0.0076 - factorized_top_k/top_5_categorical_accuracy: 0.0574 - factorized_top_k/top_10_categorical_accuracy: 0.0978 - factorized_top_k/top_50_categorical_accuracy: 0.2828 - factorized_top_k/top_100_categorical_accuracy: 0.4228 - root_mean_squared_error: 873.7176 - loss: 802976.6193 - regularization_loss: 19.9832 - total_loss: 802996.6071\n",
            "Epoch 134/200\n",
            "600/600 [==============================] - 126s 209ms/step - factorized_top_k/top_1_categorical_accuracy: 0.0077 - factorized_top_k/top_5_categorical_accuracy: 0.0576 - factorized_top_k/top_10_categorical_accuracy: 0.0979 - factorized_top_k/top_50_categorical_accuracy: 0.2829 - factorized_top_k/top_100_categorical_accuracy: 0.4230 - root_mean_squared_error: 873.7128 - loss: 802963.6140 - regularization_loss: 19.9888 - total_loss: 802983.6060\n",
            "Epoch 135/200\n",
            "600/600 [==============================] - 126s 210ms/step - factorized_top_k/top_1_categorical_accuracy: 0.0078 - factorized_top_k/top_5_categorical_accuracy: 0.0576 - factorized_top_k/top_10_categorical_accuracy: 0.0980 - factorized_top_k/top_50_categorical_accuracy: 0.2831 - factorized_top_k/top_100_categorical_accuracy: 0.4232 - root_mean_squared_error: 873.6617 - loss: 802866.9491 - regularization_loss: 19.9889 - total_loss: 802886.9413\n",
            "Epoch 136/200\n",
            "600/600 [==============================] - 126s 209ms/step - factorized_top_k/top_1_categorical_accuracy: 0.0078 - factorized_top_k/top_5_categorical_accuracy: 0.0577 - factorized_top_k/top_10_categorical_accuracy: 0.0981 - factorized_top_k/top_50_categorical_accuracy: 0.2834 - factorized_top_k/top_100_categorical_accuracy: 0.4234 - root_mean_squared_error: 873.6233 - loss: 802794.4288 - regularization_loss: 19.9927 - total_loss: 802814.4237\n",
            "Epoch 137/200\n",
            "600/600 [==============================] - 126s 209ms/step - factorized_top_k/top_1_categorical_accuracy: 0.0078 - factorized_top_k/top_5_categorical_accuracy: 0.0578 - factorized_top_k/top_10_categorical_accuracy: 0.0983 - factorized_top_k/top_50_categorical_accuracy: 0.2838 - factorized_top_k/top_100_categorical_accuracy: 0.4240 - root_mean_squared_error: 873.5280 - loss: 802620.2506 - regularization_loss: 20.0035 - total_loss: 802640.2522\n",
            "Epoch 138/200\n",
            "600/600 [==============================] - 126s 210ms/step - factorized_top_k/top_1_categorical_accuracy: 0.0078 - factorized_top_k/top_5_categorical_accuracy: 0.0580 - factorized_top_k/top_10_categorical_accuracy: 0.0987 - factorized_top_k/top_50_categorical_accuracy: 0.2843 - factorized_top_k/top_100_categorical_accuracy: 0.4246 - root_mean_squared_error: 873.4509 - loss: 802477.2455 - regularization_loss: 20.0238 - total_loss: 802497.2651\n",
            "Epoch 139/200\n",
            "600/600 [==============================] - 126s 209ms/step - factorized_top_k/top_1_categorical_accuracy: 0.0079 - factorized_top_k/top_5_categorical_accuracy: 0.0583 - factorized_top_k/top_10_categorical_accuracy: 0.0991 - factorized_top_k/top_50_categorical_accuracy: 0.2851 - factorized_top_k/top_100_categorical_accuracy: 0.4253 - root_mean_squared_error: 873.3468 - loss: 802285.0151 - regularization_loss: 20.0377 - total_loss: 802305.0487\n",
            "Epoch 140/200\n",
            "600/600 [==============================] - 126s 210ms/step - factorized_top_k/top_1_categorical_accuracy: 0.0079 - factorized_top_k/top_5_categorical_accuracy: 0.0586 - factorized_top_k/top_10_categorical_accuracy: 0.0995 - factorized_top_k/top_50_categorical_accuracy: 0.2857 - factorized_top_k/top_100_categorical_accuracy: 0.4260 - root_mean_squared_error: 873.2839 - loss: 802165.4934 - regularization_loss: 20.0440 - total_loss: 802185.5315\n",
            "Epoch 141/200\n",
            "600/600 [==============================] - 126s 209ms/step - factorized_top_k/top_1_categorical_accuracy: 0.0079 - factorized_top_k/top_5_categorical_accuracy: 0.0589 - factorized_top_k/top_10_categorical_accuracy: 0.1000 - factorized_top_k/top_50_categorical_accuracy: 0.2864 - factorized_top_k/top_100_categorical_accuracy: 0.4268 - root_mean_squared_error: 873.2183 - loss: 802040.5499 - regularization_loss: 20.0456 - total_loss: 802060.5900\n",
            "Epoch 142/200\n",
            "600/600 [==============================] - 126s 210ms/step - factorized_top_k/top_1_categorical_accuracy: 0.0080 - factorized_top_k/top_5_categorical_accuracy: 0.0592 - factorized_top_k/top_10_categorical_accuracy: 0.1004 - factorized_top_k/top_50_categorical_accuracy: 0.2870 - factorized_top_k/top_100_categorical_accuracy: 0.4275 - root_mean_squared_error: 873.1938 - loss: 801989.8020 - regularization_loss: 20.0479 - total_loss: 802009.8453\n",
            "Epoch 143/200\n",
            "600/600 [==============================] - 126s 210ms/step - factorized_top_k/top_1_categorical_accuracy: 0.0080 - factorized_top_k/top_5_categorical_accuracy: 0.0594 - factorized_top_k/top_10_categorical_accuracy: 0.1006 - factorized_top_k/top_50_categorical_accuracy: 0.2876 - factorized_top_k/top_100_categorical_accuracy: 0.4281 - root_mean_squared_error: 873.1626 - loss: 801927.0862 - regularization_loss: 20.0517 - total_loss: 801947.1341\n",
            "Epoch 144/200\n",
            "600/600 [==============================] - 127s 211ms/step - factorized_top_k/top_1_categorical_accuracy: 0.0081 - factorized_top_k/top_5_categorical_accuracy: 0.0597 - factorized_top_k/top_10_categorical_accuracy: 0.1009 - factorized_top_k/top_50_categorical_accuracy: 0.2881 - factorized_top_k/top_100_categorical_accuracy: 0.4288 - root_mean_squared_error: 873.1489 - loss: 801895.6639 - regularization_loss: 20.0583 - total_loss: 801915.7181\n",
            "Epoch 145/200\n",
            "600/600 [==============================] - 127s 211ms/step - factorized_top_k/top_1_categorical_accuracy: 0.0081 - factorized_top_k/top_5_categorical_accuracy: 0.0599 - factorized_top_k/top_10_categorical_accuracy: 0.1012 - factorized_top_k/top_50_categorical_accuracy: 0.2886 - factorized_top_k/top_100_categorical_accuracy: 0.4294 - root_mean_squared_error: 873.1059 - loss: 801812.9746 - regularization_loss: 20.0630 - total_loss: 801833.0343\n",
            "Epoch 146/200\n",
            "600/600 [==============================] - 127s 211ms/step - factorized_top_k/top_1_categorical_accuracy: 0.0081 - factorized_top_k/top_5_categorical_accuracy: 0.0600 - factorized_top_k/top_10_categorical_accuracy: 0.1014 - factorized_top_k/top_50_categorical_accuracy: 0.2890 - factorized_top_k/top_100_categorical_accuracy: 0.4300 - root_mean_squared_error: 873.0590 - loss: 801722.6495 - regularization_loss: 20.0677 - total_loss: 801742.7136\n",
            "Epoch 147/200\n",
            "600/600 [==============================] - 127s 211ms/step - factorized_top_k/top_1_categorical_accuracy: 0.0081 - factorized_top_k/top_5_categorical_accuracy: 0.0602 - factorized_top_k/top_10_categorical_accuracy: 0.1016 - factorized_top_k/top_50_categorical_accuracy: 0.2894 - factorized_top_k/top_100_categorical_accuracy: 0.4304 - root_mean_squared_error: 872.9899 - loss: 801592.9397 - regularization_loss: 20.0743 - total_loss: 801613.0102\n",
            "Epoch 148/200\n",
            "600/600 [==============================] - 127s 211ms/step - factorized_top_k/top_1_categorical_accuracy: 0.0081 - factorized_top_k/top_5_categorical_accuracy: 0.0604 - factorized_top_k/top_10_categorical_accuracy: 0.1018 - factorized_top_k/top_50_categorical_accuracy: 0.2897 - factorized_top_k/top_100_categorical_accuracy: 0.4309 - root_mean_squared_error: 872.9390 - loss: 801494.0473 - regularization_loss: 20.0802 - total_loss: 801514.1235\n",
            "Epoch 149/200\n",
            "600/600 [==============================] - 127s 211ms/step - factorized_top_k/top_1_categorical_accuracy: 0.0082 - factorized_top_k/top_5_categorical_accuracy: 0.0606 - factorized_top_k/top_10_categorical_accuracy: 0.1020 - factorized_top_k/top_50_categorical_accuracy: 0.2901 - factorized_top_k/top_100_categorical_accuracy: 0.4312 - root_mean_squared_error: 872.8905 - loss: 801400.2007 - regularization_loss: 20.0887 - total_loss: 801420.2852\n",
            "Epoch 150/200\n",
            "600/600 [==============================] - 126s 210ms/step - factorized_top_k/top_1_categorical_accuracy: 0.0082 - factorized_top_k/top_5_categorical_accuracy: 0.0607 - factorized_top_k/top_10_categorical_accuracy: 0.1023 - factorized_top_k/top_50_categorical_accuracy: 0.2904 - factorized_top_k/top_100_categorical_accuracy: 0.4315 - root_mean_squared_error: 872.8589 - loss: 801336.4114 - regularization_loss: 20.0949 - total_loss: 801356.5033\n",
            "Epoch 151/200\n",
            "600/600 [==============================] - 126s 210ms/step - factorized_top_k/top_1_categorical_accuracy: 0.0083 - factorized_top_k/top_5_categorical_accuracy: 0.0609 - factorized_top_k/top_10_categorical_accuracy: 0.1025 - factorized_top_k/top_50_categorical_accuracy: 0.2908 - factorized_top_k/top_100_categorical_accuracy: 0.4319 - root_mean_squared_error: 872.8162 - loss: 801250.8644 - regularization_loss: 20.1003 - total_loss: 801270.9611\n",
            "Epoch 152/200\n",
            "600/600 [==============================] - 126s 210ms/step - factorized_top_k/top_1_categorical_accuracy: 0.0083 - factorized_top_k/top_5_categorical_accuracy: 0.0611 - factorized_top_k/top_10_categorical_accuracy: 0.1028 - factorized_top_k/top_50_categorical_accuracy: 0.2912 - factorized_top_k/top_100_categorical_accuracy: 0.4324 - root_mean_squared_error: 872.7728 - loss: 801164.1931 - regularization_loss: 20.1033 - total_loss: 801184.2935\n",
            "Epoch 153/200\n",
            "600/600 [==============================] - 126s 210ms/step - factorized_top_k/top_1_categorical_accuracy: 0.0083 - factorized_top_k/top_5_categorical_accuracy: 0.0614 - factorized_top_k/top_10_categorical_accuracy: 0.1032 - factorized_top_k/top_50_categorical_accuracy: 0.2919 - factorized_top_k/top_100_categorical_accuracy: 0.4331 - root_mean_squared_error: 872.7148 - loss: 801051.5621 - regularization_loss: 20.1061 - total_loss: 801071.6646\n",
            "Epoch 154/200\n",
            "600/600 [==============================] - 126s 210ms/step - factorized_top_k/top_1_categorical_accuracy: 0.0084 - factorized_top_k/top_5_categorical_accuracy: 0.0617 - factorized_top_k/top_10_categorical_accuracy: 0.1035 - factorized_top_k/top_50_categorical_accuracy: 0.2925 - factorized_top_k/top_100_categorical_accuracy: 0.4339 - root_mean_squared_error: 872.6617 - loss: 800948.4119 - regularization_loss: 20.1096 - total_loss: 800968.5194\n",
            "Epoch 155/200\n",
            "600/600 [==============================] - 126s 209ms/step - factorized_top_k/top_1_categorical_accuracy: 0.0084 - factorized_top_k/top_5_categorical_accuracy: 0.0620 - factorized_top_k/top_10_categorical_accuracy: 0.1040 - factorized_top_k/top_50_categorical_accuracy: 0.2931 - factorized_top_k/top_100_categorical_accuracy: 0.4346 - root_mean_squared_error: 872.6041 - loss: 800836.7694 - regularization_loss: 20.1112 - total_loss: 800856.8777\n",
            "Epoch 156/200\n",
            "600/600 [==============================] - 126s 210ms/step - factorized_top_k/top_1_categorical_accuracy: 0.0085 - factorized_top_k/top_5_categorical_accuracy: 0.0622 - factorized_top_k/top_10_categorical_accuracy: 0.1043 - factorized_top_k/top_50_categorical_accuracy: 0.2938 - factorized_top_k/top_100_categorical_accuracy: 0.4353 - root_mean_squared_error: 872.5538 - loss: 800740.0186 - regularization_loss: 20.1149 - total_loss: 800760.1300\n",
            "Epoch 157/200\n",
            "600/600 [==============================] - 126s 210ms/step - factorized_top_k/top_1_categorical_accuracy: 0.0085 - factorized_top_k/top_5_categorical_accuracy: 0.0625 - factorized_top_k/top_10_categorical_accuracy: 0.1046 - factorized_top_k/top_50_categorical_accuracy: 0.2944 - factorized_top_k/top_100_categorical_accuracy: 0.4360 - root_mean_squared_error: 872.5023 - loss: 800639.0877 - regularization_loss: 20.1213 - total_loss: 800659.2062\n",
            "Epoch 158/200\n",
            "600/600 [==============================] - 126s 210ms/step - factorized_top_k/top_1_categorical_accuracy: 0.0085 - factorized_top_k/top_5_categorical_accuracy: 0.0627 - factorized_top_k/top_10_categorical_accuracy: 0.1049 - factorized_top_k/top_50_categorical_accuracy: 0.2949 - factorized_top_k/top_100_categorical_accuracy: 0.4367 - root_mean_squared_error: 872.4613 - loss: 800558.4607 - regularization_loss: 20.1272 - total_loss: 800578.5852\n",
            "Epoch 159/200\n",
            "600/600 [==============================] - 126s 210ms/step - factorized_top_k/top_1_categorical_accuracy: 0.0086 - factorized_top_k/top_5_categorical_accuracy: 0.0629 - factorized_top_k/top_10_categorical_accuracy: 0.1051 - factorized_top_k/top_50_categorical_accuracy: 0.2953 - factorized_top_k/top_100_categorical_accuracy: 0.4372 - root_mean_squared_error: 872.4250 - loss: 800485.6570 - regularization_loss: 20.1313 - total_loss: 800505.7856\n",
            "Epoch 160/200\n",
            "600/600 [==============================] - 126s 209ms/step - factorized_top_k/top_1_categorical_accuracy: 0.0086 - factorized_top_k/top_5_categorical_accuracy: 0.0631 - factorized_top_k/top_10_categorical_accuracy: 0.1054 - factorized_top_k/top_50_categorical_accuracy: 0.2957 - factorized_top_k/top_100_categorical_accuracy: 0.4376 - root_mean_squared_error: 872.4028 - loss: 800436.8754 - regularization_loss: 20.1323 - total_loss: 800457.0045\n",
            "Epoch 161/200\n",
            "600/600 [==============================] - 126s 209ms/step - factorized_top_k/top_1_categorical_accuracy: 0.0086 - factorized_top_k/top_5_categorical_accuracy: 0.0633 - factorized_top_k/top_10_categorical_accuracy: 0.1057 - factorized_top_k/top_50_categorical_accuracy: 0.2960 - factorized_top_k/top_100_categorical_accuracy: 0.4379 - root_mean_squared_error: 872.3806 - loss: 800389.3530 - regularization_loss: 20.1330 - total_loss: 800409.4835\n",
            "Epoch 162/200\n",
            "600/600 [==============================] - 126s 209ms/step - factorized_top_k/top_1_categorical_accuracy: 0.0087 - factorized_top_k/top_5_categorical_accuracy: 0.0635 - factorized_top_k/top_10_categorical_accuracy: 0.1059 - factorized_top_k/top_50_categorical_accuracy: 0.2962 - factorized_top_k/top_100_categorical_accuracy: 0.4381 - root_mean_squared_error: 872.3593 - loss: 800344.3392 - regularization_loss: 20.1387 - total_loss: 800364.4734\n",
            "Epoch 163/200\n",
            "600/600 [==============================] - 126s 210ms/step - factorized_top_k/top_1_categorical_accuracy: 0.0087 - factorized_top_k/top_5_categorical_accuracy: 0.0637 - factorized_top_k/top_10_categorical_accuracy: 0.1061 - factorized_top_k/top_50_categorical_accuracy: 0.2965 - factorized_top_k/top_100_categorical_accuracy: 0.4384 - root_mean_squared_error: 872.3264 - loss: 800278.1236 - regularization_loss: 20.1452 - total_loss: 800298.2652\n",
            "Epoch 164/200\n",
            "600/600 [==============================] - 126s 210ms/step - factorized_top_k/top_1_categorical_accuracy: 0.0088 - factorized_top_k/top_5_categorical_accuracy: 0.0639 - factorized_top_k/top_10_categorical_accuracy: 0.1064 - factorized_top_k/top_50_categorical_accuracy: 0.2969 - factorized_top_k/top_100_categorical_accuracy: 0.4387 - root_mean_squared_error: 872.2862 - loss: 800200.6485 - regularization_loss: 20.1509 - total_loss: 800220.7962\n",
            "Epoch 165/200\n",
            "600/600 [==============================] - 125s 209ms/step - factorized_top_k/top_1_categorical_accuracy: 0.0088 - factorized_top_k/top_5_categorical_accuracy: 0.0641 - factorized_top_k/top_10_categorical_accuracy: 0.1065 - factorized_top_k/top_50_categorical_accuracy: 0.2972 - factorized_top_k/top_100_categorical_accuracy: 0.4392 - root_mean_squared_error: 872.2354 - loss: 800104.4493 - regularization_loss: 20.1536 - total_loss: 800124.5994\n",
            "Epoch 166/200\n",
            "600/600 [==============================] - 126s 209ms/step - factorized_top_k/top_1_categorical_accuracy: 0.0088 - factorized_top_k/top_5_categorical_accuracy: 0.0643 - factorized_top_k/top_10_categorical_accuracy: 0.1068 - factorized_top_k/top_50_categorical_accuracy: 0.2976 - factorized_top_k/top_100_categorical_accuracy: 0.4396 - root_mean_squared_error: 872.1830 - loss: 800005.8435 - regularization_loss: 20.1563 - total_loss: 800025.9963\n",
            "Epoch 167/200\n",
            "600/600 [==============================] - 126s 210ms/step - factorized_top_k/top_1_categorical_accuracy: 0.0088 - factorized_top_k/top_5_categorical_accuracy: 0.0644 - factorized_top_k/top_10_categorical_accuracy: 0.1069 - factorized_top_k/top_50_categorical_accuracy: 0.2980 - factorized_top_k/top_100_categorical_accuracy: 0.4401 - root_mean_squared_error: 872.1251 - loss: 799899.2100 - regularization_loss: 20.1616 - total_loss: 799919.3689\n",
            "Epoch 168/200\n",
            "600/600 [==============================] - 126s 209ms/step - factorized_top_k/top_1_categorical_accuracy: 0.0088 - factorized_top_k/top_5_categorical_accuracy: 0.0645 - factorized_top_k/top_10_categorical_accuracy: 0.1071 - factorized_top_k/top_50_categorical_accuracy: 0.2984 - factorized_top_k/top_100_categorical_accuracy: 0.4406 - root_mean_squared_error: 872.0725 - loss: 799800.7297 - regularization_loss: 20.1695 - total_loss: 799820.8955\n",
            "Epoch 169/200\n",
            "600/600 [==============================] - 126s 209ms/step - factorized_top_k/top_1_categorical_accuracy: 0.0088 - factorized_top_k/top_5_categorical_accuracy: 0.0647 - factorized_top_k/top_10_categorical_accuracy: 0.1073 - factorized_top_k/top_50_categorical_accuracy: 0.2987 - factorized_top_k/top_100_categorical_accuracy: 0.4410 - root_mean_squared_error: 872.0233 - loss: 799708.5883 - regularization_loss: 20.1777 - total_loss: 799728.7638\n",
            "Epoch 170/200\n",
            "600/600 [==============================] - 126s 209ms/step - factorized_top_k/top_1_categorical_accuracy: 0.0088 - factorized_top_k/top_5_categorical_accuracy: 0.0648 - factorized_top_k/top_10_categorical_accuracy: 0.1074 - factorized_top_k/top_50_categorical_accuracy: 0.2990 - factorized_top_k/top_100_categorical_accuracy: 0.4414 - root_mean_squared_error: 871.9869 - loss: 799639.5027 - regularization_loss: 20.1832 - total_loss: 799659.6850\n",
            "Epoch 171/200\n",
            "600/600 [==============================] - 126s 210ms/step - factorized_top_k/top_1_categorical_accuracy: 0.0088 - factorized_top_k/top_5_categorical_accuracy: 0.0649 - factorized_top_k/top_10_categorical_accuracy: 0.1075 - factorized_top_k/top_50_categorical_accuracy: 0.2993 - factorized_top_k/top_100_categorical_accuracy: 0.4417 - root_mean_squared_error: 871.9594 - loss: 799585.3365 - regularization_loss: 20.1856 - total_loss: 799605.5206\n",
            "Epoch 172/200\n",
            "600/600 [==============================] - 126s 210ms/step - factorized_top_k/top_1_categorical_accuracy: 0.0088 - factorized_top_k/top_5_categorical_accuracy: 0.0650 - factorized_top_k/top_10_categorical_accuracy: 0.1076 - factorized_top_k/top_50_categorical_accuracy: 0.2995 - factorized_top_k/top_100_categorical_accuracy: 0.4420 - root_mean_squared_error: 871.9424 - loss: 799548.9471 - regularization_loss: 20.1875 - total_loss: 799569.1332\n",
            "Epoch 173/200\n",
            "600/600 [==============================] - 126s 210ms/step - factorized_top_k/top_1_categorical_accuracy: 0.0088 - factorized_top_k/top_5_categorical_accuracy: 0.0651 - factorized_top_k/top_10_categorical_accuracy: 0.1077 - factorized_top_k/top_50_categorical_accuracy: 0.2997 - factorized_top_k/top_100_categorical_accuracy: 0.4423 - root_mean_squared_error: 871.9240 - loss: 799509.7996 - regularization_loss: 20.1886 - total_loss: 799529.9874\n",
            "Epoch 174/200\n",
            "600/600 [==============================] - 126s 210ms/step - factorized_top_k/top_1_categorical_accuracy: 0.0089 - factorized_top_k/top_5_categorical_accuracy: 0.0652 - factorized_top_k/top_10_categorical_accuracy: 0.1079 - factorized_top_k/top_50_categorical_accuracy: 0.3000 - factorized_top_k/top_100_categorical_accuracy: 0.4426 - root_mean_squared_error: 871.9019 - loss: 799464.0530 - regularization_loss: 20.1941 - total_loss: 799484.2455\n",
            "Epoch 175/200\n",
            "600/600 [==============================] - 126s 210ms/step - factorized_top_k/top_1_categorical_accuracy: 0.0090 - factorized_top_k/top_5_categorical_accuracy: 0.0654 - factorized_top_k/top_10_categorical_accuracy: 0.1081 - factorized_top_k/top_50_categorical_accuracy: 0.3004 - factorized_top_k/top_100_categorical_accuracy: 0.4429 - root_mean_squared_error: 871.8669 - loss: 799395.8522 - regularization_loss: 20.1990 - total_loss: 799416.0484\n",
            "Epoch 176/200\n",
            "600/600 [==============================] - 126s 210ms/step - factorized_top_k/top_1_categorical_accuracy: 0.0090 - factorized_top_k/top_5_categorical_accuracy: 0.0656 - factorized_top_k/top_10_categorical_accuracy: 0.1084 - factorized_top_k/top_50_categorical_accuracy: 0.3009 - factorized_top_k/top_100_categorical_accuracy: 0.4433 - root_mean_squared_error: 871.8248 - loss: 799314.3462 - regularization_loss: 20.2022 - total_loss: 799334.5458\n",
            "Epoch 177/200\n",
            "600/600 [==============================] - 126s 210ms/step - factorized_top_k/top_1_categorical_accuracy: 0.0091 - factorized_top_k/top_5_categorical_accuracy: 0.0658 - factorized_top_k/top_10_categorical_accuracy: 0.1088 - factorized_top_k/top_50_categorical_accuracy: 0.3015 - factorized_top_k/top_100_categorical_accuracy: 0.4439 - root_mean_squared_error: 871.7745 - loss: 799219.4487 - regularization_loss: 20.2045 - total_loss: 799239.6504\n",
            "Epoch 178/200\n",
            "600/600 [==============================] - 126s 210ms/step - factorized_top_k/top_1_categorical_accuracy: 0.0091 - factorized_top_k/top_5_categorical_accuracy: 0.0660 - factorized_top_k/top_10_categorical_accuracy: 0.1091 - factorized_top_k/top_50_categorical_accuracy: 0.3019 - factorized_top_k/top_100_categorical_accuracy: 0.4445 - root_mean_squared_error: 871.7261 - loss: 799128.0139 - regularization_loss: 20.2095 - total_loss: 799148.2220\n",
            "Epoch 179/200\n",
            "600/600 [==============================] - 126s 210ms/step - factorized_top_k/top_1_categorical_accuracy: 0.0091 - factorized_top_k/top_5_categorical_accuracy: 0.0662 - factorized_top_k/top_10_categorical_accuracy: 0.1094 - factorized_top_k/top_50_categorical_accuracy: 0.3024 - factorized_top_k/top_100_categorical_accuracy: 0.4450 - root_mean_squared_error: 871.6764 - loss: 799035.2042 - regularization_loss: 20.2145 - total_loss: 799055.4172\n",
            "Epoch 180/200\n",
            "600/600 [==============================] - 126s 210ms/step - factorized_top_k/top_1_categorical_accuracy: 0.0092 - factorized_top_k/top_5_categorical_accuracy: 0.0664 - factorized_top_k/top_10_categorical_accuracy: 0.1097 - factorized_top_k/top_50_categorical_accuracy: 0.3029 - factorized_top_k/top_100_categorical_accuracy: 0.4456 - root_mean_squared_error: 871.6291 - loss: 798946.8095 - regularization_loss: 20.2199 - total_loss: 798967.0284\n",
            "Epoch 181/200\n",
            "600/600 [==============================] - 126s 210ms/step - factorized_top_k/top_1_categorical_accuracy: 0.0092 - factorized_top_k/top_5_categorical_accuracy: 0.0666 - factorized_top_k/top_10_categorical_accuracy: 0.1100 - factorized_top_k/top_50_categorical_accuracy: 0.3034 - factorized_top_k/top_100_categorical_accuracy: 0.4461 - root_mean_squared_error: 871.5786 - loss: 798851.9369 - regularization_loss: 20.2259 - total_loss: 798872.1616\n",
            "Epoch 182/200\n",
            "600/600 [==============================] - 126s 210ms/step - factorized_top_k/top_1_categorical_accuracy: 0.0092 - factorized_top_k/top_5_categorical_accuracy: 0.0668 - factorized_top_k/top_10_categorical_accuracy: 0.1102 - factorized_top_k/top_50_categorical_accuracy: 0.3037 - factorized_top_k/top_100_categorical_accuracy: 0.4466 - root_mean_squared_error: 871.5291 - loss: 798760.1004 - regularization_loss: 20.2322 - total_loss: 798780.3299\n",
            "Epoch 183/200\n",
            "600/600 [==============================] - 126s 210ms/step - factorized_top_k/top_1_categorical_accuracy: 0.0092 - factorized_top_k/top_5_categorical_accuracy: 0.0669 - factorized_top_k/top_10_categorical_accuracy: 0.1103 - factorized_top_k/top_50_categorical_accuracy: 0.3041 - factorized_top_k/top_100_categorical_accuracy: 0.4470 - root_mean_squared_error: 871.4811 - loss: 798669.1232 - regularization_loss: 20.2344 - total_loss: 798689.3559\n",
            "Epoch 184/200\n",
            "600/600 [==============================] - 126s 210ms/step - factorized_top_k/top_1_categorical_accuracy: 0.0093 - factorized_top_k/top_5_categorical_accuracy: 0.0671 - factorized_top_k/top_10_categorical_accuracy: 0.1106 - factorized_top_k/top_50_categorical_accuracy: 0.3044 - factorized_top_k/top_100_categorical_accuracy: 0.4474 - root_mean_squared_error: 871.4436 - loss: 798596.4517 - regularization_loss: 20.2347 - total_loss: 798616.6851\n",
            "Epoch 185/200\n",
            "600/600 [==============================] - 126s 210ms/step - factorized_top_k/top_1_categorical_accuracy: 0.0093 - factorized_top_k/top_5_categorical_accuracy: 0.0672 - factorized_top_k/top_10_categorical_accuracy: 0.1108 - factorized_top_k/top_50_categorical_accuracy: 0.3048 - factorized_top_k/top_100_categorical_accuracy: 0.4477 - root_mean_squared_error: 871.4160 - loss: 798541.1850 - regularization_loss: 20.2372 - total_loss: 798561.4205\n",
            "Epoch 186/200\n",
            "600/600 [==============================] - 126s 210ms/step - factorized_top_k/top_1_categorical_accuracy: 0.0094 - factorized_top_k/top_5_categorical_accuracy: 0.0674 - factorized_top_k/top_10_categorical_accuracy: 0.1110 - factorized_top_k/top_50_categorical_accuracy: 0.3052 - factorized_top_k/top_100_categorical_accuracy: 0.4481 - root_mean_squared_error: 871.4034 - loss: 798512.2921 - regularization_loss: 20.2404 - total_loss: 798532.5300\n",
            "Epoch 187/200\n",
            "600/600 [==============================] - 126s 210ms/step - factorized_top_k/top_1_categorical_accuracy: 0.0094 - factorized_top_k/top_5_categorical_accuracy: 0.0676 - factorized_top_k/top_10_categorical_accuracy: 0.1112 - factorized_top_k/top_50_categorical_accuracy: 0.3056 - factorized_top_k/top_100_categorical_accuracy: 0.4485 - root_mean_squared_error: 871.3985 - loss: 798496.4808 - regularization_loss: 20.2455 - total_loss: 798516.7218\n",
            "Epoch 188/200\n",
            "600/600 [==============================] - 126s 210ms/step - factorized_top_k/top_1_categorical_accuracy: 0.0095 - factorized_top_k/top_5_categorical_accuracy: 0.0678 - factorized_top_k/top_10_categorical_accuracy: 0.1115 - factorized_top_k/top_50_categorical_accuracy: 0.3060 - factorized_top_k/top_100_categorical_accuracy: 0.4490 - root_mean_squared_error: 871.3991 - loss: 798489.6574 - regularization_loss: 20.2508 - total_loss: 798509.9037\n",
            "Epoch 189/200\n",
            "600/600 [==============================] - 126s 210ms/step - factorized_top_k/top_1_categorical_accuracy: 0.0096 - factorized_top_k/top_5_categorical_accuracy: 0.0680 - factorized_top_k/top_10_categorical_accuracy: 0.1118 - factorized_top_k/top_50_categorical_accuracy: 0.3064 - factorized_top_k/top_100_categorical_accuracy: 0.4495 - root_mean_squared_error: 871.3909 - loss: 798469.4749 - regularization_loss: 20.2542 - total_loss: 798489.7239\n",
            "Epoch 190/200\n",
            "600/600 [==============================] - 126s 209ms/step - factorized_top_k/top_1_categorical_accuracy: 0.0096 - factorized_top_k/top_5_categorical_accuracy: 0.0682 - factorized_top_k/top_10_categorical_accuracy: 0.1121 - factorized_top_k/top_50_categorical_accuracy: 0.3070 - factorized_top_k/top_100_categorical_accuracy: 0.4500 - root_mean_squared_error: 871.3710 - loss: 798429.1109 - regularization_loss: 20.2584 - total_loss: 798449.3638\n",
            "Epoch 191/200\n",
            "600/600 [==============================] - 126s 210ms/step - factorized_top_k/top_1_categorical_accuracy: 0.0096 - factorized_top_k/top_5_categorical_accuracy: 0.0684 - factorized_top_k/top_10_categorical_accuracy: 0.1124 - factorized_top_k/top_50_categorical_accuracy: 0.3075 - factorized_top_k/top_100_categorical_accuracy: 0.4507 - root_mean_squared_error: 871.3311 - loss: 798354.9284 - regularization_loss: 20.2596 - total_loss: 798375.1830\n",
            "Epoch 192/200\n",
            "600/600 [==============================] - 126s 210ms/step - factorized_top_k/top_1_categorical_accuracy: 0.0097 - factorized_top_k/top_5_categorical_accuracy: 0.0687 - factorized_top_k/top_10_categorical_accuracy: 0.1127 - factorized_top_k/top_50_categorical_accuracy: 0.3080 - factorized_top_k/top_100_categorical_accuracy: 0.4513 - root_mean_squared_error: 871.2767 - loss: 798256.6619 - regularization_loss: 20.2597 - total_loss: 798276.9180\n",
            "Epoch 193/200\n",
            "600/600 [==============================] - 125s 209ms/step - factorized_top_k/top_1_categorical_accuracy: 0.0097 - factorized_top_k/top_5_categorical_accuracy: 0.0689 - factorized_top_k/top_10_categorical_accuracy: 0.1130 - factorized_top_k/top_50_categorical_accuracy: 0.3084 - factorized_top_k/top_100_categorical_accuracy: 0.4518 - root_mean_squared_error: 871.2088 - loss: 798135.5211 - regularization_loss: 20.2626 - total_loss: 798155.7807\n",
            "Epoch 194/200\n",
            "600/600 [==============================] - 126s 210ms/step - factorized_top_k/top_1_categorical_accuracy: 0.0098 - factorized_top_k/top_5_categorical_accuracy: 0.0691 - factorized_top_k/top_10_categorical_accuracy: 0.1132 - factorized_top_k/top_50_categorical_accuracy: 0.3088 - factorized_top_k/top_100_categorical_accuracy: 0.4522 - root_mean_squared_error: 871.1388 - loss: 798010.3297 - regularization_loss: 20.2664 - total_loss: 798030.5920\n",
            "Epoch 195/200\n",
            "600/600 [==============================] - 126s 209ms/step - factorized_top_k/top_1_categorical_accuracy: 0.0099 - factorized_top_k/top_5_categorical_accuracy: 0.0692 - factorized_top_k/top_10_categorical_accuracy: 0.1134 - factorized_top_k/top_50_categorical_accuracy: 0.3091 - factorized_top_k/top_100_categorical_accuracy: 0.4525 - root_mean_squared_error: 871.0677 - loss: 797882.4526 - regularization_loss: 20.2723 - total_loss: 797902.7224\n",
            "Epoch 196/200\n",
            "600/600 [==============================] - 126s 210ms/step - factorized_top_k/top_1_categorical_accuracy: 0.0099 - factorized_top_k/top_5_categorical_accuracy: 0.0694 - factorized_top_k/top_10_categorical_accuracy: 0.1136 - factorized_top_k/top_50_categorical_accuracy: 0.3093 - factorized_top_k/top_100_categorical_accuracy: 0.4528 - root_mean_squared_error: 871.0040 - loss: 797767.2455 - regularization_loss: 20.2792 - total_loss: 797787.5229\n",
            "Epoch 197/200\n",
            "600/600 [==============================] - 126s 210ms/step - factorized_top_k/top_1_categorical_accuracy: 0.0099 - factorized_top_k/top_5_categorical_accuracy: 0.0695 - factorized_top_k/top_10_categorical_accuracy: 0.1137 - factorized_top_k/top_50_categorical_accuracy: 0.3095 - factorized_top_k/top_100_categorical_accuracy: 0.4530 - root_mean_squared_error: 870.9451 - loss: 797659.9945 - regularization_loss: 20.2857 - total_loss: 797680.2776\n",
            "Epoch 198/200\n",
            "600/600 [==============================] - 126s 210ms/step - factorized_top_k/top_1_categorical_accuracy: 0.0099 - factorized_top_k/top_5_categorical_accuracy: 0.0695 - factorized_top_k/top_10_categorical_accuracy: 0.1138 - factorized_top_k/top_50_categorical_accuracy: 0.3096 - factorized_top_k/top_100_categorical_accuracy: 0.4532 - root_mean_squared_error: 870.8987 - loss: 797573.9848 - regularization_loss: 20.2933 - total_loss: 797594.2756\n",
            "Epoch 199/200\n",
            "600/600 [==============================] - 126s 210ms/step - factorized_top_k/top_1_categorical_accuracy: 0.0100 - factorized_top_k/top_5_categorical_accuracy: 0.0697 - factorized_top_k/top_10_categorical_accuracy: 0.1140 - factorized_top_k/top_50_categorical_accuracy: 0.3098 - factorized_top_k/top_100_categorical_accuracy: 0.4535 - root_mean_squared_error: 870.8597 - loss: 797500.8448 - regularization_loss: 20.3008 - total_loss: 797521.1434\n",
            "Epoch 200/200\n",
            "600/600 [==============================] - 126s 210ms/step - factorized_top_k/top_1_categorical_accuracy: 0.0100 - factorized_top_k/top_5_categorical_accuracy: 0.0698 - factorized_top_k/top_10_categorical_accuracy: 0.1141 - factorized_top_k/top_50_categorical_accuracy: 0.3101 - factorized_top_k/top_100_categorical_accuracy: 0.4538 - root_mean_squared_error: 870.8356 - loss: 797451.4822 - regularization_loss: 20.3056 - total_loss: 797471.7864\n"
          ]
        },
        {
          "output_type": "stream",
          "name": "stderr",
          "text": [
            "WARNING:tensorflow:Layers in a Sequential model should only have a single input tensor. Received: inputs={'customer_id': <tf.Tensor 'IteratorGetNext:1' shape=(None,) dtype=string>, 'city': <tf.Tensor 'IteratorGetNext:0' shape=(None,) dtype=string>, 'revenue': <tf.Tensor 'IteratorGetNext:4' shape=(None,) dtype=int64>}. Consider rewriting this model with the Functional API.\n",
            "WARNING:tensorflow:Layers in a Sequential model should only have a single input tensor. Received: inputs={'product_id': <tf.Tensor 'IteratorGetNext:2' shape=(None,) dtype=string>}. Consider rewriting this model with the Functional API.\n"
          ]
        },
        {
          "output_type": "stream",
          "name": "stdout",
          "text": [
            "162/162 [==============================] - 60s 115ms/step - factorized_top_k/top_1_categorical_accuracy: 5.8376e-04 - factorized_top_k/top_5_categorical_accuracy: 0.0049 - factorized_top_k/top_10_categorical_accuracy: 0.0111 - factorized_top_k/top_50_categorical_accuracy: 0.0577 - factorized_top_k/top_100_categorical_accuracy: 0.1132 - root_mean_squared_error: 2036.4868 - loss: 4166193.6522 - regularization_loss: 20.3184 - total_loss: 4166214.0284\n"
          ]
        },
        {
          "output_type": "stream",
          "name": "stderr",
          "text": [
            "WARNING:tensorflow:AutoGraph could not transform <function <lambda> at 0x7baace170940> and will run it as-is.\n",
            "Cause: could not parse the source code of <function <lambda> at 0x7baace170940>: no matching AST found among candidates:\n",
            "\n",
            "To silence this warning, decorate the function with @tf.autograph.experimental.do_not_convert\n"
          ]
        },
        {
          "output_type": "stream",
          "name": "stdout",
          "text": [
            "WARNING: AutoGraph could not transform <function <lambda> at 0x7baace170940> and will run it as-is.\n",
            "Cause: could not parse the source code of <function <lambda> at 0x7baace170940>: no matching AST found among candidates:\n",
            "\n",
            "To silence this warning, decorate the function with @tf.autograph.experimental.do_not_convert\n"
          ]
        },
        {
          "output_type": "stream",
          "name": "stderr",
          "text": [
            "WARNING:tensorflow:Layers in a Sequential model should only have a single input tensor. Received: inputs={'product_id': <tf.Tensor 'args_0:0' shape=(None,) dtype=string>}. Consider rewriting this model with the Functional API.\n",
            "WARNING:tensorflow:Layers in a Sequential model should only have a single input tensor. Received: inputs={'customer_id': <tf.Tensor: shape=(1,), dtype=string, numpy=array([b'370059784501'], dtype=object)>, 'city': <tf.Tensor: shape=(1,), dtype=string, numpy=array([b'KYIV'], dtype=object)>, 'revenue': <tf.Tensor: shape=(1,), dtype=int64, numpy=array([36910])>}. Consider rewriting this model with the Functional API.\n"
          ]
        },
        {
          "output_type": "stream",
          "name": "stdout",
          "text": [
            "[[[b'166881001001' 5.548588275909424]\n",
            "  [b'348354001001' 5.4156670570373535]\n",
            "  [b'183308001001' 5.399178504943848]\n",
            "  [b'348356001001' 5.318217754364014]\n",
            "  [b'100007001001' 5.305787086486816]\n",
            "  [b'257800001001' 5.183775901794434]\n",
            "  [b'157773001001' 5.098323822021484]\n",
            "  [b'210684001001' 5.0428361892700195]\n",
            "  [b'323173001001' 5.028331756591797]\n",
            "  [b'371446001001' 4.884662628173828]\n",
            "  [b'13395001001' 4.81324577331543]\n",
            "  [b'251052001001' 4.7806172370910645]\n",
            "  [b'251025001001' 4.768807888031006]\n",
            "  [b'383086001001' 4.725900650024414]\n",
            "  [b'230387001001' 4.7256388664245605]\n",
            "  [b'164939001001' 4.67186164855957]\n",
            "  [b'348721001001' 4.643793106079102]\n",
            "  [b'157772001001' 4.572381496429443]\n",
            "  [b'313518001001' 4.525941848754883]\n",
            "  [b'212804001001' 4.419712066650391]\n",
            "  [b'323172001001' 4.417242527008057]\n",
            "  [b'300301001001' 4.410361289978027]\n",
            "  [b'41180001001' 4.386767864227295]\n",
            "  [b'201172001001' 4.380451679229736]\n",
            "  [b'201173001001' 4.3506317138671875]\n",
            "  [b'18846001001' 4.342782974243164]\n",
            "  [b'304211001001' 4.323123931884766]\n",
            "  [b'290659001001' 4.302113056182861]\n",
            "  [b'336327001001' 4.301549911499023]\n",
            "  [b'382207001002' 4.298962116241455]\n",
            "  [b'329389001001' 4.282564163208008]\n",
            "  [b'380933001002' 4.273334980010986]\n",
            "  [b'318771001001' 4.24813175201416]\n",
            "  [b'20900001001' 4.2338690757751465]\n",
            "  [b'301686001002' 4.227562427520752]\n",
            "  [b'300318001001' 4.223188400268555]\n",
            "  [b'213540001001' 4.21195650100708]\n",
            "  [b'359569001001' 4.205802917480469]\n",
            "  [b'153792001001' 4.18138313293457]\n",
            "  [b'334718001001' 4.167171478271484]\n",
            "  [b'220796001002' 4.114234924316406]\n",
            "  [b'307130001001' 4.107916831970215]\n",
            "  [b'222431001001' 4.104770660400391]\n",
            "  [b'82196001001' 4.102818965911865]\n",
            "  [b'307076001002' 4.099031448364258]\n",
            "  [b'281830001001' 4.0835676193237305]\n",
            "  [b'99056001001' 4.028872489929199]\n",
            "  [b'201177001001' 3.9934396743774414]\n",
            "  [b'240178001001' 3.9883203506469727]\n",
            "  [b'107311001001' 3.984992504119873]\n",
            "  [b'279772001001' 3.9548144340515137]\n",
            "  [b'201171001001' 3.897448778152466]\n",
            "  [b'329147001001' 3.886759042739868]\n",
            "  [b'324175001001' 3.8835268020629883]\n",
            "  [b'201153001001' 3.8387014865875244]\n",
            "  [b'125900001002' 3.8340961933135986]\n",
            "  [b'99808001001' 3.792494058609009]\n",
            "  [b'377852001001' 3.775228977203369]\n",
            "  [b'374201001001' 3.7716212272644043]\n",
            "  [b'384937001001' 3.7197508811950684]\n",
            "  [b'28195001003' 3.7115516662597656]\n",
            "  [b'32164001003' 3.7045278549194336]\n",
            "  [b'135149001001' 3.687777280807495]\n",
            "  [b'20899001001' 3.6773123741149902]\n",
            "  [b'383929001001' 3.6575353145599365]\n",
            "  [b'251053001001' 3.642108917236328]\n",
            "  [b'220798001002' 3.565019130706787]\n",
            "  [b'376142001002' 3.5581560134887695]\n",
            "  [b'298218001001' 3.553389072418213]\n",
            "  [b'379974001002' 3.538567543029785]\n",
            "  [b'135152001001' 3.5270590782165527]\n",
            "  [b'384161001001' 3.4990758895874023]\n",
            "  [b'31246001001' 3.4853878021240234]\n",
            "  [b'126433001001' 3.479145050048828]\n",
            "  [b'380320001001' 3.474217176437378]\n",
            "  [b'376408001001' 3.467381477355957]\n",
            "  [b'313498001001' 3.4538724422454834]\n",
            "  [b'30101001001' 3.441555976867676]\n",
            "  [b'324760001001' 3.42875599861145]\n",
            "  [b'242403001001' 3.42875075340271]\n",
            "  [b'337824001001' 3.4272162914276123]\n",
            "  [b'135156001001' 3.411055088043213]\n",
            "  [b'244380001001' 3.407496213912964]\n",
            "  [b'133612001001' 3.3934876918792725]\n",
            "  [b'189005001001' 3.378504753112793]\n",
            "  [b'319965001001' 3.3720955848693848]\n",
            "  [b'357989001001' 3.3682971000671387]\n",
            "  [b'269382001001' 3.368156909942627]\n",
            "  [b'385688001001' 3.337069511413574]\n",
            "  [b'36824001001' 3.317556381225586]\n",
            "  [b'218953001001' 3.315342426300049]\n",
            "  [b'248558001001' 3.2856063842773438]\n",
            "  [b'384456001001' 3.282538414001465]\n",
            "  [b'348668001001' 3.27960467338562]\n",
            "  [b'341796001001' 3.2759251594543457]\n",
            "  [b'376406001001' 3.2599034309387207]\n",
            "  [b'375704001001' 3.2587549686431885]\n",
            "  [b'324201001001' 3.2542343139648438]\n",
            "  [b'364807001001' 3.239583969116211]\n",
            "  [b'314792001001' 3.233668088912964]]]\n"
          ]
        },
        {
          "output_type": "stream",
          "name": "stderr",
          "text": [
            "WARNING:tensorflow:Layers in a Sequential model should only have a single input tensor. Received: inputs={'customer_id': <tf.Tensor 'customer_id:0' shape=(None,) dtype=string>, 'city': <tf.Tensor 'city:0' shape=(None,) dtype=string>, 'revenue': <tf.Tensor 'revenue:0' shape=(None,) dtype=int64>}. Consider rewriting this model with the Functional API.\n",
            "WARNING:tensorflow:Layers in a Sequential model should only have a single input tensor. Received: inputs={'customer_id': <tf.Tensor 'inputs_1:0' shape=(None,) dtype=string>, 'city': <tf.Tensor 'inputs:0' shape=(None,) dtype=string>, 'revenue': <tf.Tensor 'inputs_2:0' shape=(None,) dtype=int64>}. Consider rewriting this model with the Functional API.\n",
            "WARNING:tensorflow:Layers in a Sequential model should only have a single input tensor. Received: inputs={'customer_id': <tf.Tensor 'inputs_1:0' shape=(None,) dtype=string>, 'city': <tf.Tensor 'inputs:0' shape=(None,) dtype=string>, 'revenue': <tf.Tensor 'inputs_2:0' shape=(None,) dtype=int64>}. Consider rewriting this model with the Functional API.\n",
            "WARNING:tensorflow:Layers in a Sequential model should only have a single input tensor. Received: inputs={'customer_id': <tf.Tensor 'customer_id:0' shape=(None,) dtype=string>, 'city': <tf.Tensor 'city:0' shape=(None,) dtype=string>, 'revenue': <tf.Tensor 'revenue:0' shape=(None,) dtype=int64>}. Consider rewriting this model with the Functional API.\n",
            "WARNING:tensorflow:Layers in a Sequential model should only have a single input tensor. Received: inputs={'customer_id': <tf.Tensor 'customer_id:0' shape=(None,) dtype=string>, 'city': <tf.Tensor 'city:0' shape=(None,) dtype=string>, 'revenue': <tf.Tensor 'revenue:0' shape=(None,) dtype=int64>}. Consider rewriting this model with the Functional API.\n",
            "WARNING:tensorflow:Layers in a Sequential model should only have a single input tensor. Received: inputs={'customer_id': <tf.Tensor 'queries_customer_id:0' shape=(None,) dtype=string>, 'city': <tf.Tensor 'queries_city:0' shape=(None,) dtype=string>, 'revenue': <tf.Tensor 'queries_revenue:0' shape=(None,) dtype=int64>}. Consider rewriting this model with the Functional API.\n",
            "WARNING:tensorflow:Layers in a Sequential model should only have a single input tensor. Received: inputs={'customer_id': <tf.Tensor 'queries_customer_id:0' shape=(None,) dtype=string>, 'city': <tf.Tensor 'queries_city:0' shape=(None,) dtype=string>, 'revenue': <tf.Tensor 'queries_revenue:0' shape=(None,) dtype=int64>}. Consider rewriting this model with the Functional API.\n",
            "WARNING:tensorflow:Layers in a Sequential model should only have a single input tensor. Received: inputs={'customer_id': <tf.Tensor 'inputs_customer_id:0' shape=(None,) dtype=string>, 'city': <tf.Tensor 'inputs_city:0' shape=(None,) dtype=string>, 'revenue': <tf.Tensor 'inputs_revenue:0' shape=(None,) dtype=int64>}. Consider rewriting this model with the Functional API.\n",
            "WARNING:tensorflow:Layers in a Sequential model should only have a single input tensor. Received: inputs={'customer_id': <tf.Tensor 'inputs_customer_id:0' shape=(None,) dtype=string>, 'city': <tf.Tensor 'inputs_city:0' shape=(None,) dtype=string>, 'revenue': <tf.Tensor 'inputs_revenue:0' shape=(None,) dtype=int64>}. Consider rewriting this model with the Functional API.\n",
            "WARNING:absl:Found untraced functions such as query_with_exclusions while saving (showing 1 of 1). These functions will not be directly callable after loading.\n"
          ]
        },
        {
          "output_type": "stream",
          "name": "stdout",
          "text": [
            "CPU times: user 2d 4h 15min 50s, sys: 3h 12min 19s, total: 2d 7h 28min 10s\n",
            "Wall time: 7h 27s\n"
          ]
        },
        {
          "output_type": "execute_result",
          "data": {
            "text/plain": [
              "(<tf.Tensor: shape=(1, 100), dtype=float32, numpy=\n",
              " array([[5.5485883, 5.415667 , 5.3991785, 5.3182178, 5.305787 , 5.183776 ,\n",
              "         5.098324 , 5.042836 , 5.0283318, 4.8846626, 4.813246 , 4.780617 ,\n",
              "         4.768808 , 4.7259007, 4.725639 , 4.6718616, 4.643793 , 4.5723815,\n",
              "         4.525942 , 4.419712 , 4.4172425, 4.4103613, 4.386768 , 4.3804517,\n",
              "         4.3506317, 4.342783 , 4.323124 , 4.302113 , 4.30155  , 4.298962 ,\n",
              "         4.282564 , 4.273335 , 4.2481318, 4.233869 , 4.2275624, 4.2231884,\n",
              "         4.2119565, 4.205803 , 4.181383 , 4.1671715, 4.114235 , 4.107917 ,\n",
              "         4.1047707, 4.102819 , 4.0990314, 4.0835676, 4.0288725, 3.9934397,\n",
              "         3.9883204, 3.9849925, 3.9548144, 3.8974488, 3.886759 , 3.8835268,\n",
              "         3.8387015, 3.8340962, 3.792494 , 3.775229 , 3.7716212, 3.719751 ,\n",
              "         3.7115517, 3.7045279, 3.6877773, 3.6773124, 3.6575353, 3.642109 ,\n",
              "         3.5650191, 3.558156 , 3.553389 , 3.5385675, 3.527059 , 3.499076 ,\n",
              "         3.4853878, 3.479145 , 3.4742172, 3.4673815, 3.4538724, 3.441556 ,\n",
              "         3.428756 , 3.4287508, 3.4272163, 3.411055 , 3.4074962, 3.3934877,\n",
              "         3.3785048, 3.3720956, 3.368297 , 3.368157 , 3.3370695, 3.3175564,\n",
              "         3.3153424, 3.2856064, 3.2825384, 3.2796047, 3.2759252, 3.2599034,\n",
              "         3.258755 , 3.2542343, 3.239584 , 3.233668 ]], dtype=float32)>,\n",
              " <tf.Tensor: shape=(1, 100), dtype=string, numpy=\n",
              " array([[b'166881001001', b'348354001001', b'183308001001',\n",
              "         b'348356001001', b'100007001001', b'257800001001',\n",
              "         b'157773001001', b'210684001001', b'323173001001',\n",
              "         b'371446001001', b'13395001001', b'251052001001',\n",
              "         b'251025001001', b'383086001001', b'230387001001',\n",
              "         b'164939001001', b'348721001001', b'157772001001',\n",
              "         b'313518001001', b'212804001001', b'323172001001',\n",
              "         b'300301001001', b'41180001001', b'201172001001',\n",
              "         b'201173001001', b'18846001001', b'304211001001',\n",
              "         b'290659001001', b'336327001001', b'382207001002',\n",
              "         b'329389001001', b'380933001002', b'318771001001',\n",
              "         b'20900001001', b'301686001002', b'300318001001',\n",
              "         b'213540001001', b'359569001001', b'153792001001',\n",
              "         b'334718001001', b'220796001002', b'307130001001',\n",
              "         b'222431001001', b'82196001001', b'307076001002',\n",
              "         b'281830001001', b'99056001001', b'201177001001',\n",
              "         b'240178001001', b'107311001001', b'279772001001',\n",
              "         b'201171001001', b'329147001001', b'324175001001',\n",
              "         b'201153001001', b'125900001002', b'99808001001',\n",
              "         b'377852001001', b'374201001001', b'384937001001',\n",
              "         b'28195001003', b'32164001003', b'135149001001', b'20899001001',\n",
              "         b'383929001001', b'251053001001', b'220798001002',\n",
              "         b'376142001002', b'298218001001', b'379974001002',\n",
              "         b'135152001001', b'384161001001', b'31246001001',\n",
              "         b'126433001001', b'380320001001', b'376408001001',\n",
              "         b'313498001001', b'30101001001', b'324760001001',\n",
              "         b'242403001001', b'337824001001', b'135156001001',\n",
              "         b'244380001001', b'133612001001', b'189005001001',\n",
              "         b'319965001001', b'357989001001', b'269382001001',\n",
              "         b'385688001001', b'36824001001', b'218953001001',\n",
              "         b'248558001001', b'384456001001', b'348668001001',\n",
              "         b'341796001001', b'376406001001', b'375704001001',\n",
              "         b'324201001001', b'364807001001', b'314792001001']], dtype=object)>)"
            ]
          },
          "metadata": {},
          "execution_count": 32
        }
      ]
    },
    {
      "cell_type": "code",
      "source": [
        "plt.plot(history.history['factorized_top_k/top_5_categorical_accuracy'])\n",
        "plt.plot(history.history['factorized_top_k/top_10_categorical_accuracy'])\n",
        "plt.plot(history.history['factorized_top_k/top_50_categorical_accuracy'])\n",
        "plt.plot(history.history['factorized_top_k/top_100_categorical_accuracy'])"
      ],
      "metadata": {
        "colab": {
          "base_uri": "https://localhost:8080/",
          "height": 447
        },
        "outputId": "001eeea1-cb9e-43e9-dc78-36d4d0f37c4a",
        "id": "9aa07B_Sg4hf"
      },
      "execution_count": null,
      "outputs": [
        {
          "output_type": "execute_result",
          "data": {
            "text/plain": [
              "[<matplotlib.lines.Line2D at 0x7baafb0c5870>]"
            ]
          },
          "metadata": {},
          "execution_count": 33
        },
        {
          "output_type": "display_data",
          "data": {
            "text/plain": [
              "<Figure size 640x480 with 1 Axes>"
            ],
            "image/png": "[encoded data removed]"
          },
          "metadata": {}
        }
      ]
    },
    {
      "cell_type": "markdown",
      "source": [
        "## Testing model"
      ],
      "metadata": {
        "id": "_87TuNYNg8bE"
      }
    },
    {
      "cell_type": "code",
      "source": [
        "path = '/content/drive/MyDrive/Work/C4R/Metro/Models/complex_input'"
      ],
      "metadata": {
        "id": "XDBIJo3tg8bE"
      },
      "execution_count": null,
      "outputs": []
    },
    {
      "cell_type": "code",
      "source": [
        "loaded = tf.saved_model.load(path)\n",
        "\n",
        "loaded"
      ],
      "metadata": {
        "colab": {
          "base_uri": "https://localhost:8080/"
        },
        "outputId": "f5f43ba4-f0d2-4646-e1d9-1f7de5bc6f02",
        "id": "uOhiXzwsg8bF"
      },
      "execution_count": null,
      "outputs": [
        {
          "output_type": "execute_result",
          "data": {
            "text/plain": [
              "<tensorflow.python.saved_model.load.Loader._recreate_base_user_object.<locals>._UserObject at 0x78784b127a90>"
            ]
          },
          "metadata": {},
          "execution_count": 40
        }
      ]
    },
    {
      "cell_type": "code",
      "source": [
        "buyer_info = {'customer_id': np.array([b'330067026301'], dtype='|S12'),\n",
        " 'city': np.array([b'KYIV'], dtype='|S4'),\n",
        " 'revenue': np.array([91389])}\n",
        "\n",
        "buyer_info\n"
      ],
      "metadata": {
        "colab": {
          "base_uri": "https://localhost:8080/"
        },
        "outputId": "d4184e7f-505d-4941-ee6f-5e290e72f738",
        "id": "jfk62pImg8bF"
      },
      "execution_count": null,
      "outputs": [
        {
          "output_type": "execute_result",
          "data": {
            "text/plain": [
              "{'customer_id': array([b'330067026301'], dtype='|S12'),\n",
              " 'city': array([b'KYIV'], dtype='|S4'),\n",
              " 'revenue': array([91389])}"
            ]
          },
          "metadata": {},
          "execution_count": 41
        }
      ]
    },
    {
      "cell_type": "code",
      "source": [
        "loaded(buyer_info)"
      ],
      "metadata": {
        "colab": {
          "base_uri": "https://localhost:8080/"
        },
        "outputId": "dc7a0c87-3a42-405c-d192-70909d7d542f",
        "id": "wX1Hvn5wg8bF"
      },
      "execution_count": null,
      "outputs": [
        {
          "output_type": "execute_result",
          "data": {
            "text/plain": [
              "(<tf.Tensor: shape=(1, 100), dtype=float32, numpy=\n",
              " array([[0.75180477, 0.6714635 , 0.64938724, 0.6353227 , 0.62982535,\n",
              "         0.61838734, 0.6164228 , 0.6163168 , 0.61302835, 0.6129947 ,\n",
              "         0.606409  , 0.6040448 , 0.60399526, 0.60155344, 0.6009756 ,\n",
              "         0.59922534, 0.5969476 , 0.5901873 , 0.5792782 , 0.5787154 ,\n",
              "         0.5654048 , 0.5563152 , 0.5556531 , 0.5552453 , 0.5522891 ,\n",
              "         0.5439477 , 0.5396591 , 0.5380825 , 0.53641725, 0.53561795,\n",
              "         0.53386265, 0.530015  , 0.52978635, 0.52768767, 0.52640384,\n",
              "         0.52634716, 0.5221656 , 0.5132313 , 0.5125191 , 0.51193976,\n",
              "         0.51167566, 0.5095954 , 0.5093968 , 0.5092213 , 0.50875324,\n",
              "         0.50825   , 0.5080611 , 0.5075394 , 0.5070076 , 0.50412965,\n",
              "         0.503091  , 0.49973798, 0.49932605, 0.49662486, 0.49651015,\n",
              "         0.49554792, 0.49505866, 0.4947426 , 0.4915099 , 0.49101853,\n",
              "         0.49055272, 0.4900565 , 0.49002844, 0.48805982, 0.48669818,\n",
              "         0.48659405, 0.48646048, 0.48639047, 0.48612162, 0.4851871 ,\n",
              "         0.485143  , 0.48240834, 0.48186898, 0.47999406, 0.4795642 ,\n",
              "         0.47824907, 0.47533542, 0.47434926, 0.4740287 , 0.47357935,\n",
              "         0.47098178, 0.47034308, 0.46961796, 0.4684427 , 0.46607625,\n",
              "         0.46600416, 0.4657895 , 0.46444038, 0.46405125, 0.46360648,\n",
              "         0.46359682, 0.4621336 , 0.4618504 , 0.46121234, 0.45905662,\n",
              "         0.45851022, 0.45758557, 0.4503348 , 0.45030063, 0.44846174]],\n",
              "       dtype=float32)>,\n",
              " <tf.Tensor: shape=(1, 100), dtype=string, numpy=\n",
              " array([[b'372431001001', b'197278001001', b'284211001001',\n",
              "         b'318579001001', b'302262001001', b'182589001001',\n",
              "         b'369047002001', b'221733001001', b'295730001001',\n",
              "         b'260021001001', b'182583001001', b'302260001001',\n",
              "         b'292328001001', b'376952001001', b'330482001001',\n",
              "         b'388176001001', b'374137001001', b'264874001001',\n",
              "         b'284209001001', b'192547001001', b'327079001001',\n",
              "         b'231451001001', b'245479001001', b'225159001001',\n",
              "         b'100360001001', b'308287001001', b'125775001001',\n",
              "         b'327587001001', b'192752001001', b'286268001001',\n",
              "         b'306344001001', b'243999001001', b'230093001001',\n",
              "         b'182581001001', b'350156001001', b'73792001001',\n",
              "         b'371482001001', b'293759001001', b'384351001001',\n",
              "         b'56245001001', b'375408001001', b'378627001001',\n",
              "         b'318898001001', b'318747001001', b'223144001001',\n",
              "         b'229145001001', b'324729001001', b'381376001001',\n",
              "         b'247636001001', b'369047001001', b'304707001001',\n",
              "         b'304051001001', b'281052002001', b'357992001001',\n",
              "         b'358553001001', b'380282001001', b'384161001001',\n",
              "         b'245740001001', b'182585001001', b'367390001001',\n",
              "         b'384919001001', b'340325001001', b'228245001001',\n",
              "         b'302258001001', b'281275001001', b'10849001001',\n",
              "         b'197277001001', b'252786001002', b'292217001001',\n",
              "         b'300935001001', b'373389001001', b'64303001001', b'73791001001',\n",
              "         b'284636001001', b'380925001001', b'251254001001',\n",
              "         b'383926001001', b'343733001001', b'324438001001',\n",
              "         b'218468001001', b'245981001001', b'292831001001',\n",
              "         b'293676001001', b'338430001001', b'332584001001',\n",
              "         b'317054001001', b'335791001001', b'332210001001',\n",
              "         b'383750001001', b'340970001001', b'312695001001',\n",
              "         b'274701001001', b'386514001001', b'375409001001',\n",
              "         b'384346001001', b'380142001001', b'336942001001',\n",
              "         b'374579001001', b'382407001001', b'29766001001']], dtype=object)>)"
            ]
          },
          "metadata": {},
          "execution_count": 42
        }
      ]
    },
    {
      "cell_type": "code",
      "source": [
        "# Create an iterator over the dataset\n",
        "iterator = client_ds.shuffle(buffer_size=1000).take(1).as_numpy_iterator()\n",
        "\n",
        "# Iterate over the elements and extract values\n",
        "for elem in iterator:\n",
        "    buyer_info = {\n",
        "        'customer_id': np.array([elem['customer_id']]),\n",
        "        # 'segment': np.array([elem['segment']]),\n",
        "        'city': np.array([elem['city']]),\n",
        "        # 'ts': np.array([elem['ts']]),\n",
        "        # 'visits': np.array([elem['visits']]),\n",
        "        'revenue': np.array([elem['revenue']]),\n",
        "        # 'category': np.array([elem['category']]),\n",
        "        # 'articul': np.array([elem['articul']]),\n",
        "        # 'sub_category': np.array([elem['sub_category']])\n",
        "    }\n",
        "    extracted_id = np.array(elem['product_id']).astype(int)\n",
        "\n",
        "# product_row = articles_df[articles_df['product_id'] == extracted_id]\n",
        "\n",
        "# print(product_row[['art_name', 'pcg_cat_desc_tl', 'pcg_sub_cat_desc']])\n",
        "\n",
        "print(buyer_info)\n"
      ],
      "metadata": {
        "colab": {
          "base_uri": "https://localhost:8080/"
        },
        "outputId": "bcefd3b9-52dc-43b5-9fb8-09eda8d9fbb4",
        "id": "U79MjMg9g8bF"
      },
      "execution_count": null,
      "outputs": [
        {
          "output_type": "stream",
          "name": "stdout",
          "text": [
            "{'customer_id': array([b'330067027001'], dtype='|S12'), 'city': array([b'KYIV'], dtype='|S4'), 'revenue': array([61803])}\n"
          ]
        }
      ]
    },
    {
      "cell_type": "code",
      "source": [],
      "metadata": {
        "id": "u0zyottfg8bF"
      },
      "execution_count": null,
      "outputs": []
    }
  ]
}