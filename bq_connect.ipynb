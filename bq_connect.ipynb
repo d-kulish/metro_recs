{
 "cells": [
  {
   "cell_type": "code",
   "execution_count": 1,
   "id": "9a322910-45bf-4257-a2ff-25be3f61a2b0",
   "metadata": {},
   "outputs": [],
   "source": [
    "from google.cloud import bigquery\n",
    "import pandas as pd \n",
    "import pandas_gbq"
   ]
  },
  {
   "cell_type": "code",
   "execution_count": 2,
   "id": "bf34acbb-cc87-44e8-9a76-493f928a3d56",
   "metadata": {},
   "outputs": [],
   "source": [
    "project_id = 'cf-mccuagcf-recommenders-ht'\n",
    "location = 'EU'"
   ]
  },
  {
   "cell_type": "code",
   "execution_count": 3,
   "id": "5d764281-ccc8-4a27-9a2a-1d44e6747f4d",
   "metadata": {},
   "outputs": [],
   "source": [
    "client = bigquery.Client(project=project_id, location = location)"
   ]
  },
  {
   "cell_type": "code",
   "execution_count": 4,
   "id": "f53f5d1e-c181-4e32-a783-d20676bf1857",
   "metadata": {},
   "outputs": [],
   "source": [
    "dataset_id = 'segmentation' "
   ]
  },
  {
   "cell_type": "code",
   "execution_count": 5,
   "id": "ebc90833-d7c3-4e7f-a4d5-05bc49f5027b",
   "metadata": {},
   "outputs": [],
   "source": [
    "existing_query = f\"\"\"\n",
    "        SELECT DISTINCT month_id \n",
    "        FROM `{project_id}.{dataset_id}.ml_bi_invoices_tbl`\n",
    "        ORDER BY month_id DESC\n",
    "        \"\"\""
   ]
  },
  {
   "cell_type": "code",
   "execution_count": 6,
   "id": "47e8bdfb-6761-4d67-9595-630bac1bc812",
   "metadata": {},
   "outputs": [],
   "source": [
    "result = client.query(existing_query).to_dataframe()"
   ]
  },
  {
   "cell_type": "code",
   "execution_count": 7,
   "id": "16207199-4979-43d4-9e7d-1af7a253ea92",
   "metadata": {},
   "outputs": [
    {
     "data": {
      "text/html": [
       "<div>\n",
       "<style scoped>\n",
       "    .dataframe tbody tr th:only-of-type {\n",
       "        vertical-align: middle;\n",
       "    }\n",
       "\n",
       "    .dataframe tbody tr th {\n",
       "        vertical-align: top;\n",
       "    }\n",
       "\n",
       "    .dataframe thead th {\n",
       "        text-align: right;\n",
       "    }\n",
       "</style>\n",
       "<table border=\"1\" class=\"dataframe\">\n",
       "  <thead>\n",
       "    <tr style=\"text-align: right;\">\n",
       "      <th></th>\n",
       "      <th>month_id</th>\n",
       "    </tr>\n",
       "  </thead>\n",
       "  <tbody>\n",
       "    <tr>\n",
       "      <th>2</th>\n",
       "      <td>202505</td>\n",
       "    </tr>\n",
       "    <tr>\n",
       "      <th>3</th>\n",
       "      <td>202504</td>\n",
       "    </tr>\n",
       "    <tr>\n",
       "      <th>4</th>\n",
       "      <td>202503</td>\n",
       "    </tr>\n",
       "    <tr>\n",
       "      <th>5</th>\n",
       "      <td>202502</td>\n",
       "    </tr>\n",
       "    <tr>\n",
       "      <th>6</th>\n",
       "      <td>202501</td>\n",
       "    </tr>\n",
       "  </tbody>\n",
       "</table>\n",
       "</div>"
      ],
      "text/plain": [
       "   month_id\n",
       "2    202505\n",
       "3    202504\n",
       "4    202503\n",
       "5    202502\n",
       "6    202501"
      ]
     },
     "execution_count": 7,
     "metadata": {},
     "output_type": "execute_result"
    }
   ],
   "source": [
    "result.tail()"
   ]
  },
  {
   "cell_type": "code",
   "execution_count": null,
   "id": "e8cee1f9-f02a-4d59-b345-7a49c10124c4",
   "metadata": {},
   "outputs": [],
   "source": []
  }
 ],
 "metadata": {
  "environment": {
   "kernel": "conda-env-tensorflow-tensorflow",
   "name": "workbench-notebooks.m130",
   "type": "gcloud",
   "uri": "us-docker.pkg.dev/deeplearning-platform-release/gcr.io/workbench-notebooks:m130"
  },
  "kernelspec": {
   "display_name": "TensorFlow 2-11 (Local)",
   "language": "python",
   "name": "conda-env-tensorflow-tensorflow"
  },
  "language_info": {
   "codemirror_mode": {
    "name": "ipython",
    "version": 3
   },
   "file_extension": ".py",
   "mimetype": "text/x-python",
   "name": "python",
   "nbconvert_exporter": "python",
   "pygments_lexer": "ipython3",
   "version": "3.10.18"
  }
 },
 "nbformat": 4,
 "nbformat_minor": 5
}
