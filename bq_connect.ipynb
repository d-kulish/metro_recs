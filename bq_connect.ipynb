{
 "cells": [
  {
   "cell_type": "code",
   "execution_count": null,
   "id": "9a322910-45bf-4257-a2ff-25be3f61a2b0",
   "metadata": {},
   "outputs": [],
   "source": [
    "from google.cloud import bigquery\n",
    "import pandas as pd\n",
    "import pandas_gbq\n"
   ]
  },
  {
   "cell_type": "code",
   "execution_count": null,
   "id": "bf34acbb-cc87-44e8-9a76-493f928a3d56",
   "metadata": {},
   "outputs": [],
   "source": [
    "project_id = \"cf-mccuagcf-recommenders-ht\"\n",
    "location = \"EU\"\n"
   ]
  },
  {
   "cell_type": "code",
   "execution_count": null,
   "id": "5d764281-ccc8-4a27-9a2a-1d44e6747f4d",
   "metadata": {},
   "outputs": [],
   "source": [
    "client = bigquery.Client(project=project_id, location=location)\n"
   ]
  },
  {
   "cell_type": "code",
   "execution_count": null,
   "id": "f53f5d1e-c181-4e32-a783-d20676bf1857",
   "metadata": {},
   "outputs": [],
   "source": [
    "dataset_id = \"segmentation\"\n"
   ]
  },
  {
   "cell_type": "code",
   "execution_count": null,
   "id": "ebc90833-d7c3-4e7f-a4d5-05bc49f5027b",
   "metadata": {},
   "outputs": [],
   "source": [
    "existing_query = f\"\"\"\n",
    "        SELECT DISTINCT month_id \n",
    "        FROM `{project_id}.{dataset_id}.ml_bi_invoices_tbl`\n",
    "        ORDER BY month_id DESC\n",
    "        \"\"\"\n"
   ]
  },
  {
   "cell_type": "code",
   "execution_count": null,
   "id": "47e8bdfb-6761-4d67-9595-630bac1bc812",
   "metadata": {},
   "outputs": [],
   "source": [
    "result = client.query(existing_query).to_dataframe()\n",
    "print(result.head())\n"
   ]
  },
  {
   "cell_type": "code",
   "execution_count": null,
   "id": "057eb159",
   "metadata": {},
   "outputs": [],
   "source": [
    "# Test the main query for the pipeline\n",
    "test_query = \"\"\"\n",
    "SELECT\n",
    "  invoices.cust_person_id,\n",
    "  invoices.date_of_day,\n",
    "  (invoices.art_no * 1000000 + invoices.var_tu_key) AS product_id,\n",
    "  invoices.sell_val_nsp,\n",
    "  stores.city\n",
    "FROM\n",
    "  `cf-mccuagcf-recommenders-ht.segmentation.ml_bi_invoices_tbl` AS invoices\n",
    "LEFT JOIN\n",
    "  `cf-mccuagcf-recommenders-ht.segmentation.ml_bi_stores_tbl` AS stores\n",
    "ON\n",
    "  invoices.store_id = stores.store_id\n",
    "WHERE\n",
    "  invoices.month_id = 202506\n",
    "  AND invoices.flag_cust_target_group = \"SCO\"\n",
    "  AND sell_val_nsp > 0\n",
    "  AND city = \"TERNOPIL\"\n",
    "LIMIT 1000\n",
    "\"\"\"\n",
    "\n",
    "test_result = client.query(test_query).to_dataframe()\n",
    "print(f\"Query returned {len(test_result)} rows\")\n",
    "print(test_result.head())\n"
   ]
  },
  {
   "cell_type": "code",
   "execution_count": null,
   "id": "1b01206c",
   "metadata": {},
   "outputs": [],
   "source": [
    "# Verify data types and structure\n",
    "print(f\"Data types:\\n{test_result.dtypes}\")\n",
    "print(f\"Unique users: {test_result['cust_person_id'].nunique()}\")\n",
    "print(f\"Unique products: {test_result['product_id'].nunique()}\")\n"
   ]
  }
 ],
 "metadata": {
  "environment": {
   "kernel": "conda-env-tensorflow-tensorflow",
   "name": "workbench-notebooks.m130",
   "type": "gcloud",
   "uri": "us-docker.pkg.dev/deeplearning-platform-release/gcr.io/workbench-notebooks:m130"
  },
  "kernelspec": {
   "display_name": "TensorFlow 2-11 (Local)",
   "language": "python",
   "name": "conda-env-tensorflow-tensorflow"
  },
  "language_info": {
   "codemirror_mode": {
    "name": "ipython",
    "version": 3
   },
   "file_extension": ".py",
   "mimetype": "text/x-python",
   "name": "python",
   "nbconvert_exporter": "python",
   "pygments_lexer": "ipython3",
   "version": "3.10.18"
  }
 },
 "nbformat": 4,
 "nbformat_minor": 5
}
